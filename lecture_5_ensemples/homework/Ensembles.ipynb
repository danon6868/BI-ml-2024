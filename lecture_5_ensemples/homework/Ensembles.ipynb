{
 "cells": [
  {
   "cell_type": "code",
   "execution_count": 119,
   "id": "9b21216d-37c8-406a-a8bf-5642cff16bb7",
   "metadata": {},
   "outputs": [],
   "source": [
    "import numpy as np\n",
    "import matplotlib.pyplot as plt\n",
    "import seaborn as sns\n",
    "import warnings\n",
    "import random\n",
    "import math\n",
    "import pandas as pd\n",
    "import xgboost\n",
    "import lightgbm\n",
    "import catboost\n",
    "\n",
    "from matplotlib.colors import ListedColormap\n",
    "from scipy.stats import pearsonr\n",
    "from itertools import combinations\n",
    "from sklearn.base import BaseEstimator\n",
    "from sklearn import datasets\n",
    "from sklearn.model_selection import train_test_split\n",
    "from sklearn.ensemble import (RandomForestClassifier,\n",
    "                              ExtraTreesClassifier,\n",
    "                              VotingClassifier)\n",
    "from sklearn.tree import (DecisionTreeRegressor,\n",
    "                          DecisionTreeClassifier)\n",
    "from sklearn.neighbors import KNeighborsClassifier\n",
    "from sklearn.svm import SVC\n",
    "from sklearn.linear_model import LogisticRegression\n",
    "from sklearn.naive_bayes import GaussianNB\n",
    "from sklearn.model_selection import cross_val_score"
   ]
  },
  {
   "cell_type": "code",
   "execution_count": 19,
   "id": "e0cbb7f2-2038-4e1b-8c39-ca20b7b332a2",
   "metadata": {},
   "outputs": [],
   "source": [
    "plt.rcParams[\"figure.figsize\"] = 12, 9\n",
    "sns.set_style(\"whitegrid\")\n",
    "warnings.filterwarnings(\"ignore\")\n",
    "\n",
    "SEED = 111\n",
    "random.seed(SEED)\n",
    "np.random.seed(SEED)"
   ]
  },
  {
   "cell_type": "markdown",
   "id": "5ab161b1-2231-4464-96f9-bb9ae0c3d1ed",
   "metadata": {},
   "source": [
    "### Задание 1. Bias-variance trade-off\n",
    "\n",
    "**2 балла**\n",
    "\n",
    "Продемонстрируйте bias-variance trade-off для `DecisionTreeRegressor` при изменении глубины дерева. Постройте регрессионную модель функции от одной независимой переменной, представленной в ячейке ниже, используя функцию `plot_regression_predictions` (можете ее как-то поменять, если захочется). Попробуйте разные значения глубины деревьев, при каком значении, на ваш взгляд, модель оптимальна, при каком variance становится слишком большим?"
   ]
  },
  {
   "cell_type": "code",
   "execution_count": 46,
   "id": "563b781e-78dd-4679-b0b0-3e70a064cfd7",
   "metadata": {},
   "outputs": [
    {
     "data": {
      "image/png": "[encoded data removed]",
      "text/plain": [
       "<Figure size 864x648 with 1 Axes>"
      ]
     },
     "metadata": {},
     "output_type": "display_data"
    }
   ],
   "source": [
    "# Сгенерируем какую-нибудь необычную зависимость и научимся ее предсказывать\n",
    "np.random.seed(42)\n",
    "m = 300\n",
    "X = np.linspace(-3, 3, m).reshape(-1, 1)\n",
    "y = (3 + 2/np.pi * np.arcsin(np.cos(10 * X))) * X\n",
    "y = y + np.random.randn(m, 1) / 3\n",
    "plt.plot(X.reshape(-1), y.reshape(-1), \"b.\");"
   ]
  },
  {
   "cell_type": "code",
   "execution_count": 43,
   "id": "7d7c9c3d-5d4e-43a8-9946-3bde8c5b6e85",
   "metadata": {},
   "outputs": [],
   "source": [
    "# Функция для отрисовки предсказаний деревьев решений в случае регрессии\n",
    "def plot_regression_predictions(tree_reg, X, y, axes=[-3, 3, -10, 10], ylabel=\"$y$\"):\n",
    "    x1 = np.linspace(axes[0], axes[1], 500).reshape(-1, 1)\n",
    "    y_pred = tree_reg.predict(x1)\n",
    "    plt.axis(axes)\n",
    "    plt.xlabel(\"$x_1$\", fontsize=18)\n",
    "    if ylabel:\n",
    "        plt.ylabel(ylabel, fontsize=18, rotation=0)\n",
    "\n",
    "    plt.plot(x1, y_pred, linewidth=2, label=r\"$\\hat{y}$\")"
   ]
  },
  {
   "cell_type": "markdown",
   "id": "243e15dc-2e23-42dc-b252-828c9a6b1e00",
   "metadata": {},
   "source": [
    "Изобразите, как меняются предсказания дерева при увеличении максимальной глубины (можно взять что-то в диапазоне от 1 до 15):"
   ]
  },
  {
   "cell_type": "code",
   "execution_count": 2,
   "id": "a8191bd8-71c5-4902-9f17-5b3b46943074",
   "metadata": {},
   "outputs": [],
   "source": [
    "## ENTER YOUR CODE HERE (/¯◡ ‿ ◡)/¯☆*##"
   ]
  },
  {
   "cell_type": "code",
   "execution_count": null,
   "id": "ff1a7668-6c5b-4817-98fd-78337f3e9685",
   "metadata": {},
   "outputs": [],
   "source": []
  },
  {
   "cell_type": "markdown",
   "id": "b185effa-2fd7-496a-a5f6-f802d6a32eea",
   "metadata": {},
   "source": [
    "### Задание 2. Random forest\n",
    "\n",
    "Теперь давайте немного подготовимся к тому, чтобы реализовать свой собственный случайный лес, а потом реализуем его."
   ]
  },
  {
   "cell_type": "markdown",
   "id": "573cfb4a-1fc3-4c0f-b165-a4ab6a341843",
   "metadata": {},
   "source": [
    "#### Задание 2. 1. Простое ансамблирование\n",
    "\n",
    "**1 балла**\n",
    "\n",
    "Представим, что у нас есть 101 классификатор. Каждый может с вероятностью `p` (равной для всех моделей) правильно предсказать класс объекта. Будем делать предсказания по большинству голосов (majority vote). Постройте зависимость вероятности правильно классифицировать объект от значения `p`. Вам может быть полезная следующая формула:"
   ]
  },
  {
   "cell_type": "markdown",
   "id": "9a47cc99-0337-4831-bc83-5dc09dc55e52",
   "metadata": {},
   "source": [
    "$$ \\large \\mu = \\sum_ {i = 51} ^ {101} C_{101} ^ ip ^ i (1-p) ^ {101-i} $$"
   ]
  },
  {
   "cell_type": "code",
   "execution_count": 3,
   "id": "f398cc1a-c87a-4b6e-97fc-6c6355c6c4ab",
   "metadata": {},
   "outputs": [],
   "source": [
    "## ENTER YOUR CODE HERE (/¯◡ ‿ ◡)/¯☆*##"
   ]
  },
  {
   "cell_type": "code",
   "execution_count": null,
   "id": "33d1ecd5-b310-4106-915a-2f7afb26f608",
   "metadata": {},
   "outputs": [],
   "source": []
  },
  {
   "cell_type": "markdown",
   "id": "b3d10f32-08d6-4a78-a167-82818f8acd93",
   "metadata": {},
   "source": [
    "А теперь давайте посмотрим на другую ситуацию. У нас есть фиксированная вероятность того, что модель правильно классифицирует объект `p = 0.65`. Постройте зависимость вероятности правильно классифицировать объект от числа моделей в ансамбле."
   ]
  },
  {
   "cell_type": "code",
   "execution_count": 4,
   "id": "3f6736e1-bfaf-4a90-bc8f-a2eae5e09dee",
   "metadata": {},
   "outputs": [],
   "source": [
    "## ENTER YOUR CODE HERE (/¯◡ ‿ ◡)/¯☆*##"
   ]
  },
  {
   "cell_type": "code",
   "execution_count": null,
   "id": "67a5606e-4e84-46cc-a092-c63d299108e2",
   "metadata": {},
   "outputs": [],
   "source": []
  },
  {
   "cell_type": "markdown",
   "id": "a3d929c1-3c47-4c09-ac74-d5a5f206b66e",
   "metadata": {},
   "source": [
    "Опишите ваши наблюдения:\n",
    "\n",
    "* ...\n",
    "* ..."
   ]
  },
  {
   "cell_type": "markdown",
   "id": "a8914245-d761-4ce3-9836-7d832aea7005",
   "metadata": {},
   "source": [
    "#### Задание 2. 2. Реализация простого RF\n",
    "\n",
    "**4 балла**\n",
    "\n",
    "Реализуйте свой собственный класс `RandomForestClassifierCustom`, используя в качестве базовой модели `DecisionTreeClassifier` из `sklearn`.\n",
    "\n",
    "Небольшое описание:\n",
    "- Используйте приведенный ниже код\n",
    "- В методе `fit` в цикле (`i` от 0 до `n_estimators-1`):\n",
    "    * Зафиксируйте генератор случайных чисел следующим образом np.random.seed(`random_state + i`). Идея в том, что на каждой итерации у нас будет новое значение для генератора случайных чисел, что добавит побольше \"случайности\", но в то же время мы сможем иметь воспроизводимые результаты\n",
    "    * После чего выберите `max_features` признаков **без возвращения/without replacement**, сохраните список выбранных признаков (их индексов) в `self.feat_ids_by_tree`\n",
    "    * Также создайте псевдовыборку при помощи бутстрэпа (выбор **с возвращением/with replacement**) из тренировочных данных. Может помочь функция `np.random.choice` и ее аргумент `replace`\n",
    "    * Обучите дерево решений с параметрами, заданными в конструкторе класса `max_depth`, `max_features` и `random_state` на полученной псевдовыборке.\n",
    "- Метод `fit` должен возвращать текущий экземпляр класса `RandomForestClassifierCustom`, то есть `self` (все по-взрослому, как в `sklearn`)\n",
    "- В методе `predict_proba` мы должны пройти циклом по всем деревьям. Для каждого предсказания, нам нужно будет брать только те признаки, на которых училось изначальное дерево, поэтому мы и сохраняли эту информацию в артрибуте `self.feat_ids_by_tree`. Этот метод должен возвращать предсказанные вероятности (можно делать двумя способами: для каждого дерева предсказывать значение при помощи метода `predict_proba` и потом усреднять эти вероятности, или к примеру пользоваться методом `predict` и также считать среднее."
   ]
  },
  {
   "cell_type": "code",
   "execution_count": 94,
   "id": "c19fa91b-815f-4e65-bac7-5f218ccd4dfe",
   "metadata": {},
   "outputs": [],
   "source": [
    "class RandomForestClassifierCustom(BaseEstimator):\n",
    "    def __init__(\n",
    "        self, n_estimators=10, max_depth=None, max_features=None, random_state=SEED\n",
    "    ):\n",
    "        self.n_estimators = n_estimators\n",
    "        self.max_depth = max_depth\n",
    "        self.max_features = max_features\n",
    "        self.random_state = random_state\n",
    "\n",
    "        self.trees = []\n",
    "        self.feat_ids_by_tree = []\n",
    "\n",
    "    def fit(self, X, y):\n",
    "        self.classes_ = sorted(np.unique(y))\n",
    "        \n",
    "        ## ENTER YOUR CODE HERE (/¯◡ ‿ ◡)/¯☆*##\n",
    "        pass\n",
    "\n",
    "    def predict_proba(self, X):\n",
    "        ## ENTER YOUR CODE HERE (/¯◡ ‿ ◡)/¯☆*##\n",
    "        pass\n",
    "    \n",
    "    def predict(self, X):\n",
    "        probas = self.predict_proba(X)\n",
    "        predictions = np.argmax(probas, axis=1)\n",
    "        \n",
    "        return predictions"
   ]
  },
  {
   "cell_type": "markdown",
   "id": "2d011ba4-85f2-453a-b284-78e711ab1733",
   "metadata": {},
   "source": [
    "Протестируем нашу реализацию на искусственных данных. Визуализируйте разделяющую границу, которую рисует ваша модель при помощи функции `plot_decision_boundary` (см. примеры в лекции)."
   ]
  },
  {
   "cell_type": "code",
   "execution_count": 70,
   "id": "4e67ff2b-62a9-4f94-8bb2-7f5c1636999d",
   "metadata": {},
   "outputs": [],
   "source": [
    "def plot_decision_boundary(clf, X, y, axes=[-1.5, 2.5, -1, 1.5], alpha=0.5, contour=True):\n",
    "    x1s = np.linspace(axes[0], axes[1], 100)\n",
    "    x2s = np.linspace(axes[2], axes[3], 100)\n",
    "    x1, x2 = np.meshgrid(x1s, x2s)\n",
    "    X_new = np.c_[x1.ravel(), x2.ravel()]\n",
    "    y_pred = clf.predict(X_new).reshape(x1.shape)\n",
    "    custom_cmap = ListedColormap([\"#ffdab9\",\"#9898ff\", \"#4B0082\"])\n",
    "    plt.contourf(x1, x2, y_pred, alpha=0.3, cmap=custom_cmap)\n",
    "    if contour:\n",
    "        custom_cmap2 = ListedColormap([\"#ffdab9\", \"#4c4c7f\", \"#4B0082\"])\n",
    "        plt.contour(x1, x2, y_pred, cmap=custom_cmap2, alpha=0.8)\n",
    "    plt.plot(X[:, 0][y==0], X[:, 1][y==0], \"yo\", alpha=alpha)\n",
    "    plt.plot(X[:, 0][y==1], X[:, 1][y==1], \"bs\", alpha=alpha)\n",
    "    plt.axis(axes)\n",
    "    plt.xlabel(r\"$x_1$\", fontsize=18)\n",
    "    plt.ylabel(r\"$x_2$\", fontsize=18, rotation=0)"
   ]
  },
  {
   "cell_type": "code",
   "execution_count": 78,
   "id": "a76e9b76-94c2-47b5-9ef9-150bc798a307",
   "metadata": {},
   "outputs": [
    {
     "data": {
      "image/png": "[encoded data removed]",
      "text/plain": [
       "<Figure size 576x432 with 1 Axes>"
      ]
     },
     "metadata": {},
     "output_type": "display_data"
    }
   ],
   "source": [
    "X, y = datasets.make_moons(n_samples=500, noise=0.30, random_state=SEED)\n",
    "\n",
    "plt.figure(figsize=(8, 6))\n",
    "plt.plot(X[:, 0][y==0], X[:, 1][y==0], \"yo\")\n",
    "plt.plot(X[:, 0][y==1], X[:, 1][y==1], \"bs\")\n",
    "plt.show()"
   ]
  },
  {
   "cell_type": "code",
   "execution_count": 5,
   "id": "cb4de83e-dfe0-48f4-8bd8-f0f9fdc36e80",
   "metadata": {},
   "outputs": [],
   "source": [
    "## ENTER YOUR CODE HERE (/¯◡ ‿ ◡)/¯☆*##"
   ]
  },
  {
   "cell_type": "code",
   "execution_count": null,
   "id": "c59e2333-fb8d-4fa4-9405-a0c186596b19",
   "metadata": {},
   "outputs": [],
   "source": []
  },
  {
   "cell_type": "markdown",
   "id": "da484a87-bb76-43a7-8953-1af94efbd0aa",
   "metadata": {},
   "source": [
    "Подберите наилучшие гиперпараметры, при которых разделяющая граница будет, на ваш взгляд, оптимальной с точки зрения bias-variance. Можно также подключить какие-то метрики для выбора лучшей модели."
   ]
  },
  {
   "cell_type": "code",
   "execution_count": null,
   "id": "fccbd1cc-740c-4411-9b27-680a9cf73c9f",
   "metadata": {},
   "outputs": [],
   "source": [
    "## ENTER YOUR CODE HERE (/¯◡ ‿ ◡)/¯☆*##"
   ]
  },
  {
   "cell_type": "code",
   "execution_count": null,
   "id": "293aac4e-a7c9-400a-a939-e3b1122d5517",
   "metadata": {},
   "outputs": [],
   "source": []
  },
  {
   "cell_type": "markdown",
   "id": "5fad02ca-af42-4142-8201-93602cfea49f",
   "metadata": {},
   "source": [
    "#### Задание 2. 3. Корреляция базовых моделей\n",
    "\n",
    "**3 балла**\n",
    "\n",
    "Как мы выянили на лекции, для того, чтобы bagging работал хорошо, предсказания наших моделей не должны сильно коррелировать. Для этого в случайном лесе применяются различные подходы, в том числе и RSM. Давайте посмотрим, как влияет параметр `max_features` на корреляцию базовых моделей в случайном лесу из `sklearn`. В качестве примера будем использовать датасет `breast_cancer`. Для расчета корреляций используйте приведенную ниже функцию `base_model_pair_correlation`. Для каждой модели у вас будет получаться набор значений (попарные корреляции всех деревьев), дальше можно изобразить их в виде боксплотов, как мы на лекции рисовали распределение метрик."
   ]
  },
  {
   "cell_type": "code",
   "execution_count": 101,
   "id": "c755182a-f385-4f0b-a153-60ef6e572f3b",
   "metadata": {},
   "outputs": [],
   "source": [
    "# Функция для расчета попарных корреляций базовых моделей в случайном лесу\n",
    "def base_model_pair_correlation(ensemble, X):\n",
    "    corrs = []\n",
    "    for (i, est1), (j, est2) in combinations(enumerate(ensemble.estimators_), 2):\n",
    "        Xi_test = X\n",
    "        Xj_test = X\n",
    "\n",
    "        ypred_t1 = est1.predict_proba(Xi_test)[:, 1]\n",
    "        ypred_t2 = est2.predict_proba(Xj_test)[:, 1]\n",
    "\n",
    "        corrs.append(pearsonr(ypred_t1, ypred_t2)[0])\n",
    "    return np.array(corrs)"
   ]
  },
  {
   "cell_type": "code",
   "execution_count": 102,
   "id": "65ab9ab7-311a-4bb1-8adc-f66c063e827e",
   "metadata": {},
   "outputs": [],
   "source": [
    "# Загрузим данные\n",
    "breast_cancer = datasets.load_breast_cancer()\n",
    "X = breast_cancer.data\n",
    "y = breast_cancer.target\n",
    "X_train, X_test, y_train, y_test = train_test_split(X, y, random_state=42)"
   ]
  },
  {
   "cell_type": "code",
   "execution_count": 6,
   "id": "3d26f651-5f5c-41a5-a80a-b37be6e1802c",
   "metadata": {},
   "outputs": [],
   "source": [
    "## ENTER YOUR CODE HERE (/¯◡ ‿ ◡)/¯☆*##"
   ]
  },
  {
   "cell_type": "code",
   "execution_count": null,
   "id": "d34e1758-d2dc-4820-afe5-2abdd850b590",
   "metadata": {},
   "outputs": [],
   "source": []
  },
  {
   "cell_type": "markdown",
   "id": "511f49f6-b433-449d-b27c-522098ef7a32",
   "metadata": {},
   "source": [
    "Теперь давайте посмотрим, как на это влияет параметр `max_depth`:"
   ]
  },
  {
   "cell_type": "code",
   "execution_count": 7,
   "id": "26d98e98-b0ba-480b-944c-a27486b8b7c5",
   "metadata": {},
   "outputs": [],
   "source": [
    "## ENTER YOUR CODE HERE (/¯◡ ‿ ◡)/¯☆*##"
   ]
  },
  {
   "cell_type": "code",
   "execution_count": null,
   "id": "80975cfd-79fc-47ee-b30c-d2e56e8fd351",
   "metadata": {},
   "outputs": [],
   "source": []
  },
  {
   "cell_type": "markdown",
   "id": "efafb748-a14d-4fd0-9995-4eee6e092445",
   "metadata": {},
   "source": [
    "Опишите ваши наблюдения:\n",
    "\n",
    "* ...\n",
    "* ..."
   ]
  },
  {
   "attachments": {},
   "cell_type": "markdown",
   "id": "aef2bd46-a98e-4f8f-ba17-0bdfe51ba395",
   "metadata": {},
   "source": [
    "### Задание 3. Строим большой ансамбль\n",
    "\n",
    "**4 балла + 3 дополнительных за скор выше 0.87**\n",
    "\n",
    "В данной задаче вам нужно диагностировать сердечное заболевание у людей по медицинским показателям."
   ]
  },
  {
   "cell_type": "code",
   "execution_count": null,
   "id": "475ce2d1-1a24-4731-a424-df36cef9b270",
   "metadata": {},
   "outputs": [],
   "source": [
    "!gdown  --id 1VFbDK-Ad-hpf0_GGCBzn4thdn9mkQ-Y- -O heart.csv -q\n",
    "heart_dataset = pd.read_csv(\"heart.csv\")"
   ]
  },
  {
   "cell_type": "code",
   "execution_count": 114,
   "id": "8bde25c5-2da7-4fb9-93e1-bd347cecef8e",
   "metadata": {},
   "outputs": [
    {
     "data": {
      "text/html": [
       "<div>\n",
       "<style scoped>\n",
       "    .dataframe tbody tr th:only-of-type {\n",
       "        vertical-align: middle;\n",
       "    }\n",
       "\n",
       "    .dataframe tbody tr th {\n",
       "        vertical-align: top;\n",
       "    }\n",
       "\n",
       "    .dataframe thead th {\n",
       "        text-align: right;\n",
       "    }\n",
       "</style>\n",
       "<table border=\"1\" class=\"dataframe\">\n",
       "  <thead>\n",
       "    <tr style=\"text-align: right;\">\n",
       "      <th></th>\n",
       "      <th>age</th>\n",
       "      <th>sex</th>\n",
       "      <th>cp</th>\n",
       "      <th>trestbps</th>\n",
       "      <th>chol</th>\n",
       "      <th>fbs</th>\n",
       "      <th>restecg</th>\n",
       "      <th>thalach</th>\n",
       "      <th>exang</th>\n",
       "      <th>oldpeak</th>\n",
       "      <th>slope</th>\n",
       "      <th>ca</th>\n",
       "      <th>thal</th>\n",
       "    </tr>\n",
       "  </thead>\n",
       "  <tbody>\n",
       "    <tr>\n",
       "      <th>178</th>\n",
       "      <td>43</td>\n",
       "      <td>1</td>\n",
       "      <td>0</td>\n",
       "      <td>120</td>\n",
       "      <td>177</td>\n",
       "      <td>0</td>\n",
       "      <td>0</td>\n",
       "      <td>120</td>\n",
       "      <td>1</td>\n",
       "      <td>2.5</td>\n",
       "      <td>1</td>\n",
       "      <td>0</td>\n",
       "      <td>3</td>\n",
       "    </tr>\n",
       "    <tr>\n",
       "      <th>298</th>\n",
       "      <td>57</td>\n",
       "      <td>0</td>\n",
       "      <td>0</td>\n",
       "      <td>140</td>\n",
       "      <td>241</td>\n",
       "      <td>0</td>\n",
       "      <td>1</td>\n",
       "      <td>123</td>\n",
       "      <td>1</td>\n",
       "      <td>0.2</td>\n",
       "      <td>1</td>\n",
       "      <td>0</td>\n",
       "      <td>3</td>\n",
       "    </tr>\n",
       "    <tr>\n",
       "      <th>201</th>\n",
       "      <td>60</td>\n",
       "      <td>1</td>\n",
       "      <td>0</td>\n",
       "      <td>125</td>\n",
       "      <td>258</td>\n",
       "      <td>0</td>\n",
       "      <td>0</td>\n",
       "      <td>141</td>\n",
       "      <td>1</td>\n",
       "      <td>2.8</td>\n",
       "      <td>1</td>\n",
       "      <td>1</td>\n",
       "      <td>3</td>\n",
       "    </tr>\n",
       "    <tr>\n",
       "      <th>246</th>\n",
       "      <td>56</td>\n",
       "      <td>0</td>\n",
       "      <td>0</td>\n",
       "      <td>134</td>\n",
       "      <td>409</td>\n",
       "      <td>0</td>\n",
       "      <td>0</td>\n",
       "      <td>150</td>\n",
       "      <td>1</td>\n",
       "      <td>1.9</td>\n",
       "      <td>1</td>\n",
       "      <td>2</td>\n",
       "      <td>3</td>\n",
       "    </tr>\n",
       "    <tr>\n",
       "      <th>153</th>\n",
       "      <td>66</td>\n",
       "      <td>0</td>\n",
       "      <td>2</td>\n",
       "      <td>146</td>\n",
       "      <td>278</td>\n",
       "      <td>0</td>\n",
       "      <td>0</td>\n",
       "      <td>152</td>\n",
       "      <td>0</td>\n",
       "      <td>0.0</td>\n",
       "      <td>1</td>\n",
       "      <td>1</td>\n",
       "      <td>2</td>\n",
       "    </tr>\n",
       "  </tbody>\n",
       "</table>\n",
       "</div>"
      ],
      "text/plain": [
       "     age  sex  cp  trestbps  chol  fbs  restecg  thalach  exang  oldpeak  \\\n",
       "178   43    1   0       120   177    0        0      120      1      2.5   \n",
       "298   57    0   0       140   241    0        1      123      1      0.2   \n",
       "201   60    1   0       125   258    0        0      141      1      2.8   \n",
       "246   56    0   0       134   409    0        0      150      1      1.9   \n",
       "153   66    0   2       146   278    0        0      152      0      0.0   \n",
       "\n",
       "     slope  ca  thal  \n",
       "178      1   0     3  \n",
       "298      1   0     3  \n",
       "201      1   1     3  \n",
       "246      1   2     3  \n",
       "153      1   1     2  "
      ]
     },
     "execution_count": 114,
     "metadata": {},
     "output_type": "execute_result"
    }
   ],
   "source": [
    "X = heart_dataset.drop(\"target\", axis=1)\n",
    "y = heart_dataset[\"target\"]\n",
    "X_train, X_test, y_train, y_test = train_test_split(X, y, random_state=SEED)\n",
    "X_train.head()"
   ]
  },
  {
   "cell_type": "markdown",
   "id": "b144a808-145d-4370-9b6c-4859ee231d91",
   "metadata": {},
   "source": [
    "Обучите разнообразные классификаторы, приведенные ниже, а также ансамбль `VotingClassifier` из `sklearn.ensemble`, объединяющий эти классификаторы с помощью жесткого или мякого голосования (параметр `voting =` `'hard'` или `'soft'` соответственно). Оцените качество моделей с помощью кросс-валидации на тренировочном наборе, используя функцию `cross_val_score` и метрику `f1`. Часть моделей отсюда мы не проходили, о них можно почитать дополнительно, но в принципе для задания не очень важно знать принципы их работы (но, если есть время, то почитайте, там интересно)."
   ]
  },
  {
   "cell_type": "code",
   "execution_count": 118,
   "id": "099f6e1a-641c-4acc-8334-e4b304aa8810",
   "metadata": {},
   "outputs": [],
   "source": [
    "dt = DecisionTreeClassifier(random_state=SEED, max_depth=10, min_samples_leaf=10)\n",
    "rf = RandomForestClassifier(n_estimators=50, random_state=SEED)\n",
    "etc = ExtraTreesClassifier(random_state=SEED)\n",
    "knn = KNeighborsClassifier(n_neighbors=5, weights=\"distance\")\n",
    "svc_lin = SVC(kernel='linear', probability=True, random_state=SEED)\n",
    "svc_rbf = SVC(kernel='rbf', probability=True, random_state=SEED)\n",
    "cat = catboost.CatBoostClassifier(verbose=0, random_seed=SEED)\n",
    "lgbm = lightgbm.LGBMClassifier(random_state=SEED)\n",
    "lgbm_rf = lightgbm.LGBMClassifier(boosting_type=\"rf\", bagging_freq=1, bagging_fraction=0.7, random_state=SEED)\n",
    "xgb = xgboost.XGBClassifier(random_state=SEED)\n",
    "xgb_rf = xgboost.XGBRFClassifier(random_state=SEED)\n",
    "lr = LogisticRegression(solver='liblinear', max_iter=10000)\n",
    "nb = GaussianNB()\n",
    "\n",
    "base_models = [(\"DT\", dt), (\"RF\", rf), \n",
    "               (\"ETC\", etc), (\"KNN\", knn), \n",
    "               (\"SVC_LIN\", svc_lin), (\"SVC_RBF\", svc_rbf), \n",
    "               (\"CAT\", cat), (\"LGBM\", lgbm), \n",
    "               (\"LGBM_RF\", lgbm_rf), (\"XGB\", xgb), \n",
    "               (\"XGB_RF\", xgb_rf), (\"LR\", lr), (\"NB\", nb)]"
   ]
  },
  {
   "cell_type": "markdown",
   "id": "afb6e5b6-da19-48e8-9882-63e0c5cafdde",
   "metadata": {},
   "source": [
    "Здесь могут возникать различные предупреждения при обучении бустингов, не волнуйтесь, все нормально, просто они обычно очень разговорчивые)"
   ]
  },
  {
   "cell_type": "code",
   "execution_count": 8,
   "id": "03d7be2e-568b-47ce-b29c-7221ba2d5bee",
   "metadata": {},
   "outputs": [],
   "source": [
    "## ENTER YOUR CODE HERE (/¯◡ ‿ ◡)/¯☆*##\n",
    "\n",
    "\n",
    "\n",
    "## END YOUR CODE HERE ##\n",
    "\n",
    "for model in [dt, rf, cat, etc, knn, svc_lin, svc_rbf, xgb, lgbm, xgb_rf, lgbm_rf, lr, nb, voting_hard, voting_soft]: \n",
    "    scores = cross_val_score(model, X_train, y_train, cv=3, scoring=\"f1\")\n",
    "    print(f\"{model.__class__.__name__}: {scores.mean()}\")"
   ]
  },
  {
   "cell_type": "code",
   "execution_count": null,
   "id": "a8175050-ebb9-4482-b5a4-26711016f03b",
   "metadata": {},
   "outputs": [],
   "source": []
  },
  {
   "cell_type": "markdown",
   "id": "a95d780c-3960-47e0-84b1-496a128d5a5b",
   "metadata": {},
   "source": [
    "Вы можете заметить, что ансамбль показывает хорошее, но не лучшее качество предсказания, попробуем его улучшить. Как вы знаете, ансамбли работают лучше, когда модели, входящие в них не скоррелированы друг с другом. Определите корреляцию предсказаний базовых моделей в ансамбле на тестовом наборе данных, и удалите из ансамбля те модели, чьи предсказания будут сильнее коррелировать с остальными. Воспользуйтесь функцией `base_model_pair_correlation_for_voting_clf`. **Спойлер**: далеко не факт, что если вы удалите две модели с корреляцией 0.95, то все станет сильно лучше, здесь все будет немного сложнее. Чтобы добиться максимального качества может понадобиться долгий перебор различных комбинаций моделей. Наилучший скор, который мне удалось достичь, это 0.915, но он получен весьма странной комбинацией алгоритмов, а еще и простым перебором всех вариантов)"
   ]
  },
  {
   "cell_type": "code",
   "execution_count": 127,
   "id": "6b132bb4-e551-4791-88e7-95eaa7df909c",
   "metadata": {},
   "outputs": [],
   "source": [
    "def base_model_pair_correlation_for_voting_clf(ensemble, X):\n",
    "    corrs = []\n",
    "    base_model_names = [f\"{est.__class__.__name__}\" for est in ensemble.estimators_]\n",
    "    for (i, est1), (j, est2) in combinations(enumerate(ensemble.estimators_), 2):\n",
    "        Xi_test = X\n",
    "        Xj_test = X\n",
    "\n",
    "        if not isinstance(est1, SVC):\n",
    "            ypred_t1 = est1.predict_proba(Xi_test)[:, 1]\n",
    "        else:\n",
    "            ypred_t1 = est1.decision_function(Xi_test)\n",
    "\n",
    "\n",
    "        if not isinstance(est2, SVC):\n",
    "            ypred_t2 = est2.predict_proba(Xi_test)[:, 1]\n",
    "        else:\n",
    "            ypred_t2 = est2.decision_function(Xi_test)\n",
    "        corrs.append((est1, est2, pearsonr(ypred_t1, ypred_t2)[0]))\n",
    "\n",
    "\n",
    "    return corrs"
   ]
  },
  {
   "cell_type": "code",
   "execution_count": 9,
   "id": "21fb93e4-8065-473c-a11a-cd423baf71d6",
   "metadata": {},
   "outputs": [],
   "source": [
    "## ENTER YOUR CODE HERE (/¯◡ ‿ ◡)/¯☆*##"
   ]
  },
  {
   "cell_type": "code",
   "execution_count": null,
   "id": "8d69062c-68d8-487b-8b02-2e31221977b9",
   "metadata": {},
   "outputs": [],
   "source": []
  },
  {
   "cell_type": "markdown",
   "id": "054b2673-1725-48a9-ae6a-4e348d50169d",
   "metadata": {},
   "source": [
    "### Задание 4. Определение оттока клиентов из телекома\n",
    "\n",
    "**6 баллов + 7 дополнительных за высокое качество модели и различные эксперименты**\n",
    "\n",
    "Будем предсказывать, уйдет ли от нас клиент (переменная `Churn?`). Данные можно скачать [здесь](https://www.kaggle.com/venky12347/churn-telecom). Это будет уже совсем взрослое задание, так как правильного ответа на него нет. Вам нужно будет разобраться с данными, правильно подготовить их для моделей, а также выбрать лучшую модель. \n",
    "\n",
    "Задача минимум:\n",
    "\n",
    "Выберите 2 модели &mdash; один случайный лес и один бустинг из приведенных ниже:\n",
    "\n",
    "1. `xgboost.XGBClassifier`\n",
    "2. `xgboost.XGBRFClassifier` &mdash; случайный лес от xgboost\n",
    "3. `lightgbm.LGBMClassifier`\n",
    "4. `lightgbm.LGBMClassifier(boosting_type=\"rf\")` &mdash; случайный лес от lightgbm\n",
    "5. `catboost.CatBoostClassifier`\n",
    "\n",
    "И попробуйте разобраться с тем, как для этих моделей правильно настраивать гиперпараметры. Советую гуглить примерно следующее `how to choose best hyperparameters for lightgbm`. Там вы найдете кучу сложного и непонятного кода, но если с ним разобраться и научиться обучать нестандартные бустинги, то в плане табличных данных равных вам не будет)"
   ]
  },
  {
   "cell_type": "code",
   "execution_count": 130,
   "id": "47cd58e0-3c7b-4dc6-8eba-617eec699586",
   "metadata": {},
   "outputs": [
    {
     "data": {
      "text/html": [
       "<div>\n",
       "<style scoped>\n",
       "    .dataframe tbody tr th:only-of-type {\n",
       "        vertical-align: middle;\n",
       "    }\n",
       "\n",
       "    .dataframe tbody tr th {\n",
       "        vertical-align: top;\n",
       "    }\n",
       "\n",
       "    .dataframe thead th {\n",
       "        text-align: right;\n",
       "    }\n",
       "</style>\n",
       "<table border=\"1\" class=\"dataframe\">\n",
       "  <thead>\n",
       "    <tr style=\"text-align: right;\">\n",
       "      <th></th>\n",
       "      <th>State</th>\n",
       "      <th>Account Length</th>\n",
       "      <th>Area Code</th>\n",
       "      <th>Phone</th>\n",
       "      <th>Int'l Plan</th>\n",
       "      <th>VMail Plan</th>\n",
       "      <th>VMail Message</th>\n",
       "      <th>Day Mins</th>\n",
       "      <th>Day Calls</th>\n",
       "      <th>Day Charge</th>\n",
       "      <th>...</th>\n",
       "      <th>Eve Calls</th>\n",
       "      <th>Eve Charge</th>\n",
       "      <th>Night Mins</th>\n",
       "      <th>Night Calls</th>\n",
       "      <th>Night Charge</th>\n",
       "      <th>Intl Mins</th>\n",
       "      <th>Intl Calls</th>\n",
       "      <th>Intl Charge</th>\n",
       "      <th>CustServ Calls</th>\n",
       "      <th>Churn?</th>\n",
       "    </tr>\n",
       "  </thead>\n",
       "  <tbody>\n",
       "    <tr>\n",
       "      <th>0</th>\n",
       "      <td>KS</td>\n",
       "      <td>128</td>\n",
       "      <td>415</td>\n",
       "      <td>382-4657</td>\n",
       "      <td>no</td>\n",
       "      <td>yes</td>\n",
       "      <td>25</td>\n",
       "      <td>265.1</td>\n",
       "      <td>110</td>\n",
       "      <td>45.07</td>\n",
       "      <td>...</td>\n",
       "      <td>99</td>\n",
       "      <td>16.78</td>\n",
       "      <td>244.7</td>\n",
       "      <td>91</td>\n",
       "      <td>11.01</td>\n",
       "      <td>10.0</td>\n",
       "      <td>3</td>\n",
       "      <td>2.70</td>\n",
       "      <td>1</td>\n",
       "      <td>False.</td>\n",
       "    </tr>\n",
       "    <tr>\n",
       "      <th>1</th>\n",
       "      <td>OH</td>\n",
       "      <td>107</td>\n",
       "      <td>415</td>\n",
       "      <td>371-7191</td>\n",
       "      <td>no</td>\n",
       "      <td>yes</td>\n",
       "      <td>26</td>\n",
       "      <td>161.6</td>\n",
       "      <td>123</td>\n",
       "      <td>27.47</td>\n",
       "      <td>...</td>\n",
       "      <td>103</td>\n",
       "      <td>16.62</td>\n",
       "      <td>254.4</td>\n",
       "      <td>103</td>\n",
       "      <td>11.45</td>\n",
       "      <td>13.7</td>\n",
       "      <td>3</td>\n",
       "      <td>3.70</td>\n",
       "      <td>1</td>\n",
       "      <td>False.</td>\n",
       "    </tr>\n",
       "    <tr>\n",
       "      <th>2</th>\n",
       "      <td>NJ</td>\n",
       "      <td>137</td>\n",
       "      <td>415</td>\n",
       "      <td>358-1921</td>\n",
       "      <td>no</td>\n",
       "      <td>no</td>\n",
       "      <td>0</td>\n",
       "      <td>243.4</td>\n",
       "      <td>114</td>\n",
       "      <td>41.38</td>\n",
       "      <td>...</td>\n",
       "      <td>110</td>\n",
       "      <td>10.30</td>\n",
       "      <td>162.6</td>\n",
       "      <td>104</td>\n",
       "      <td>7.32</td>\n",
       "      <td>12.2</td>\n",
       "      <td>5</td>\n",
       "      <td>3.29</td>\n",
       "      <td>0</td>\n",
       "      <td>False.</td>\n",
       "    </tr>\n",
       "    <tr>\n",
       "      <th>3</th>\n",
       "      <td>OH</td>\n",
       "      <td>84</td>\n",
       "      <td>408</td>\n",
       "      <td>375-9999</td>\n",
       "      <td>yes</td>\n",
       "      <td>no</td>\n",
       "      <td>0</td>\n",
       "      <td>299.4</td>\n",
       "      <td>71</td>\n",
       "      <td>50.90</td>\n",
       "      <td>...</td>\n",
       "      <td>88</td>\n",
       "      <td>5.26</td>\n",
       "      <td>196.9</td>\n",
       "      <td>89</td>\n",
       "      <td>8.86</td>\n",
       "      <td>6.6</td>\n",
       "      <td>7</td>\n",
       "      <td>1.78</td>\n",
       "      <td>2</td>\n",
       "      <td>False.</td>\n",
       "    </tr>\n",
       "    <tr>\n",
       "      <th>4</th>\n",
       "      <td>OK</td>\n",
       "      <td>75</td>\n",
       "      <td>415</td>\n",
       "      <td>330-6626</td>\n",
       "      <td>yes</td>\n",
       "      <td>no</td>\n",
       "      <td>0</td>\n",
       "      <td>166.7</td>\n",
       "      <td>113</td>\n",
       "      <td>28.34</td>\n",
       "      <td>...</td>\n",
       "      <td>122</td>\n",
       "      <td>12.61</td>\n",
       "      <td>186.9</td>\n",
       "      <td>121</td>\n",
       "      <td>8.41</td>\n",
       "      <td>10.1</td>\n",
       "      <td>3</td>\n",
       "      <td>2.73</td>\n",
       "      <td>3</td>\n",
       "      <td>False.</td>\n",
       "    </tr>\n",
       "  </tbody>\n",
       "</table>\n",
       "<p>5 rows × 21 columns</p>\n",
       "</div>"
      ],
      "text/plain": [
       "  State  Account Length  Area Code     Phone Int'l Plan VMail Plan  \\\n",
       "0    KS             128        415  382-4657         no        yes   \n",
       "1    OH             107        415  371-7191         no        yes   \n",
       "2    NJ             137        415  358-1921         no         no   \n",
       "3    OH              84        408  375-9999        yes         no   \n",
       "4    OK              75        415  330-6626        yes         no   \n",
       "\n",
       "   VMail Message  Day Mins  Day Calls  Day Charge  ...  Eve Calls  Eve Charge  \\\n",
       "0             25     265.1        110       45.07  ...         99       16.78   \n",
       "1             26     161.6        123       27.47  ...        103       16.62   \n",
       "2              0     243.4        114       41.38  ...        110       10.30   \n",
       "3              0     299.4         71       50.90  ...         88        5.26   \n",
       "4              0     166.7        113       28.34  ...        122       12.61   \n",
       "\n",
       "   Night Mins  Night Calls  Night Charge  Intl Mins  Intl Calls  Intl Charge  \\\n",
       "0       244.7           91         11.01       10.0           3         2.70   \n",
       "1       254.4          103         11.45       13.7           3         3.70   \n",
       "2       162.6          104          7.32       12.2           5         3.29   \n",
       "3       196.9           89          8.86        6.6           7         1.78   \n",
       "4       186.9          121          8.41       10.1           3         2.73   \n",
       "\n",
       "   CustServ Calls  Churn?  \n",
       "0               1  False.  \n",
       "1               1  False.  \n",
       "2               0  False.  \n",
       "3               2  False.  \n",
       "4               3  False.  \n",
       "\n",
       "[5 rows x 21 columns]"
      ]
     },
     "execution_count": 130,
     "metadata": {},
     "output_type": "execute_result"
    }
   ],
   "source": [
    "data = pd.read_csv(\"churn.csv\")\n",
    "data.head()"
   ]
  },
  {
   "cell_type": "code",
   "execution_count": null,
   "id": "691d25ae-0bf3-4ca6-bc71-3ec9964f9906",
   "metadata": {},
   "outputs": [],
   "source": []
  },
  {
   "cell_type": "markdown",
   "id": "aed4b39e-db2b-4891-9c83-26cf78bcba8c",
   "metadata": {},
   "source": [
    "### Задание 5. Рисуем\n",
    "\n",
    "**дополнительно 0.5 балла**\n",
    "\n",
    "Наверняка, в процессе выполнения этого задания вас переполняли какие-то эмоции. Нарисуйте что-то, что бы могло бы передать их (я сам не умею, так что, если это будет просто квадрат, тоже подойдет). Прикрепите сюда свой рисунок:"
   ]
  },
  {
   "cell_type": "code",
   "execution_count": null,
   "id": "17b2bb34-4dd9-44ab-b441-e5132ea5039b",
   "metadata": {},
   "outputs": [],
   "source": [
    "## PASTE YOUR MASTERPIECE HERE (/¯◡ ‿ ◡)/¯☆*##"
   ]
  },
  {
   "cell_type": "code",
   "execution_count": null,
   "id": "e1434723-a8b2-4311-a786-6a76dd1b1526",
   "metadata": {},
   "outputs": [],
   "source": []
  },
  {
   "cell_type": "markdown",
   "id": "e6c52141-d648-49a7-8c2a-06724d3e88af",
   "metadata": {},
   "source": [
    "### Therapy time\n",
    "\n",
    "Напишите здесь ваши впечатления о задании (можно и не о задании): было ли интересно, было ли слишком легко или наоборот сложно и тд. Также сюда можно написать свои идеи по улучшению заданий, а также предложить данные, на основе которых вы бы хотели построить следующие дз.\n",
    "\n",
    "**Ваши мысли:**"
   ]
  },
  {
   "cell_type": "code",
   "execution_count": null,
   "id": "e3db0b95-89ca-48a2-9600-53a28090b241",
   "metadata": {},
   "outputs": [],
   "source": []
  }
 ],
 "metadata": {
  "kernelspec": {
   "display_name": "venv",
   "language": "python",
   "name": "venv"
  },
  "language_info": {
   "codemirror_mode": {
    "name": "ipython",
    "version": 3
   },
   "file_extension": ".py",
   "mimetype": "text/x-python",
   "name": "python",
   "nbconvert_exporter": "python",
   "pygments_lexer": "ipython3",
   "version": "3.8.8"
  }
 },
 "nbformat": 4,
 "nbformat_minor": 5
}
