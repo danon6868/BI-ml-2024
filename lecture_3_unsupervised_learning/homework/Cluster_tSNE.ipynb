{
 "cells": [
  {
   "cell_type": "code",
   "execution_count": null,
   "id": "cd99e5a2-a34b-4719-b5f6-625d57d197d3",
   "metadata": {},
   "outputs": [],
   "source": [
    "import warnings\n",
    "import pandas as pd\n",
    "import numpy as np\n",
    "import random\n",
    "import seaborn as sns\n",
    "import matplotlib.pyplot as plt\n",
    "\n",
    "from os.path import join\n",
    "from IPython import display\n",
    "from sklearn.datasets import load_digits\n",
    "from sklearn.datasets import make_blobs\n",
    "from sklearn.decomposition import PCA\n",
    "from sklearn.manifold import TSNE\n",
    "from sklearn.metrics import silhouette_score # и другие метрики\n",
    "from sklearn.cluster import KMeans # а также другие алгоритмы"
   ]
  },
  {
   "cell_type": "code",
   "execution_count": null,
   "id": "5d1495a6-f860-452e-a2ca-034ecdb853bf",
   "metadata": {},
   "outputs": [],
   "source": [
    "DATA_PATH = \"data\"\n",
    "plt.rcParams[\"figure.figsize\"] = 12, 9\n",
    "sns.set_style(\"whitegrid\")\n",
    "warnings.filterwarnings(\"ignore\")\n",
    "\n",
    "SEED = 111\n",
    "random.seed(SEED)\n",
    "np.random.seed(SEED)"
   ]
  },
  {
   "cell_type": "markdown",
   "id": "1bc8de22-340d-4a2e-a88f-927770111be1",
   "metadata": {},
   "source": [
    "### Задание 1. Реализация Kmeans\n",
    "\n",
    "5 баллов"
   ]
  },
  {
   "cell_type": "markdown",
   "id": "2554377b-7fa9-4198-888c-47d1c37f5283",
   "metadata": {},
   "source": [
    "В данном задании вам предстоит дописать код класса `MyKMeans`. Мы на простом примере увидим, как подбираются центры кластеров и научимся их визуализировать."
   ]
  },
  {
   "cell_type": "markdown",
   "id": "e1018a29-7e2a-4041-8e8b-c871668ec7fa",
   "metadata": {},
   "source": [
    "Сгенерируем простой набор данных, 400 объектов и 2 признака (чтобы все быстро работало и можно было легко нарисовать):"
   ]
  },
  {
   "cell_type": "code",
   "execution_count": null,
   "id": "b7fc05e1-c5ff-4c15-af0e-079833e1413d",
   "metadata": {},
   "outputs": [],
   "source": [
    "X, true_labels = make_blobs(400, 2, centers=[[0, 0], [-4, 0], [3.5, 3.5], [3.5, -2.0]])"
   ]
  },
  {
   "cell_type": "markdown",
   "id": "fb54d1c6-a093-40b5-acaa-042b15afb9e1",
   "metadata": {},
   "source": [
    "Напишем функцию `visualize_clusters`, которая по данным и меткам кластеров будет рисовать их и разукрашивать:"
   ]
  },
  {
   "cell_type": "code",
   "execution_count": null,
   "id": "25de72de-5fd0-408b-88f2-3b7325c4dbc1",
   "metadata": {},
   "outputs": [],
   "source": [
    "def visualize_clusters(X, labels):\n",
    "    \"\"\"\n",
    "    Функция для визуализации кластеров\n",
    "        :param X: таблица объекты х признаки\n",
    "        :param labels: np.array[n_samples] - номера кластеров\n",
    "    \"\"\"\n",
    "    \n",
    "    unique_labels = np.sort(np.unique(labels))\n",
    "    sns.scatterplot(X[:, 0], X[:, 1], hue=labels, \n",
    "                    palette=\"colorblind\", legend=False,\n",
    "                    hue_order=unique_labels)\n",
    "    plt.xlabel(\"$X_1$\", fontsize=18)\n",
    "    plt.ylabel(\"$X_2$\", fontsize=18)\n",
    "    \n",
    "    for label in labels:\n",
    "        center = X[(labels == label)].mean(axis=0)\n",
    "        plt.scatter(center[0], center[1], s=80, c=\"#201F12\", marker=(5, 2))"
   ]
  },
  {
   "cell_type": "code",
   "execution_count": null,
   "id": "d633f931-dd91-4406-84e5-8c0c610cdad4",
   "metadata": {},
   "outputs": [],
   "source": [
    "visualize_clusters(X, true_labels)"
   ]
  },
  {
   "cell_type": "markdown",
   "id": "b1d79024-9510-4e1d-9cf8-9c8f99317cd7",
   "metadata": {},
   "source": [
    "Напишем свой класс `MyKMeans`, который будет реализовывать алгоритм кластеризации K-средних. Напомним сам алгоритм:\n",
    "\n",
    "1. Выбераем число кластеров (K)\n",
    "2. Случайно инициализируем K точек (или выбираем из данных), это будут начальные центры наших кластеров\n",
    "3. Далее для каждого объекта считаем расстояние до всех кластеров и присваиваем ему метку ближайщего\n",
    "4. Далее для каждого кластера считаем \"центр масс\" (среднее значение для каждого признака по всем объектам кластера)\n",
    "5. Этот \"центр масс\" становится новым центром кластера\n",
    "6. Повторяем п.3, 4, 5 заданное число итераций или до сходимости\n",
    "\n",
    "Во время предсказания алгоритм просто находит ближайщий центроид (центр кластера) для тестового объекта и возвращает его номер."
   ]
  },
  {
   "cell_type": "markdown",
   "id": "8bea2fc4-ba1f-41f0-9969-f9e6d7d7d796",
   "metadata": {},
   "source": [
    "Реализуйте методы:\n",
    "* `_calculate_distance(X, centroid)` - вычисляет Евклидово расстояние от всех объектов в `Х` до заданного центра кластера (`centroid`)\n",
    "* `predict(X)` - для каждого элемента из `X` возвращает номер кластера, к которому относится данный элемент"
   ]
  },
  {
   "cell_type": "code",
   "execution_count": null,
   "id": "1037858c-086a-47b7-8786-f5750569edd1",
   "metadata": {},
   "outputs": [],
   "source": [
    "class MyKMeans:\n",
    "    def __init__(self, n_clusters, init=\"random\", max_iter=300, visualize=False):\n",
    "        \"\"\"\n",
    "        Конструктор класса MyKMeans\n",
    "            :param n_clusters: число кластеров\n",
    "            :param init: способ инициализации центров кластеров\n",
    "                'random' - генерирует координаты случайно из нормального распределения\n",
    "                'sample' - выбирает центроиды случайно из объектов выборки\n",
    "            :param max_iter: заданное число итераций \n",
    "                (мы не будем реализовывать другой критерий остановки)\n",
    "            :param visualize: рисовать ли кластеры и их центроиды в процессе работы\n",
    "                код будет работать сильно дольше, но красиво...\n",
    "        \"\"\"\n",
    "        \n",
    "        assert init in [\"random\", \"sample\"], f\"Неизвестный метод инициализации {init}\"\n",
    "        self.n_clusters = n_clusters\n",
    "        self.init = init\n",
    "        self.max_iter = max_iter\n",
    "        self.centroids = None\n",
    "        self.visualize = visualize\n",
    "       \n",
    "    \n",
    "    def fit(self, X):\n",
    "        \"\"\"\n",
    "        Подбирает оптимальные центры кластеров\n",
    "            :param X: наши данные (n_samples, n_features)\n",
    "        :return self: все как в sklearn\n",
    "        \"\"\"\n",
    "        \n",
    "        n_samples, n_features = X.shape\n",
    "        \n",
    "        # Инициализация центров кластеров\n",
    "        if self.init == \"random\":\n",
    "            centroids = np.random.randn(self.n_clusters, n_features)\n",
    "        elif self.init == \"sample\":\n",
    "            centroids_idx = np.random.choice(np.arange(n_samples), \n",
    "                                             size=self.n_clusters, \n",
    "                                             replace=False)\n",
    "            centroids = X[centroids_idx]\n",
    "        \n",
    "        # Итеративно двигаем центры\n",
    "        for _ in range(self.max_iter):\n",
    "            # Посчитаем расстояния для всех объектов до каждого центроида\n",
    "            dists = []\n",
    "            for centroid in centroids:\n",
    "                dists.append(self._calculate_distance(X, centroid))\n",
    "            dists = np.concatenate(dists, axis=1)\n",
    "            # Для каждого объекта найдем, к какому центроиду он ближе\n",
    "            cluster_labels = np.argmin(dists, axis=1)\n",
    "            \n",
    "            # Пересчитаем центр масс для каждого кластера\n",
    "            centroids = []\n",
    "            for label in np.sort(np.unique(cluster_labels)):\n",
    "                center = X[(cluster_labels == label)].mean(axis=0)\n",
    "                centroids.append(center)\n",
    "            \n",
    "            # Отрисуем точки, покрасим по меткам кластера, а также изобразим центроиды\n",
    "            if self.visualize:\n",
    "                visualize_clusters(X, cluster_labels)\n",
    "                display.clear_output(wait=True)\n",
    "                display.display(plt.gcf())\n",
    "                plt.close()\n",
    "                \n",
    "        self.centroids = np.array(centroids)\n",
    "        \n",
    "        return self\n",
    "    \n",
    "    \n",
    "    def predict(self, X):\n",
    "        \"\"\"\n",
    "        Для каждого X возвращает номер кластера, к которому он относится\n",
    "            :param X: наши данные (n_samples, n_features)\n",
    "        :return cluster_labels: метки кластеров\n",
    "        \"\"\"\n",
    "        \n",
    "        \"\"\"\n",
    "        YOUR CODE IS HERE\n",
    "        \"\"\"\n",
    "        cluster_labels = None\n",
    "            \n",
    "        return cluster_labels\n",
    "        \n",
    "        \n",
    "    def _calculate_distance(self, X, centroid):\n",
    "        \"\"\"\n",
    "        Вычисляет Евклидово расстояние от всех объектов в Х до заданного центра кластера (centroid)\n",
    "            :param X: наши данные (n_samples, n_features)\n",
    "            :param centroid: координаты центра кластера\n",
    "        :return dist: расстояния от всех X до центра кластера\n",
    "        \"\"\"\n",
    "        \n",
    "        \"\"\"\n",
    "        YOUR CODE IS HERE\n",
    "        \"\"\"\n",
    "        dist = None\n",
    "        \n",
    "        return dist\n",
    "    \n",
    "    \n",
    "    def __repr__(self):\n",
    "        return f\"Привет, я твой KMeans (/¯◡ ‿ ◡)/¯☆*\""
   ]
  },
  {
   "cell_type": "markdown",
   "id": "29842c6f-0db4-4fa9-b7e1-5ccb944b9864",
   "metadata": {},
   "source": [
    "Обучите `MyKMeans` на наших игручешных данных, добейтесь сходимости. Не забудьте поставить `visualize=True`, чтобы посмотреть на красивые картинки. Также попробуйте различные способы инициализации центроидов и скажите, какой лучше подошел в этой ситуации."
   ]
  },
  {
   "cell_type": "code",
   "execution_count": null,
   "id": "81c005e8-2372-45ad-aefa-e7fa41b32b30",
   "metadata": {},
   "outputs": [],
   "source": []
  },
  {
   "cell_type": "markdown",
   "id": "788a9e3e-461a-413b-84a5-4740387ff1f0",
   "metadata": {},
   "source": [
    "### Задание 2. Подбираем лучшую иерархическую кластеризацию\n",
    "\n",
    "5 баллов"
   ]
  },
  {
   "cell_type": "markdown",
   "id": "89fc5e02-7d4c-4df0-83c6-2d7f148b461d",
   "metadata": {},
   "source": [
    "На лекции были рассмотрены различные расстояния, которые могут служить метриками различия между объектами. Также мы разобрали несколько алгоритмов кластеризации, в том числе и иерархическую. Часто может быть непонятно, какой алгоритм и какую метрику расстояния нужно взять. Давайте упростим себе жизнь и напишем функцию `algorithm_selection`, которая будет на основании переданных ей:\n",
    "\n",
    "* метрик расстояния (можно брать все, что было на лекциях, минимум 4)\n",
    "* параметра `linkage` ('average', 'single', 'complete')\n",
    "* и метрик качества кластеризации ('Homogeneity', 'Completeness', 'V-measure', 'Silhouette')\n",
    "\n",
    "будет выводить итоговую таблицу, в которую войдут столбцы:\n",
    "* distance (метрика расстояния)\n",
    "* linkage (алгоритм иерархической кластеризации)\n",
    "* homogenity\n",
    "* completeness\n",
    "* v_measure\n",
    "* silhouette\n",
    "\n",
    "В результате по этой таблице, нужно сделать вывод о том, какой алгоритм кластеризации и с какими гиперпараметрами лучше всего сработал."
   ]
  },
  {
   "cell_type": "markdown",
   "id": "dcf06c6c-61e0-457e-9964-e7c97a36f1c6",
   "metadata": {},
   "source": [
    "Загрузим наши данные:"
   ]
  },
  {
   "cell_type": "code",
   "execution_count": null,
   "id": "15a8d955-21ea-4a2f-af54-6cf06e0e2cb5",
   "metadata": {},
   "outputs": [],
   "source": [
    "data = load_digits()\n",
    "X, y = data.data, data.target"
   ]
  },
  {
   "cell_type": "code",
   "execution_count": null,
   "id": "59d0b973-87a6-469f-af73-81b83fb7e129",
   "metadata": {},
   "outputs": [],
   "source": [
    "plt.imshow(X[0].reshape(8, 8).astype(int), cmap=\"gray\")\n",
    "plt.axis(\"off\");"
   ]
  },
  {
   "cell_type": "markdown",
   "id": "a9d4cb2c-c3b1-4d08-a803-7a9699445b4b",
   "metadata": {},
   "source": [
    "Работать будем с изображениями рукописных цифр. Тут все похоже на данные для 1 домашнего задания, каждая картинка представлена вектором из 64 элементов (числа от 0 до 255). Чтобы ее нарисовать мы должны сделать `reshape` в картинку 8 на 8 пикселей. Вам нужно будет выбрать наилучший способ кластеризации при помощи функции `algorithm_selection`, которую вы реализуете. Для некоторых метрик кластеризации требуются метки **классов** объектов (они хранятся в переменной `y`)."
   ]
  },
  {
   "cell_type": "markdown",
   "id": "16323581-d0cf-4e6a-9319-78a02aaad4d3",
   "metadata": {},
   "source": [
    "##### YOUR TURN TO CODE"
   ]
  },
  {
   "cell_type": "code",
   "execution_count": null,
   "id": "a52f8aa3-a13e-43bd-9851-d213213c9c05",
   "metadata": {},
   "outputs": [],
   "source": [
    "def algorithm_selection(X, distances, algorithms, metrics):\n",
    "    \"\"\"\n",
    "    Для заданных алгоримов кластеризации и гиперпараметров \n",
    "    считает различные метрики кластеризации\n",
    "        :param X: наши данные (n_samples, n_features)\n",
    "        :param distances: список возможных метрик расстояния\n",
    "        :param algorithm: параметр linkage ('average', 'single', 'complete')\n",
    "        :param metrics: список возможных метрик качества кластеризации\n",
    "    :return compare_dataframe: таблица с метриками кластеризации\n",
    "    \"\"\"\n",
    "\n",
    "    \"\"\"\n",
    "    YOUR CODE IS HERE\n",
    "    \"\"\"\n",
    "    compare_dataframe = None\n",
    "    \n",
    "    return compare_dataframe"
   ]
  },
  {
   "cell_type": "code",
   "execution_count": null,
   "id": "1010717d-e93c-4f2a-a371-ee60d1f295cd",
   "metadata": {},
   "outputs": [],
   "source": []
  },
  {
   "cell_type": "markdown",
   "id": "6e7af28c-0397-4cb8-9846-385b661a0529",
   "metadata": {},
   "source": [
    "### Задание 3. Аннотация клеточных типов\n",
    "\n",
    "суммарно 10 баллов"
   ]
  },
  {
   "cell_type": "markdown",
   "id": "28c49ff3-a95a-4938-9b59-60565bc0d6ec",
   "metadata": {},
   "source": [
    "В этом задании вам предстоит применять полученные знания о кластеризации для аннотации данных, полученных при помощи проточной цитометрии. Каждая строка в данных это одна клетка, столбцы **FSC-A**, **SSC-A** косвенным образом свидетельствуют о размере клеток, остальные показывают интенсивность флуоресценции различных поверхностных маркеров. Ваша задача определить для каждой клетки, к какому типу она относится."
   ]
  },
  {
   "cell_type": "markdown",
   "id": "a42d4b51-b073-4e99-a957-272f385e4425",
   "metadata": {},
   "source": [
    "#### 3.1. EDA\n",
    "\n",
    "1.5 балла\n",
    "\n",
    "Проведите EDA:\n",
    "\n",
    "1. Посмотрите на данные (можно попробовать метод `describe`)\n",
    "2. Сколько у нас клеток / признаков\n",
    "3. Постройте распределения каждого признака (есть ли очевинные выбросы?)"
   ]
  },
  {
   "cell_type": "code",
   "execution_count": null,
   "id": "453f60e1-85c6-4145-aaa0-2f957407e77d",
   "metadata": {},
   "outputs": [],
   "source": [
    "fc_data = pd.read_csv(join(DATA_PATH, \"flow_c_data.csv\"), index_col=0)"
   ]
  },
  {
   "cell_type": "markdown",
   "id": "3d3e5437-1183-425f-838f-ef03f1fb2011",
   "metadata": {},
   "source": [
    "##### YOUR TURN TO CODE:"
   ]
  },
  {
   "cell_type": "code",
   "execution_count": null,
   "id": "c0833159-c7c0-41a9-9e9d-8ac35b405ab9",
   "metadata": {},
   "outputs": [],
   "source": []
  },
  {
   "cell_type": "markdown",
   "id": "487d3cbf-7e93-44e9-879b-4b271c0e4b11",
   "metadata": {},
   "source": [
    "#### 3.2. Кластеризация\n",
    "\n",
    "4.5 балла"
   ]
  },
  {
   "cell_type": "markdown",
   "id": "0fa8f868-9e36-488b-a9d5-5b1ed3645ac5",
   "metadata": {},
   "source": [
    "При ручной аннотации клеточных типов обычно поступают следующим образом:\n",
    "\n",
    "1. При помощи методов понижения размерности рисуют наши наблюдения, чтобы примерно оценить число клеточных типов\n",
    "2. Проводят кластеризацию наблюдений (для некоторых методов нужно заранее задать число кластеров, поэтому нам как раз помогает п.1)\n",
    "3. Далее мы считаем, что клетки, которые алгоритм отнес к одному кластеру являются одним клеточным типом (если кластеров больше, чем типов клеток, то возможно, что 2 разных кластера являются одним типом)\n",
    "4. После чего по интенсивности экспрессии поверхностных маркеров мы присваиваем кластеру клеточный тип"
   ]
  },
  {
   "cell_type": "markdown",
   "id": "71982501-d096-4411-9aac-1c65b6b5f908",
   "metadata": {},
   "source": [
    "Давайте для начала напишем удобную функцию для визуализации наших многомерных данных в пространстве размерностью 2, делать мы это будем при помощи алгоритма t-SNE."
   ]
  },
  {
   "cell_type": "markdown",
   "id": "6d100f3c-adb3-431e-a790-f0c8244377f6",
   "metadata": {},
   "source": [
    "Поиграться с красивой визуализацией можно [тут](https://distill.pub/2016/misread-tsne/)."
   ]
  },
  {
   "cell_type": "code",
   "execution_count": null,
   "id": "8bf1a5c8-62d3-4de7-b797-ce55ce77af87",
   "metadata": {},
   "outputs": [],
   "source": [
    "def plot_tsne(data, n_iter=1000, \n",
    "              perplexity=40, color=None):\n",
    "    \"\"\"\n",
    "    Функция для отрисовки результатов работы t-SNE\n",
    "        :param data: таблица объекты х признаки\n",
    "        :param n_iter: число итераций градиентного спуска,\n",
    "            может быть полезно увеличить, чтобы получить результаты получше\n",
    "        :param perplexity: \n",
    "        :param color: np.array[n_samples] с переменной,\n",
    "            которой мы хотим покрасить наши наблюдения\n",
    "        :return tsne_emb: np.array[n_samples, 2] - результаты работы t-SNE\n",
    "    \"\"\"\n",
    "    \n",
    "    # Сначала сделаем PCA, так как это хорошее начальное приближение для t-SNE\n",
    "    # позволит алгоритму быстрее сойтись\n",
    "    pca = PCA().fit(data)\n",
    "    pca_embedding = pca.transform(data)\n",
    "    \n",
    "    # Запустим t-SNE, он выдаст нам для каждого объекта по 2 числа, \n",
    "    # которые мы сможем нарисовать\n",
    "    tnse = TSNE(n_components=2, init=pca_embedding[:, :2], n_jobs=-1,\n",
    "                n_iter=n_iter, perplexity=perplexity)\n",
    "    tsne_embedding = tnse.fit_transform(pca_embedding)\n",
    "    \n",
    "    sns.scatterplot(x=tsne_embedding[:, 0],\n",
    "                    y=tsne_embedding[:, 1],\n",
    "                    hue=color, palette=\"colorblind\")\n",
    "    plt.xlabel(\"$TSNE_1$\", fontsize=18)\n",
    "    plt.ylabel(\"$TSNE_2$\", fontsize=18)\n",
    "    \n",
    "    # Вернем также результаты t-SNE, так как, если потом захотим перестроить картинку,\n",
    "    # в таком случае нам не придется ждать заново, просто нарисуем новую с готовыми данными\n",
    "    \n",
    "    return tsne_embedding"
   ]
  },
  {
   "cell_type": "code",
   "execution_count": null,
   "id": "027fc51f-4939-4b78-823d-42e794d9765e",
   "metadata": {},
   "outputs": [],
   "source": [
    "tsne_res = plot_tsne(fc_data)"
   ]
  },
  {
   "cell_type": "markdown",
   "id": "6a0d3310-80ad-456e-87ce-c06b5266a94a",
   "metadata": {},
   "source": [
    "Кластеризуйте ваши данные:\n",
    "\n",
    "1. Попробуйте методы кластеризации из тех, что мы прошли\n",
    "2. Выберите лучший на основании метрики `silhouette_score` (попробуйте также подобрать гиперпараметры)\n",
    "3. Присвойте каждому наблюдению метку класса и нарисуйте график t-SNE, покрасив точки метками кластера"
   ]
  },
  {
   "cell_type": "code",
   "execution_count": null,
   "id": "6ef26640-8351-4fd1-bd2b-0bbfb288a84d",
   "metadata": {},
   "outputs": [],
   "source": []
  },
  {
   "cell_type": "markdown",
   "id": "2843c80c-690c-4f2d-8b24-2d45dff31c91",
   "metadata": {},
   "source": [
    "Удалось ли вам получить ситуацию, где отдельные группы точек покрашены в один цвет?"
   ]
  },
  {
   "cell_type": "code",
   "execution_count": null,
   "id": "216ae127-a7b7-4245-a978-48504a8cb2cb",
   "metadata": {},
   "outputs": [],
   "source": []
  },
  {
   "cell_type": "markdown",
   "id": "fe78762b-cadb-4eeb-ae2b-1a6ca7be05dc",
   "metadata": {},
   "source": [
    "#### 3.3. Аннотация клеточных типов\n",
    "\n",
    "4 балла"
   ]
  },
  {
   "cell_type": "markdown",
   "id": "1552d02d-3579-45b8-84ca-d44bee4882d1",
   "metadata": {},
   "source": [
    "Теперь когда мы подобрали хороший алгоритм кластеризации, можно аннотировать наши клетки. Для этого мы нарисуем t-SNE и покрасим точки в зависимости от интенсивности экспрессии поверхностных маркеров. В датасете присутствуют следующие типы клеток:\n",
    "\n",
    "* B_cells\n",
    "* T_cells\n",
    "* Monocytes\n",
    "* Other cells\n",
    "\n",
    "Вам нужно будет выяснить, какие клетки экспрессируют определенные маркеры и присвоить каждому кластеру один из типов клеток."
   ]
  },
  {
   "cell_type": "markdown",
   "id": "74ac9a1c-2d5a-4296-a07a-0d43fcc1aa56",
   "metadata": {},
   "source": [
    "Для начала нарисуем все это безобразие:"
   ]
  },
  {
   "cell_type": "code",
   "execution_count": null,
   "id": "828d2d2e-b74f-46c1-82f3-ee44477d0761",
   "metadata": {},
   "outputs": [],
   "source": [
    "# Результаты t-SNE уже есть в переменной tsne_res\n",
    "fig, axes = plt.subplots(3, 3, figsize=(20, 20))\n",
    "for col, ax in zip(fc_data.columns, axes.ravel()):\n",
    "    scatter = ax.scatter(tsne_res[:, 0], tsne_res[:, 1], \n",
    "                         c=fc_data[col], cmap=\"YlOrBr\")\n",
    "    fig.colorbar(scatter, ax=ax)\n",
    "    ax.set_title(col)\n",
    "    ax.grid(False)\n",
    "    ax.axis(\"off\")"
   ]
  },
  {
   "cell_type": "markdown",
   "id": "387a5192-36d9-4806-854b-bcf6eb00c103",
   "metadata": {},
   "source": [
    "Дальше дело за вами, нужно определить клеточный тип для каждого кластера и записать их как значения в словаре:"
   ]
  },
  {
   "cell_type": "code",
   "execution_count": null,
   "id": "94452812-efc3-4fbe-8c75-a802aa5f24a4",
   "metadata": {},
   "outputs": [],
   "source": [
    "cell_type_cluster_map = {0: \"YOUR SOLUTION\", \n",
    "                         1: \"YOUR SOLUTION\", \n",
    "                         2: \"YOUR SOLUTION\", \n",
    "                         3: \"YOUR SOLUTION\"}"
   ]
  },
  {
   "cell_type": "code",
   "execution_count": null,
   "id": "13ea2cbd-6df2-421b-895f-2a9bccedc7af",
   "metadata": {},
   "outputs": [],
   "source": [
    "labeled_fc_data = fc_data.assign(Population=clust.labels_)\n",
    "labeled_fc_data[\"Population\"] = labeled_fc_data[\"Population\"].map(cell_type_cluster_map)"
   ]
  },
  {
   "cell_type": "markdown",
   "id": "e26897e3-8161-4816-a4fe-3717d03433cb",
   "metadata": {},
   "source": [
    "Посчитайте, как распределены типы клеток:"
   ]
  },
  {
   "cell_type": "code",
   "execution_count": null,
   "id": "2c3b11f5-41d1-42f0-960b-4cea03301a01",
   "metadata": {},
   "outputs": [],
   "source": []
  },
  {
   "cell_type": "markdown",
   "id": "a1efdb04-814c-4418-b6fe-5811ac3e34bc",
   "metadata": {},
   "source": [
    "Сохраните ваши результаты в csv файл, мы сравним их с правильными ответами по метрике `f1_score(average=\"macro\")`, которая хорошо подходит, даже если классы не сбалансированы."
   ]
  },
  {
   "cell_type": "code",
   "execution_count": null,
   "id": "9a1feed8-fe0b-4ba3-a3b4-4e7c9c84b62f",
   "metadata": {},
   "outputs": [],
   "source": []
  },
  {
   "cell_type": "markdown",
   "id": "fc064d4f-6451-42ee-a129-640b7a4b333e",
   "metadata": {},
   "source": [
    "#### 3.4. Атоматическая аннотация\n",
    "\n",
    "**дополнительные** 5 баллов"
   ]
  },
  {
   "cell_type": "markdown",
   "id": "6d11fd03-325d-4267-b532-c2e2a6b261b6",
   "metadata": {},
   "source": [
    "Это задание является дополнительным. Вам нужно построить классификатор клеточных типов на основе размеченных вами данных. Пока что мы прошли не так много разных классификаторов, но уже есть из чего выбирать.\n",
    "\n",
    "Оцените качество полученной модели при помощи `f1_score(average=\"macro\")`. Попробуйте его улучшить, каким-то образом поработав с дисбалансом классов ([помощь](https://elitedatascience.com/imbalanced-classes))."
   ]
  },
  {
   "cell_type": "code",
   "execution_count": null,
   "id": "61d60f3f-421a-4d86-911e-1b727792276c",
   "metadata": {},
   "outputs": [],
   "source": []
  },
  {
   "cell_type": "markdown",
   "id": "d5d0a9c8-9285-47b0-a419-c69d3cdc6270",
   "metadata": {},
   "source": [
    "### Задание 4. Любимое место\n",
    "\n",
    "дополнительно 0.5 балла\n",
    "\n",
    "Расскажите о вашем любимом месте, куда бы вы хотели съездить этой весной, если вы уже там бывали, то прикрепите фотографию)"
   ]
  },
  {
   "cell_type": "code",
   "execution_count": null,
   "id": "446bef7d-f230-4bc8-9fe3-ba838c6bcac4",
   "metadata": {},
   "outputs": [],
   "source": []
  },
  {
   "cell_type": "markdown",
   "id": "824b9905-57ad-4206-a6dc-a606bebf0d29",
   "metadata": {},
   "source": [
    "### Therapy time\n",
    "\n",
    "Напишите здесь ваши впечатления о задании: было ли интересно, было ли слишком легко или наоборот сложно и тд. Также сюда можно написать свои идеи по улучшению заданий, а также предложить данные, на основе которых вы бы хотели построить следующие дз.\n",
    "\n",
    "**Ваши мысли:**"
   ]
  },
  {
   "cell_type": "code",
   "execution_count": null,
   "id": "90d85915-bfee-47d5-bb82-00b1460807f2",
   "metadata": {},
   "outputs": [],
   "source": []
  }
 ],
 "metadata": {
  "kernelspec": {
   "display_name": "Python 3",
   "language": "python",
   "name": "python3"
  },
  "language_info": {
   "codemirror_mode": {
    "name": "ipython",
    "version": 3
   },
   "file_extension": ".py",
   "mimetype": "text/x-python",
   "name": "python",
   "nbconvert_exporter": "python",
   "pygments_lexer": "ipython3",
   "version": "3.8.8"
  }
 },
 "nbformat": 4,
 "nbformat_minor": 5
}
