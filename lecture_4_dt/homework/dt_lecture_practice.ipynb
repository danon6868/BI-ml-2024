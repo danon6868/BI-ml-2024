{
 "cells": [
  {
   "cell_type": "code",
   "execution_count": 470,
   "id": "b084d51a-694e-4cc8-99cb-f2e8cc62269d",
   "metadata": {},
   "outputs": [],
   "source": [
    "import numpy as np\n",
    "import pandas as pd\n",
    "from sklearn.preprocessing import StandardScaler\n",
    "from sklearn.linear_model import LogisticRegression\n",
    "from sklearn.neighbors import KNeighborsClassifier\n",
    "from sklearn.tree import DecisionTreeClassifier\n",
    "from sklearn.model_selection import train_test_split, GridSearchCV\n",
    "from sklearn.decomposition import PCA\n",
    "from sklearn.metrics import f1_score\n",
    "from sklearn.pipeline import Pipeline"
   ]
  },
  {
   "cell_type": "markdown",
   "id": "ab8e95f5-5349-423d-8c28-e80f50a61ce2",
   "metadata": {},
   "source": [
    "Будем учиться классифицировать жанры музыки, полузуюсь не аудио дорожками, а уже осмысленными признаками (правда, не все из них имеют понятные названия). Сами данные можно найти [здесь](https://www.kaggle.com/purumalgi/music-genre-classification). Будем использовать файл `train.csv`. Нашей задачей будет предсказание переменной `Class` (жанр песни) при помощи деревьев решений. Можно попробовать также другие методы классификации, которые мы прошли, и сравнить результаты. При обучении всех моделей не забывайте про разделение на тренировку и тест (или кросс валидацию [ссылка](https://www.youtube.com/watch?v=fSytzGwwBVw))."
   ]
  },
  {
   "cell_type": "markdown",
   "id": "04e0c9f5-2043-4ed7-92e4-e53677b60df8",
   "metadata": {},
   "source": [
    "### Задание 1. EDA (10 баллов)\n",
    "\n",
    "Как обычно, начнем с того, что посмотрим на наши данные: типы переменных, пропущенные значения, баланс классов и все такое. Ваш ход:"
   ]
  },
  {
   "cell_type": "code",
   "execution_count": 429,
   "id": "1ab19c5c-4a2b-4388-8063-ec56e415408a",
   "metadata": {},
   "outputs": [
    {
     "data": {
      "text/html": [
       "<div>\n",
       "<style scoped>\n",
       "    .dataframe tbody tr th:only-of-type {\n",
       "        vertical-align: middle;\n",
       "    }\n",
       "\n",
       "    .dataframe tbody tr th {\n",
       "        vertical-align: top;\n",
       "    }\n",
       "\n",
       "    .dataframe thead th {\n",
       "        text-align: right;\n",
       "    }\n",
       "</style>\n",
       "<table border=\"1\" class=\"dataframe\">\n",
       "  <thead>\n",
       "    <tr style=\"text-align: right;\">\n",
       "      <th></th>\n",
       "      <th>Artist Name</th>\n",
       "      <th>Track Name</th>\n",
       "      <th>Popularity</th>\n",
       "      <th>danceability</th>\n",
       "      <th>energy</th>\n",
       "      <th>key</th>\n",
       "      <th>loudness</th>\n",
       "      <th>mode</th>\n",
       "      <th>speechiness</th>\n",
       "      <th>acousticness</th>\n",
       "      <th>instrumentalness</th>\n",
       "      <th>liveness</th>\n",
       "      <th>valence</th>\n",
       "      <th>tempo</th>\n",
       "      <th>duration_in min/ms</th>\n",
       "      <th>time_signature</th>\n",
       "      <th>Class</th>\n",
       "    </tr>\n",
       "  </thead>\n",
       "  <tbody>\n",
       "    <tr>\n",
       "      <th>0</th>\n",
       "      <td>Bruno Mars</td>\n",
       "      <td>That's What I Like (feat. Gucci Mane)</td>\n",
       "      <td>60.0</td>\n",
       "      <td>0.854</td>\n",
       "      <td>0.564</td>\n",
       "      <td>1.0</td>\n",
       "      <td>-4.964</td>\n",
       "      <td>1</td>\n",
       "      <td>0.0485</td>\n",
       "      <td>0.017100</td>\n",
       "      <td>NaN</td>\n",
       "      <td>0.0849</td>\n",
       "      <td>0.8990</td>\n",
       "      <td>134.071</td>\n",
       "      <td>234596.0</td>\n",
       "      <td>4</td>\n",
       "      <td>5</td>\n",
       "    </tr>\n",
       "    <tr>\n",
       "      <th>1</th>\n",
       "      <td>Boston</td>\n",
       "      <td>Hitch a Ride</td>\n",
       "      <td>54.0</td>\n",
       "      <td>0.382</td>\n",
       "      <td>0.814</td>\n",
       "      <td>3.0</td>\n",
       "      <td>-7.230</td>\n",
       "      <td>1</td>\n",
       "      <td>0.0406</td>\n",
       "      <td>0.001100</td>\n",
       "      <td>0.004010</td>\n",
       "      <td>0.1010</td>\n",
       "      <td>0.5690</td>\n",
       "      <td>116.454</td>\n",
       "      <td>251733.0</td>\n",
       "      <td>4</td>\n",
       "      <td>10</td>\n",
       "    </tr>\n",
       "    <tr>\n",
       "      <th>2</th>\n",
       "      <td>The Raincoats</td>\n",
       "      <td>No Side to Fall In</td>\n",
       "      <td>35.0</td>\n",
       "      <td>0.434</td>\n",
       "      <td>0.614</td>\n",
       "      <td>6.0</td>\n",
       "      <td>-8.334</td>\n",
       "      <td>1</td>\n",
       "      <td>0.0525</td>\n",
       "      <td>0.486000</td>\n",
       "      <td>0.000196</td>\n",
       "      <td>0.3940</td>\n",
       "      <td>0.7870</td>\n",
       "      <td>147.681</td>\n",
       "      <td>109667.0</td>\n",
       "      <td>4</td>\n",
       "      <td>6</td>\n",
       "    </tr>\n",
       "    <tr>\n",
       "      <th>3</th>\n",
       "      <td>Deno</td>\n",
       "      <td>Lingo (feat. J.I &amp; Chunkz)</td>\n",
       "      <td>66.0</td>\n",
       "      <td>0.853</td>\n",
       "      <td>0.597</td>\n",
       "      <td>10.0</td>\n",
       "      <td>-6.528</td>\n",
       "      <td>0</td>\n",
       "      <td>0.0555</td>\n",
       "      <td>0.021200</td>\n",
       "      <td>NaN</td>\n",
       "      <td>0.1220</td>\n",
       "      <td>0.5690</td>\n",
       "      <td>107.033</td>\n",
       "      <td>173968.0</td>\n",
       "      <td>4</td>\n",
       "      <td>5</td>\n",
       "    </tr>\n",
       "    <tr>\n",
       "      <th>4</th>\n",
       "      <td>Red Hot Chili Peppers</td>\n",
       "      <td>Nobody Weird Like Me - Remastered</td>\n",
       "      <td>53.0</td>\n",
       "      <td>0.167</td>\n",
       "      <td>0.975</td>\n",
       "      <td>2.0</td>\n",
       "      <td>-4.279</td>\n",
       "      <td>1</td>\n",
       "      <td>0.2160</td>\n",
       "      <td>0.000169</td>\n",
       "      <td>0.016100</td>\n",
       "      <td>0.1720</td>\n",
       "      <td>0.0918</td>\n",
       "      <td>199.060</td>\n",
       "      <td>229960.0</td>\n",
       "      <td>4</td>\n",
       "      <td>10</td>\n",
       "    </tr>\n",
       "  </tbody>\n",
       "</table>\n",
       "</div>"
      ],
      "text/plain": [
       "             Artist Name                             Track Name  Popularity  \\\n",
       "0             Bruno Mars  That's What I Like (feat. Gucci Mane)        60.0   \n",
       "1                 Boston                           Hitch a Ride        54.0   \n",
       "2          The Raincoats                     No Side to Fall In        35.0   \n",
       "3                   Deno             Lingo (feat. J.I & Chunkz)        66.0   \n",
       "4  Red Hot Chili Peppers      Nobody Weird Like Me - Remastered        53.0   \n",
       "\n",
       "   danceability  energy   key  loudness  mode  speechiness  acousticness  \\\n",
       "0         0.854   0.564   1.0    -4.964     1       0.0485      0.017100   \n",
       "1         0.382   0.814   3.0    -7.230     1       0.0406      0.001100   \n",
       "2         0.434   0.614   6.0    -8.334     1       0.0525      0.486000   \n",
       "3         0.853   0.597  10.0    -6.528     0       0.0555      0.021200   \n",
       "4         0.167   0.975   2.0    -4.279     1       0.2160      0.000169   \n",
       "\n",
       "   instrumentalness  liveness  valence    tempo  duration_in min/ms  \\\n",
       "0               NaN    0.0849   0.8990  134.071            234596.0   \n",
       "1          0.004010    0.1010   0.5690  116.454            251733.0   \n",
       "2          0.000196    0.3940   0.7870  147.681            109667.0   \n",
       "3               NaN    0.1220   0.5690  107.033            173968.0   \n",
       "4          0.016100    0.1720   0.0918  199.060            229960.0   \n",
       "\n",
       "   time_signature  Class  \n",
       "0               4      5  \n",
       "1               4     10  \n",
       "2               4      6  \n",
       "3               4      5  \n",
       "4               4     10  "
      ]
     },
     "execution_count": 429,
     "metadata": {},
     "output_type": "execute_result"
    }
   ],
   "source": [
    "data = pd.read_csv(\"train.csv\")\n",
    "data.head()"
   ]
  },
  {
   "cell_type": "code",
   "execution_count": 430,
   "id": "d19b38c0-2bbd-476d-8ec8-c244fb8b2a78",
   "metadata": {},
   "outputs": [
    {
     "name": "stdout",
     "output_type": "stream",
     "text": [
      "<class 'pandas.core.frame.DataFrame'>\n",
      "RangeIndex: 17996 entries, 0 to 17995\n",
      "Data columns (total 17 columns):\n",
      " #   Column              Non-Null Count  Dtype  \n",
      "---  ------              --------------  -----  \n",
      " 0   Artist Name         17996 non-null  object \n",
      " 1   Track Name          17996 non-null  object \n",
      " 2   Popularity          17568 non-null  float64\n",
      " 3   danceability        17996 non-null  float64\n",
      " 4   energy              17996 non-null  float64\n",
      " 5   key                 15982 non-null  float64\n",
      " 6   loudness            17996 non-null  float64\n",
      " 7   mode                17996 non-null  int64  \n",
      " 8   speechiness         17996 non-null  float64\n",
      " 9   acousticness        17996 non-null  float64\n",
      " 10  instrumentalness    13619 non-null  float64\n",
      " 11  liveness            17996 non-null  float64\n",
      " 12  valence             17996 non-null  float64\n",
      " 13  tempo               17996 non-null  float64\n",
      " 14  duration_in min/ms  17996 non-null  float64\n",
      " 15  time_signature      17996 non-null  int64  \n",
      " 16  Class               17996 non-null  int64  \n",
      "dtypes: float64(12), int64(3), object(2)\n",
      "memory usage: 2.3+ MB\n"
     ]
    }
   ],
   "source": [
    "data.info()"
   ]
  },
  {
   "cell_type": "markdown",
   "id": "e7235d78",
   "metadata": {},
   "source": [
    "Artist Name и Track Name - единственные нечисленные колонки в таблице, mode, time_signature и Class - целочисленные колонки, остальные - float."
   ]
  },
  {
   "cell_type": "code",
   "execution_count": 431,
   "id": "93a15f47",
   "metadata": {},
   "outputs": [
    {
     "data": {
      "text/plain": [
       "Artist Name            9149\n",
       "Track Name            15129\n",
       "Popularity              100\n",
       "danceability            909\n",
       "energy                 1208\n",
       "key                      11\n",
       "loudness               9002\n",
       "mode                      2\n",
       "speechiness            1194\n",
       "acousticness           3930\n",
       "instrumentalness       4253\n",
       "liveness               1459\n",
       "valence                1320\n",
       "tempo                 13562\n",
       "duration_in min/ms    14121\n",
       "time_signature            4\n",
       "Class                    11\n",
       "dtype: int64"
      ]
     },
     "execution_count": 431,
     "metadata": {},
     "output_type": "execute_result"
    }
   ],
   "source": [
    "data.nunique()"
   ]
  },
  {
   "cell_type": "markdown",
   "id": "96a5f0fc",
   "metadata": {},
   "source": [
    "key, mode, time_signature, class - скорее категориальные признаки. Давайте трансформируем колонки"
   ]
  },
  {
   "cell_type": "code",
   "execution_count": 432,
   "id": "8f991ca2",
   "metadata": {},
   "outputs": [],
   "source": [
    "data[['key', 'mode', 'time_signature', 'Class']] = data[['key', 'mode', 'time_signature', 'Class']].astype('category')"
   ]
  },
  {
   "cell_type": "code",
   "execution_count": 433,
   "id": "efcfee40",
   "metadata": {},
   "outputs": [
    {
     "data": {
      "text/html": [
       "<div>\n",
       "<style scoped>\n",
       "    .dataframe tbody tr th:only-of-type {\n",
       "        vertical-align: middle;\n",
       "    }\n",
       "\n",
       "    .dataframe tbody tr th {\n",
       "        vertical-align: top;\n",
       "    }\n",
       "\n",
       "    .dataframe thead th {\n",
       "        text-align: right;\n",
       "    }\n",
       "</style>\n",
       "<table border=\"1\" class=\"dataframe\">\n",
       "  <thead>\n",
       "    <tr style=\"text-align: right;\">\n",
       "      <th></th>\n",
       "      <th>Popularity</th>\n",
       "      <th>danceability</th>\n",
       "      <th>energy</th>\n",
       "      <th>loudness</th>\n",
       "      <th>speechiness</th>\n",
       "      <th>acousticness</th>\n",
       "      <th>instrumentalness</th>\n",
       "      <th>liveness</th>\n",
       "      <th>valence</th>\n",
       "      <th>tempo</th>\n",
       "      <th>duration_in min/ms</th>\n",
       "    </tr>\n",
       "  </thead>\n",
       "  <tbody>\n",
       "    <tr>\n",
       "      <th>count</th>\n",
       "      <td>17568.000000</td>\n",
       "      <td>17996.000000</td>\n",
       "      <td>17996.000000</td>\n",
       "      <td>17996.000000</td>\n",
       "      <td>17996.000000</td>\n",
       "      <td>17996.000000</td>\n",
       "      <td>13619.000000</td>\n",
       "      <td>17996.000000</td>\n",
       "      <td>17996.000000</td>\n",
       "      <td>17996.000000</td>\n",
       "      <td>1.799600e+04</td>\n",
       "    </tr>\n",
       "    <tr>\n",
       "      <th>mean</th>\n",
       "      <td>44.512124</td>\n",
       "      <td>0.543433</td>\n",
       "      <td>0.662777</td>\n",
       "      <td>-7.910660</td>\n",
       "      <td>0.079707</td>\n",
       "      <td>0.247082</td>\n",
       "      <td>0.177562</td>\n",
       "      <td>0.196170</td>\n",
       "      <td>0.486208</td>\n",
       "      <td>122.623294</td>\n",
       "      <td>2.007445e+05</td>\n",
       "    </tr>\n",
       "    <tr>\n",
       "      <th>std</th>\n",
       "      <td>17.426928</td>\n",
       "      <td>0.166268</td>\n",
       "      <td>0.235373</td>\n",
       "      <td>4.049151</td>\n",
       "      <td>0.083576</td>\n",
       "      <td>0.310632</td>\n",
       "      <td>0.304048</td>\n",
       "      <td>0.159212</td>\n",
       "      <td>0.240195</td>\n",
       "      <td>29.571527</td>\n",
       "      <td>1.119891e+05</td>\n",
       "    </tr>\n",
       "    <tr>\n",
       "      <th>min</th>\n",
       "      <td>1.000000</td>\n",
       "      <td>0.059600</td>\n",
       "      <td>0.000020</td>\n",
       "      <td>-39.952000</td>\n",
       "      <td>0.022500</td>\n",
       "      <td>0.000000</td>\n",
       "      <td>0.000001</td>\n",
       "      <td>0.011900</td>\n",
       "      <td>0.018300</td>\n",
       "      <td>30.557000</td>\n",
       "      <td>5.016500e-01</td>\n",
       "    </tr>\n",
       "    <tr>\n",
       "      <th>25%</th>\n",
       "      <td>33.000000</td>\n",
       "      <td>0.432000</td>\n",
       "      <td>0.509000</td>\n",
       "      <td>-9.538000</td>\n",
       "      <td>0.034800</td>\n",
       "      <td>0.004300</td>\n",
       "      <td>0.000089</td>\n",
       "      <td>0.097500</td>\n",
       "      <td>0.297000</td>\n",
       "      <td>99.620750</td>\n",
       "      <td>1.663370e+05</td>\n",
       "    </tr>\n",
       "    <tr>\n",
       "      <th>50%</th>\n",
       "      <td>44.000000</td>\n",
       "      <td>0.545000</td>\n",
       "      <td>0.700000</td>\n",
       "      <td>-7.016000</td>\n",
       "      <td>0.047400</td>\n",
       "      <td>0.081400</td>\n",
       "      <td>0.003910</td>\n",
       "      <td>0.129000</td>\n",
       "      <td>0.481000</td>\n",
       "      <td>120.065500</td>\n",
       "      <td>2.091600e+05</td>\n",
       "    </tr>\n",
       "    <tr>\n",
       "      <th>75%</th>\n",
       "      <td>56.000000</td>\n",
       "      <td>0.659000</td>\n",
       "      <td>0.860000</td>\n",
       "      <td>-5.189000</td>\n",
       "      <td>0.083000</td>\n",
       "      <td>0.434000</td>\n",
       "      <td>0.200000</td>\n",
       "      <td>0.258000</td>\n",
       "      <td>0.672000</td>\n",
       "      <td>141.969250</td>\n",
       "      <td>2.524900e+05</td>\n",
       "    </tr>\n",
       "    <tr>\n",
       "      <th>max</th>\n",
       "      <td>100.000000</td>\n",
       "      <td>0.989000</td>\n",
       "      <td>1.000000</td>\n",
       "      <td>1.355000</td>\n",
       "      <td>0.955000</td>\n",
       "      <td>0.996000</td>\n",
       "      <td>0.996000</td>\n",
       "      <td>1.000000</td>\n",
       "      <td>0.986000</td>\n",
       "      <td>217.416000</td>\n",
       "      <td>1.477187e+06</td>\n",
       "    </tr>\n",
       "  </tbody>\n",
       "</table>\n",
       "</div>"
      ],
      "text/plain": [
       "         Popularity  danceability        energy      loudness   speechiness  \\\n",
       "count  17568.000000  17996.000000  17996.000000  17996.000000  17996.000000   \n",
       "mean      44.512124      0.543433      0.662777     -7.910660      0.079707   \n",
       "std       17.426928      0.166268      0.235373      4.049151      0.083576   \n",
       "min        1.000000      0.059600      0.000020    -39.952000      0.022500   \n",
       "25%       33.000000      0.432000      0.509000     -9.538000      0.034800   \n",
       "50%       44.000000      0.545000      0.700000     -7.016000      0.047400   \n",
       "75%       56.000000      0.659000      0.860000     -5.189000      0.083000   \n",
       "max      100.000000      0.989000      1.000000      1.355000      0.955000   \n",
       "\n",
       "       acousticness  instrumentalness      liveness       valence  \\\n",
       "count  17996.000000      13619.000000  17996.000000  17996.000000   \n",
       "mean       0.247082          0.177562      0.196170      0.486208   \n",
       "std        0.310632          0.304048      0.159212      0.240195   \n",
       "min        0.000000          0.000001      0.011900      0.018300   \n",
       "25%        0.004300          0.000089      0.097500      0.297000   \n",
       "50%        0.081400          0.003910      0.129000      0.481000   \n",
       "75%        0.434000          0.200000      0.258000      0.672000   \n",
       "max        0.996000          0.996000      1.000000      0.986000   \n",
       "\n",
       "              tempo  duration_in min/ms  \n",
       "count  17996.000000        1.799600e+04  \n",
       "mean     122.623294        2.007445e+05  \n",
       "std       29.571527        1.119891e+05  \n",
       "min       30.557000        5.016500e-01  \n",
       "25%       99.620750        1.663370e+05  \n",
       "50%      120.065500        2.091600e+05  \n",
       "75%      141.969250        2.524900e+05  \n",
       "max      217.416000        1.477187e+06  "
      ]
     },
     "execution_count": 433,
     "metadata": {},
     "output_type": "execute_result"
    }
   ],
   "source": [
    "data.describe()"
   ]
  },
  {
   "cell_type": "code",
   "execution_count": 434,
   "id": "ea161cf8",
   "metadata": {},
   "outputs": [
    {
     "data": {
      "text/plain": [
       "array([[<Axes: title={'center': 'Popularity'}>,\n",
       "        <Axes: title={'center': 'danceability'}>,\n",
       "        <Axes: title={'center': 'energy'}>],\n",
       "       [<Axes: title={'center': 'loudness'}>,\n",
       "        <Axes: title={'center': 'speechiness'}>,\n",
       "        <Axes: title={'center': 'acousticness'}>],\n",
       "       [<Axes: title={'center': 'instrumentalness'}>,\n",
       "        <Axes: title={'center': 'liveness'}>,\n",
       "        <Axes: title={'center': 'valence'}>],\n",
       "       [<Axes: title={'center': 'tempo'}>,\n",
       "        <Axes: title={'center': 'duration_in min/ms'}>, <Axes: >]],\n",
       "      dtype=object)"
      ]
     },
     "execution_count": 434,
     "metadata": {},
     "output_type": "execute_result"
    },
    {
     "data": {
      "image/png": "[encoded data removed]",
      "text/plain": [
       "<Figure size 640x480 with 12 Axes>"
      ]
     },
     "metadata": {},
     "output_type": "display_data"
    }
   ],
   "source": [
    "data.hist()"
   ]
  },
  {
   "cell_type": "code",
   "execution_count": 435,
   "id": "376fd9d4",
   "metadata": {},
   "outputs": [
    {
     "data": {
      "text/plain": [
       "Artist Name              0\n",
       "Track Name               0\n",
       "Popularity             428\n",
       "danceability             0\n",
       "energy                   0\n",
       "key                   2014\n",
       "loudness                 0\n",
       "mode                     0\n",
       "speechiness              0\n",
       "acousticness             0\n",
       "instrumentalness      4377\n",
       "liveness                 0\n",
       "valence                  0\n",
       "tempo                    0\n",
       "duration_in min/ms       0\n",
       "time_signature           0\n",
       "Class                    0\n",
       "dtype: int64"
      ]
     },
     "execution_count": 435,
     "metadata": {},
     "output_type": "execute_result"
    }
   ],
   "source": [
    "data.isna().sum() # В некоторых колонках достаточно большое количество na, давайте попробуем их выкинуть и посмотреть, какое количество данных останется"
   ]
  },
  {
   "cell_type": "code",
   "execution_count": 436,
   "id": "0f46d5b4",
   "metadata": {},
   "outputs": [
    {
     "name": "stdout",
     "output_type": "stream",
     "text": [
      "<class 'pandas.core.frame.DataFrame'>\n",
      "Index: 11813 entries, 1 to 17995\n",
      "Data columns (total 17 columns):\n",
      " #   Column              Non-Null Count  Dtype   \n",
      "---  ------              --------------  -----   \n",
      " 0   Artist Name         11813 non-null  object  \n",
      " 1   Track Name          11813 non-null  object  \n",
      " 2   Popularity          11813 non-null  float64 \n",
      " 3   danceability        11813 non-null  float64 \n",
      " 4   energy              11813 non-null  float64 \n",
      " 5   key                 11813 non-null  category\n",
      " 6   loudness            11813 non-null  float64 \n",
      " 7   mode                11813 non-null  category\n",
      " 8   speechiness         11813 non-null  float64 \n",
      " 9   acousticness        11813 non-null  float64 \n",
      " 10  instrumentalness    11813 non-null  float64 \n",
      " 11  liveness            11813 non-null  float64 \n",
      " 12  valence             11813 non-null  float64 \n",
      " 13  tempo               11813 non-null  float64 \n",
      " 14  duration_in min/ms  11813 non-null  float64 \n",
      " 15  time_signature      11813 non-null  category\n",
      " 16  Class               11813 non-null  category\n",
      "dtypes: category(4), float64(11), object(2)\n",
      "memory usage: 1.3+ MB\n"
     ]
    }
   ],
   "source": [
    "data.dropna().info() # 6 тысяч строк выкинулось - достаточно много. Давайте все таки заменим нан на среднее значение фичи по данному классу"
   ]
  },
  {
   "cell_type": "code",
   "execution_count": 437,
   "id": "50522a7a",
   "metadata": {},
   "outputs": [
    {
     "name": "stderr",
     "output_type": "stream",
     "text": [
      "/tmp/ipykernel_1758/376301317.py:1: FutureWarning: The default of observed=False is deprecated and will be changed to True in a future version of pandas. Pass observed=False to retain current behavior or observed=True to adopt the future default and silence this warning.\n",
      "  data.Popularity = data.Popularity.fillna(data.groupby('Class')['Popularity'].transform(lambda x: x.mean()))\n",
      "/tmp/ipykernel_1758/376301317.py:2: FutureWarning: The default of observed=False is deprecated and will be changed to True in a future version of pandas. Pass observed=False to retain current behavior or observed=True to adopt the future default and silence this warning.\n",
      "  data.instrumentalness = data.instrumentalness.fillna(data.groupby('Class')['instrumentalness'].transform(lambda x: x.mean()))\n",
      "/tmp/ipykernel_1758/376301317.py:3: FutureWarning: The default of observed=False is deprecated and will be changed to True in a future version of pandas. Pass observed=False to retain current behavior or observed=True to adopt the future default and silence this warning.\n",
      "  data.key = data.groupby('Class')['key'].transform(lambda x: x.mode().iloc[0])\n"
     ]
    }
   ],
   "source": [
    "data.Popularity = data.Popularity.fillna(data.groupby('Class')['Popularity'].transform(lambda x: x.mean()))\n",
    "data.instrumentalness = data.instrumentalness.fillna(data.groupby('Class')['instrumentalness'].transform(lambda x: x.mean()))\n",
    "data.key = data.groupby('Class')['key'].transform(lambda x: x.mode().iloc[0])"
   ]
  },
  {
   "cell_type": "markdown",
   "id": "20378ddf",
   "metadata": {},
   "source": [
    "Давайте посмотрим теперь на баланс классов"
   ]
  },
  {
   "cell_type": "code",
   "execution_count": 454,
   "id": "29bfadc0",
   "metadata": {},
   "outputs": [
    {
     "name": "stderr",
     "output_type": "stream",
     "text": [
      "/tmp/ipykernel_1758/2363223037.py:1: FutureWarning: The default of observed=False is deprecated and will be changed to True in a future version of pandas. Pass observed=False to retain current behavior or observed=True to adopt the future default and silence this warning.\n",
      "  data.groupby('Class').size()\n"
     ]
    },
    {
     "data": {
      "text/plain": [
       "Class\n",
       "0      625\n",
       "1     1373\n",
       "2     1272\n",
       "3      402\n",
       "4      387\n",
       "5     1447\n",
       "6     2587\n",
       "7      576\n",
       "8     1854\n",
       "9     2524\n",
       "10    4949\n",
       "dtype: int64"
      ]
     },
     "execution_count": 454,
     "metadata": {},
     "output_type": "execute_result"
    }
   ],
   "source": [
    "data.groupby('Class').size()"
   ]
  },
  {
   "cell_type": "markdown",
   "id": "d5ecd5ba",
   "metadata": {},
   "source": [
    "Классы распределены неравномерно, можно использовать resampling или/и weighted f1 score для компенсации"
   ]
  },
  {
   "cell_type": "markdown",
   "id": "d7dfab66-247d-423e-a4f9-5891ce11627b",
   "metadata": {},
   "source": [
    "### Задание 2. Обучение дерева решений (10 баллов)\n",
    "\n",
    "Предобработайте признаки так, чтобы их можно было подать в модель дерева решений и обучите ее, постарайтесь подобрать оптимальные гиперпараметры, которые вам известны. Постарайтесь также обосновать выбор метрики в данном случае. При подборе гиперпараметров может помочь `GridSearchCV` [ссылка](https://scikit-learn.org/stable/modules/generated/sklearn.model_selection.GridSearchCV.html)."
   ]
  },
  {
   "cell_type": "markdown",
   "id": "8855b911",
   "metadata": {},
   "source": [
    "Имена треков и артистов можно выбросить, в первом случае у нас просто шум, во втором случае мы будем хуже предсказывать артистов, отсутствующих в нашей тренировочной выборке."
   ]
  },
  {
   "cell_type": "code",
   "execution_count": null,
   "id": "f69d6a02-fac9-48ec-9ae8-1613f27283d5",
   "metadata": {},
   "outputs": [],
   "source": [
    "data = data.drop(columns=['Artist Name', 'Track Name'])"
   ]
  },
  {
   "cell_type": "markdown",
   "id": "93db8122",
   "metadata": {},
   "source": [
    "Для подбора гиперпараметров используем GridSearchCV, а для оценки модели - f1 score, так как FN или FP нам одинаково неприятны и нам б хотелось учесть неравномерность распределения классов."
   ]
  },
  {
   "cell_type": "code",
   "execution_count": 472,
   "id": "67423306",
   "metadata": {},
   "outputs": [
    {
     "name": "stdout",
     "output_type": "stream",
     "text": [
      "f1score decision tree 0.9017504966008815\n"
     ]
    }
   ],
   "source": [
    "X_train, X_test, y_train, y_test = train_test_split(data.drop(columns='Class'),\n",
    "                                                    data.Class,\n",
    "                                                    test_size=0.3,\n",
    "                                                    random_state=42)\n",
    "\n",
    "decision_tree = DecisionTreeClassifier()\n",
    "param_grid = { \n",
    "    'max_depth' : [3,4,5,6,7,8,9,10,15,20,30,50],\n",
    "    'criterion' :['gini', 'entropy','log_loss']\n",
    "}\n",
    "decision_tree = GridSearchCV(decision_tree, param_grid, cv=10)\n",
    "decision_tree.fit(X_train, y_train)\n",
    "y_pred = decision_tree.predict(X_test)\n",
    "\n",
    "print('f1score decision tree', f1_score(y_test, y_pred, average='weighted')) # wighted чтобы учесть дисбаланс"
   ]
  },
  {
   "cell_type": "markdown",
   "id": "2a48a5ce",
   "metadata": {},
   "source": [
    "0.9 для weighted f1 очень даже неплохо!"
   ]
  },
  {
   "cell_type": "markdown",
   "id": "11c54184-da20-4f53-9d5f-575e2cad3a4d",
   "metadata": {},
   "source": [
    "### Задание 3. Другие модели (без баллов, просто если есть желание)\n",
    "\n",
    "Проделайте операции из **Задания 2** с другими известными вам классификаторами. Стало ли лучше?"
   ]
  },
  {
   "cell_type": "code",
   "execution_count": 482,
   "id": "eb381e31-ecb5-47aa-8eb0-1fed6e248c61",
   "metadata": {},
   "outputs": [
    {
     "name": "stdout",
     "output_type": "stream",
     "text": [
      "f1score logistic regresion 0.47184779967504376\n"
     ]
    }
   ],
   "source": [
    "scaler = StandardScaler()\n",
    "pca = PCA() \n",
    "logistic = LogisticRegression(max_iter=10000, tol=0.1)\n",
    "pipe = Pipeline(steps=[(\"scaler\", scaler), (\"pca\", pca), (\"logistic\", logistic)])\n",
    "param_grid = {\n",
    "    \"pca__n_components\": [5, 8, 10, 12, 14],\n",
    "    'logistic__C': [0.001, 0.01, 0.1, 1, 10, 100],\n",
    "}\n",
    "\n",
    "logistic_regression = GridSearchCV(pipe, param_grid, cv=10)\n",
    "logistic_regression.fit(X_train, y_train)\n",
    "y_pred_lr = logistic_regression.predict(X_test)\n",
    "\n",
    "print('f1score logistic regresion', f1_score(y_test, y_pred_lr, average='weighted'))\n"
   ]
  },
  {
   "cell_type": "code",
   "execution_count": 483,
   "id": "632fdde7",
   "metadata": {},
   "outputs": [
    {
     "name": "stdout",
     "output_type": "stream",
     "text": [
      "f1score logistic regresion 0.47184779967504376\n"
     ]
    }
   ],
   "source": [
    "scaler = StandardScaler()\n",
    "logistic = LogisticRegression(max_iter=10000, tol=0.1)\n",
    "pipe = Pipeline(steps=[(\"scaler\", scaler), (\"logistic\", logistic)])\n",
    "param_grid = {\n",
    "    'logistic__C': [0.001, 0.01, 0.1, 1, 10, 100],\n",
    "}\n",
    "\n",
    "logistic_regression = GridSearchCV(pipe, param_grid, cv=10)\n",
    "logistic_regression.fit(X_train, y_train)\n",
    "y_pred_lr = logistic_regression.predict(X_test)\n",
    "\n",
    "print('f1score logistic regresion', f1_score(y_test, y_pred_lr, average='weighted'))"
   ]
  },
  {
   "cell_type": "markdown",
   "id": "b295514b",
   "metadata": {},
   "source": [
    "PCA никак не влияет на итоговый результат, интересно почему ..."
   ]
  },
  {
   "cell_type": "code",
   "execution_count": 481,
   "id": "e17ed7d1",
   "metadata": {},
   "outputs": [
    {
     "name": "stdout",
     "output_type": "stream",
     "text": [
      "f1score K neighbours 0.7151308367585193\n"
     ]
    }
   ],
   "source": [
    "k_neighbors = KNeighborsClassifier()\n",
    "param_grid = {\n",
    "    'kn__n_neighbors': [3, 5, 7, 9, 11, 20, 40],\n",
    "    'kn__weights': ['uniform', 'distance']\n",
    "}\n",
    "pipe = Pipeline(steps=[(\"scaler\", scaler), (\"kn\", k_neighbors)])\n",
    "k_neighbors = GridSearchCV(pipe, param_grid, cv=10)\n",
    "k_neighbors.fit(X_train, y_train)\n",
    "y_pred_k_neighbors = k_neighbors.predict(X_test)\n",
    "\n",
    "print('f1score K neighbours', f1_score(y_test, y_pred_k_neighbors, average='weighted'))"
   ]
  },
  {
   "cell_type": "markdown",
   "id": "29335e66",
   "metadata": {},
   "source": [
    "Все результаты показывают резльтат хуже, чем у decision tree"
   ]
  },
  {
   "cell_type": "markdown",
   "id": "a4d857d4-15fc-456d-adb3-d0ebd1690cfa",
   "metadata": {},
   "source": [
    "### Задание 4. (0.5 доп. балла)\n",
    "\n",
    "Расскажите про свои любимые фильмы, мультики и тд.\n",
    "\n",
    "1. Олдбой 2003 года - просто нужно смотреть. любое краткое описание этого фильма - кострация.\n",
    "\n",
    "2. Падшие ангелы 1995 - для меня синоним \"стиля\" в кинематографе + любимая работа Вонга Карвая\n",
    "\n",
    "3. Крутой учитель Онидзука - не очень люблю сериалы, но этот мультфильм исключение. Что будет, если бывший главарь байкеров без опыта, компетенций и знаний решит стать школьным учителем? А если ему дадут на попечеие самый проблемный класс за всю историю школы, который раз за разом доводил классух до ручки? Получится самая трогательная трагикомедия, которую вы когда либо смотрели.\n",
    "\n",
    "Топ вышел чисто восточным, но да ладно."
   ]
  }
 ],
 "metadata": {
  "kernelspec": {
   "display_name": "default",
   "language": "python",
   "name": "python3"
  },
  "language_info": {
   "codemirror_mode": {
    "name": "ipython",
    "version": 3
   },
   "file_extension": ".py",
   "mimetype": "text/x-python",
   "name": "python",
   "nbconvert_exporter": "python",
   "pygments_lexer": "ipython3",
   "version": "3.12.0"
  }
 },
 "nbformat": 4,
 "nbformat_minor": 5
}
