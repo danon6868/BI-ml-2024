{
 "cells": [
  {
   "cell_type": "code",
   "execution_count": null,
   "id": "b084d51a-694e-4cc8-99cb-f2e8cc62269d",
   "metadata": {},
   "outputs": [],
   "source": [
    "import pandas as pd\n",
    "from sklearn.tree import DecisionTreeClassifier\n",
    "from sklearn.model_selection import train_test_split\n",
    "from sklearn.metrics import accuracy_score"
   ]
  },
  {
   "cell_type": "markdown",
   "id": "ab8e95f5-5349-423d-8c28-e80f50a61ce2",
   "metadata": {},
   "source": [
    "Будем учиться классифицировать жанры музыки, полузуюсь не аудио дорожками, а уже осмысленными признаками (правда, не все из них имеют понятные названия). Сами данные можно найти [здесь](https://www.kaggle.com/purumalgi/music-genre-classification). Будем использовать файл `train.csv`. Нашей задачей будет предсказание переменной `Class` (жанр песни) при помощи деревьев решений. Можно попробовать также другие методы классификации, которые мы прошли, и сравнить результаты. При обучении всех моделей не забывайте про разделение на тренировку и тест (или кросс валидацию [ссылка](https://www.youtube.com/watch?v=fSytzGwwBVw))."
   ]
  },
  {
   "cell_type": "markdown",
   "id": "04e0c9f5-2043-4ed7-92e4-e53677b60df8",
   "metadata": {},
   "source": [
    "### Задание 1. EDA (10 баллов)\n",
    "\n",
    "Как обычно, начнем с того, что посмотрим на наши данные: типы переменных, пропущенные значения, баланс классов и все такое. Ваш ход:"
   ]
  },
  {
   "cell_type": "code",
   "execution_count": null,
   "id": "1ab19c5c-4a2b-4388-8063-ec56e415408a",
   "metadata": {},
   "outputs": [],
   "source": [
    "data = pd.read_csv(\"train.csv\")\n",
    "data.head()"
   ]
  },
  {
   "cell_type": "code",
   "execution_count": null,
   "id": "d19b38c0-2bbd-476d-8ec8-c244fb8b2a78",
   "metadata": {},
   "outputs": [],
   "source": []
  },
  {
   "cell_type": "markdown",
   "id": "d7dfab66-247d-423e-a4f9-5891ce11627b",
   "metadata": {},
   "source": [
    "### Задание 2. Обучение дерева решений (10 баллов)\n",
    "\n",
    "Предобработайте признаки так, чтобы их можно было подать в модель дерева решений и обучите ее, постарайтесь подобрать оптимальные гиперпараметры, которые вам известны. Постарайтесь также обосновать выбор метрики в данном случае. При подборе гиперпараметров может помочь `GridSearchCV` [ссылка](https://scikit-learn.org/stable/modules/generated/sklearn.model_selection.GridSearchCV.html)."
   ]
  },
  {
   "cell_type": "code",
   "execution_count": null,
   "id": "f69d6a02-fac9-48ec-9ae8-1613f27283d5",
   "metadata": {},
   "outputs": [],
   "source": []
  },
  {
   "cell_type": "markdown",
   "id": "11c54184-da20-4f53-9d5f-575e2cad3a4d",
   "metadata": {},
   "source": [
    "### Задание 3. Другие модели (без баллов, просто если есть желание)\n",
    "\n",
    "Проделайте операции из **Задания 2** с другими известными вам классификаторами. Стало ли лучше?"
   ]
  },
  {
   "cell_type": "code",
   "execution_count": null,
   "id": "eb381e31-ecb5-47aa-8eb0-1fed6e248c61",
   "metadata": {},
   "outputs": [],
   "source": []
  },
  {
   "cell_type": "markdown",
   "id": "a4d857d4-15fc-456d-adb3-d0ebd1690cfa",
   "metadata": {},
   "source": [
    "### Задание 4. (0.5 доп. балла)\n",
    "\n",
    "Расскажите про свои любимые фильмы, мультики и тд.\n",
    "\n",
    "1.\n",
    "\n",
    "2.\n",
    "\n",
    "3."
   ]
  },
  {
   "cell_type": "code",
   "execution_count": null,
   "id": "9ab7a7eb-eae9-4b07-bcc1-d5deca2aba00",
   "metadata": {},
   "outputs": [],
   "source": []
  }
 ],
 "metadata": {
  "kernelspec": {
   "display_name": "configs_task",
   "language": "python",
   "name": "configs_task"
  },
  "language_info": {
   "codemirror_mode": {
    "name": "ipython",
    "version": 3
   },
   "file_extension": ".py",
   "mimetype": "text/x-python",
   "name": "python",
   "nbconvert_exporter": "python",
   "pygments_lexer": "ipython3",
   "version": "3.9.7"
  }
 },
 "nbformat": 4,
 "nbformat_minor": 5
}
