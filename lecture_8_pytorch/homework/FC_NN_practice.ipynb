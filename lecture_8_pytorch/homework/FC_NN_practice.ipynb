{
  "cells": [
    {
      "cell_type": "markdown",
      "metadata": {
        "colab_type": "text",
        "id": "view-in-github"
      },
      "source": [
        "<a href=\"https://colab.research.google.com/github/danon6868/BI-ml-2024/blob/main/lecture_8_pytorch/homework/FC_NN_practice.ipynb\" target=\"_parent\"><img src=\"https://colab.research.google.com/assets/colab-badge.svg\" alt=\"Open In Colab\"/></a>"
      ]
    },
    {
      "cell_type": "markdown",
      "metadata": {
        "id": "-pSGPQS8Btmc"
      },
      "source": [
        "Всем привет! Сегодня вы впервые попробуете написать свою собственную нейронную сеть и попробовать ее обучить. Мы будем работать с картинками, но пока что не совсем тем способом, которым лучше всего это делать, но должно получиться неплохо.\n",
        "\n",
        "Будем работать с [датасетом](https://github.com/rois-codh/kmnist) `Kuzushiji-MNIST` (`KMNIST`). Это рукописные буквы, изображения имеют размер (28, 28, 1) и разделены на 10 классов, по ссылке можно прочитать подробнее."
      ]
    },
    {
      "cell_type": "code",
      "execution_count": 9,
      "metadata": {
        "id": "75HVAP_RFU7r"
      },
      "outputs": [],
      "source": [
        "import numpy as np\n",
        "import torch\n",
        "import matplotlib.pyplot as plt\n",
        "from IPython.display import clear_output"
      ]
    },
    {
      "cell_type": "markdown",
      "metadata": {
        "id": "46iQ8ixtEruP"
      },
      "source": [
        "## Загрузка данных"
      ]
    },
    {
      "cell_type": "markdown",
      "metadata": {
        "id": "R6h1jVreJlV-"
      },
      "source": [
        "Сейчас мы будем использовать встроенные данные, но в реальности приходится писать свой класс для датасета (Dataset), у которого реализовывать несколько обязательных методов (напр, `__getitem__`), но это обсудим уже потом."
      ]
    },
    {
      "cell_type": "code",
      "execution_count": 4,
      "metadata": {
        "id": "s9L9Z02o_1bK"
      },
      "outputs": [],
      "source": [
        "import torchvision\n",
        "from torchvision.datasets import KMNIST\n",
        "\n",
        "\n",
        "# Превращает картинки в тензоры\n",
        "transform = torchvision.transforms.Compose(\n",
        "    [torchvision.transforms.ToTensor()])\n",
        "\n",
        "# Загрузим данные (в переменных лежат объекты типа `Dataset`)\n",
        "# В аргумент `transform` мы передаем необходимые трансформации (ToTensor)\n",
        "trainset = KMNIST(root=\"./KMNIST\", train=True, download=True, transform=transform)\n",
        "testset = KMNIST(root=\"./KMNIST\", train=False, download=True, transform=transform)\n",
        "\n",
        "clear_output()"
      ]
    },
    {
      "cell_type": "markdown",
      "metadata": {
        "id": "V83E2vDrO9CC"
      },
      "source": [
        "Определим даталоадеры, они нужны, чтобы реализовывать стохастический градиентный спуск (то есть мы не хотим считывать в оперативную память все картинки сразу, а делать это батчами)."
      ]
    },
    {
      "cell_type": "code",
      "execution_count": 10,
      "metadata": {
        "id": "oqC8XO8pO8Px"
      },
      "outputs": [],
      "source": [
        "from torch.utils.data import DataLoader\n",
        "\n",
        "\n",
        "# Можно оставить таким\n",
        "batch_size = 256\n",
        "\n",
        "trainloader = DataLoader(trainset, batch_size=batch_size, shuffle=True, num_workers=2)\n",
        "testloader = DataLoader(testset, batch_size=batch_size, shuffle=False, num_workers=2)"
      ]
    },
    {
      "cell_type": "markdown",
      "metadata": {
        "id": "-Ntp5sLoPyGx"
      },
      "source": [
        "Подумайте, как может влиять на скорость обучения параметр `batch_size`, почему вы так считаете?\n",
        "\n",
        "**Ответ:** Больший `batch_size` может позволить получать более стабильное напрвление, однако вместе с этим будет потребляться большее количество памяти, а также возрастает риск переобучения модели."
      ]
    },
    {
      "cell_type": "markdown",
      "metadata": {
        "id": "t2vmM4KaHvrs"
      },
      "source": [
        "Посмотрим на какую-нибудь картинку:"
      ]
    },
    {
      "cell_type": "code",
      "execution_count": 11,
      "metadata": {
        "colab": {
          "base_uri": "https://localhost:8080/",
          "height": 266
        },
        "id": "N-b-kFCYAoOP",
        "outputId": "d077a35b-f874-40c2-e1da-1f461c11172f"
      },
      "outputs": [
        {
          "data": {
            "image/png": "[encoded data removed]",
            "text/plain": [
              "<Figure size 640x480 with 1 Axes>"
            ]
          },
          "metadata": {},
          "output_type": "display_data"
        }
      ],
      "source": [
        "plt.imshow(trainset[0][0].view(28, 28).numpy(), cmap=\"gray\")\n",
        "plt.axis(\"off\")\n",
        "plt.title(f\"Class is {trainset[0][1]}\", fontsize=16);"
      ]
    },
    {
      "cell_type": "markdown",
      "metadata": {
        "id": "8_MSY231Hzz9"
      },
      "source": [
        "### Задание 1. Смотрим на картинки\n",
        "\n",
        "**2** балла\n",
        "\n",
        "Нарисуйте на одном графике изображения всех 10 классов:"
      ]
    },
    {
      "cell_type": "markdown",
      "metadata": {
        "id": "j0tNdHM5JS6l"
      },
      "source": [
        "⣿⣿⣿⣿⣿⣿⠿⢋⣥⣴⣶⣶⣶⣬⣙⠻⠟⣋⣭⣭⣭⣭⡙⠻⣿⣿⣿⣿⣿\n",
        "⣿⣿⣿⣿⡿⢋⣴⣿⣿⠿⢟⣛⣛⣛⠿⢷⡹⣿⣿⣿⣿⣿⣿⣆⠹⣿⣿⣿⣿\n",
        "⣿⣿⣿⡿⢁⣾⣿⣿⣴⣿⣿⣿⣿⠿⠿⠷⠥⠱⣶⣶⣶⣶⡶⠮⠤⣌⡙⢿⣿\n",
        "⣿⡿⢛⡁⣾⣿⣿⣿⡿⢟⡫⢕⣪⡭⠥⢭⣭⣉⡂⣉⡒⣤⡭⡉⠩⣥⣰⠂⠹\n",
        "⡟⢠⣿⣱⣿⣿⣿⣏⣛⢲⣾⣿⠃⠄⠐⠈⣿⣿⣿⣿⣿⣿⠄⠁⠃⢸⣿⣿⡧\n",
        "⢠⣿⣿⣿⣿⣿⣿⣿⣿⣇⣊⠙⠳⠤⠤⠾⣟⠛⠍⣹⣛⣛⣢⣀⣠⣛⡯⢉⣰\n",
        "⣿⣿⣿⣿⣿⣿⣿⣿⣿⣿⣿⣿⣷⡶⠶⢒⣠⣼⣿⣿⣛⠻⠛⢛⣛⠉⣴⣿⣿\n",
        "⣿⣿⣿⣿⣿⣿⣿⡿⢛⡛⢿⣿⣿⣶⣿⣿⣿⣿⣿⣿⣿⣿⣿⣿⣿⣷⡈⢿⣿\n",
        "⣿⣿⣿⣿⣿⣿⣿⠸⣿⡻⢷⣍⣛⠻⠿⠿⣿⣿⣿⣿⣿⣿⣿⣿⣿⠿⢇⡘⣿\n",
        "⣿⣿⣿⣿⣿⣿⣿⣷⣝⠻⠶⣬⣍⣛⣛⠓⠶⠶⠶⠤⠬⠭⠤⠶⠶⠞⠛⣡⣿\n",
        "⢿⣿⣿⣿⣿⣿⣿⣿⣿⣿⣷⣶⣬⣭⣍⣙⣛⣛⣛⠛⠛⠛⠿⠿⠿⠛⣠⣿⣿\n",
        "⣦⣈⠉⢛⠻⠿⠿⢿⣿⣿⣿⣿⣿⣿⣿⣿⣿⣿⣿⡿⠿⠛⣁⣴⣾⣿⣿⣿⣿\n",
        "⣿⣿⣿⣶⣮⣭⣁⣒⣒⣒⠂⠠⠬⠭⠭⠭⢀⣀⣠⣄⡘⠿⣿⣿⣿⣿⣿⣿⣿\n",
        "⣿⣿⣿⣿⣿⣿⣿⣿⣿⣿⣿⣿⣿⣿⣿⣿⣿⣿⣿⣿⣿⣦⡈⢿⣿⣿⣿⣿⣿\n",
        "\n",
        "\n",
        "\n"
      ]
    },
    {
      "cell_type": "code",
      "execution_count": 16,
      "metadata": {
        "id": "x3j6Bsu9AoT6"
      },
      "outputs": [
        {
          "data": {
            "image/png": "[encoded data removed]",
            "text/plain": [
              "<Figure size 1200x600 with 10 Axes>"
            ]
          },
          "metadata": {},
          "output_type": "display_data"
        }
      ],
      "source": [
        "fig, axes = plt.subplots(2, 5, figsize=(12, 6))\n",
        "\n",
        "for i in range(10):\n",
        "    img = next(img for img, label in trainset if label == i)\n",
        "    ax = axes[i // 5, i % 5]\n",
        "    ax.imshow(img[0].view(28, 28).numpy(), cmap=\"gray\")\n",
        "    ax.set_title(f\"Class is {i}\", fontsize=12)\n",
        "    ax.axis(\"off\")\n",
        "\n",
        "plt.tight_layout()\n",
        "plt.show()"
      ]
    },
    {
      "cell_type": "markdown",
      "metadata": {
        "id": "dLCfnFW-JtGx"
      },
      "source": [
        "### Задание 2. Строим свой первый MLP\n",
        "\n",
        "**4** балла\n",
        "\n",
        "MLP (multilayer perceptron) или нейронная сеть из полносвязных (линейных) слоев, это мы уже знаем.\n",
        "\n",
        "Опишите структуру сети: 3 полносвязных слоя + функции активации на ваш выбор. **Подумайте** про активацию после последнего слоя!\n",
        "\n",
        "Сеть на выходе 1 слоя должна иметь 256 признаков, на выходе из 2 128 признаков, на выходе из последнего столько, сколько у вас классов.\n",
        "\n",
        "https://pytorch.org/docs/stable/nn.html?highlight=activation#non-linear-activations-weighted-sum-nonlinearity"
      ]
    },
    {
      "cell_type": "code",
      "execution_count": 21,
      "metadata": {
        "id": "dhYBvQIXJdSz"
      },
      "outputs": [],
      "source": [
        "import torch.nn as nn\n",
        "\n",
        "class FCNet(nn.Module):\n",
        "    def __init__(self):\n",
        "        super().__init__() #  это надо помнить!\n",
        "        ## YOUR CODE HERE\n",
        "        self.fc1 = nn.Linear(in_features=28*28, out_features=256)\n",
        "        self.activation1 = nn.ReLU()\n",
        "        self.fc2 = nn.Linear(in_features=256, out_features=128)\n",
        "        self.activation2 = nn.ReLU()\n",
        "        self.fc3 = nn.Linear(in_features=128, out_features=10)\n",
        "        self.output_activation = nn.Softmax(dim=1)\n",
        "\n",
        "\n",
        "    def forward(self, x):  # Forward вызывается внутри метода __call__ родительского класса\n",
        "        ## x -> тензор размерности (BATCH_SIZE, N_CHANNELS, WIDTH, HEIGHT)\n",
        "        ## надо подумать над тем, что у нас полносвязные слои принимают векторы\n",
        "\n",
        "        ## YOUR CODE HERE\n",
        "        x = x.view(-1, 28*28)\n",
        "        x = self.fc1(x)\n",
        "        x = self.activation1(x)\n",
        "        x = self.fc2(x)\n",
        "        x = self.activation2(x)\n",
        "        x = self.fc3(x)\n",
        "        x = self.output_activation(x)\n",
        "\n",
        "        return x"
      ]
    },
    {
      "cell_type": "markdown",
      "metadata": {
        "id": "uI0R77EQNKef"
      },
      "source": [
        "Сколько обучаемых параметров у вашей модели (весов и смещений)?\n",
        "\n",
        "**Ответ:**"
      ]
    },
    {
      "cell_type": "code",
      "execution_count": 23,
      "metadata": {
        "id": "MvGiuoykrzzJ"
      },
      "outputs": [
        {
          "name": "stdout",
          "output_type": "stream",
          "text": [
            "Обучаемые параметры в модели FCNet: 235146\n"
          ]
        }
      ],
      "source": [
        "model = FCNet()\n",
        "\n",
        "total_params = sum(p.numel() for p in model.parameters() if p.requires_grad)\n",
        "print(\"Обучаемые параметры в модели FCNet:\", total_params)"
      ]
    },
    {
      "cell_type": "markdown",
      "metadata": {
        "id": "iwGllji2M4lp"
      },
      "source": [
        "### Задание 3. Напишите код для обучения модели\n",
        "\n",
        "**5** баллов\n",
        "\n",
        "Можно (и нужно) подглядывать в код семинара по пайторчу. Вам нужно создать модель, определить функцию потерь и оптимизатор (начнем с `SGD`). Дальше нужно обучать модель, при помощи тренировочного `Dataloader'a` и считать лосс на тренировочном и тестовом `Dataloader'ах`."
      ]
    },
    {
      "cell_type": "markdown",
      "metadata": {
        "id": "Grv9xcybRfCX"
      },
      "source": [
        "Напишем функцию для рассчета `accuracy`:"
      ]
    },
    {
      "cell_type": "code",
      "execution_count": 24,
      "metadata": {
        "id": "9D2QPFe5JdVc"
      },
      "outputs": [],
      "source": [
        "def get_accuracy(model, dataloader):\n",
        "    \"\"\"\n",
        "    model - обученная нейронная сеть\n",
        "    dataloader - даталоадер, на котором вы хотите посчитать accuracy\n",
        "    \"\"\"\n",
        "    correct = 0\n",
        "    total = 0\n",
        "    with torch.no_grad(): # Тензоры внутри этого блока будут иметь requires_grad=False\n",
        "        for images, labels in dataloader:\n",
        "            outputs = model(images)\n",
        "            _, predicted = torch.max(outputs.data, 1)\n",
        "            total += labels.size(0)\n",
        "            correct += (predicted == labels).sum().item()\n",
        "    accuracy = correct / total\n",
        "\n",
        "    return accuracy"
      ]
    },
    {
      "cell_type": "markdown",
      "metadata": {
        "id": "D3EmoWJyTBkE"
      },
      "source": [
        "#### Основной цикл обучения\n",
        "\n",
        "Этот код можно (и зачастую нужно) выносить в отдельную функцию, но пока что можете это не делать, все по желанию)"
      ]
    },
    {
      "cell_type": "code",
      "execution_count": 25,
      "metadata": {
        "id": "uIZKSOdgUi3e"
      },
      "outputs": [],
      "source": [
        "# Создадим объект модели\n",
        "fc_net = FCNet()\n",
        "# Определим функцию потерь\n",
        "loss_function = nn.CrossEntropyLoss()\n",
        "# Создадим оптимизатор для нашей сети\n",
        "lr = 0.001 # скорость обучения\n",
        "optimizer = torch.optim.Adam(fc_net.parameters(), lr=3e-4)"
      ]
    },
    {
      "cell_type": "markdown",
      "metadata": {
        "id": "uKYzXFqoX_fd"
      },
      "source": [
        "Напишите цикл обучения. Для начала хватит 10 эпох. Какое значение `accuracy` на тестовой выборке удалось получить?"
      ]
    },
    {
      "cell_type": "code",
      "execution_count": 27,
      "metadata": {
        "id": "Ma2bshC6MxI6"
      },
      "outputs": [
        {
          "name": "stderr",
          "output_type": "stream",
          "text": [
            "/home/dorzhi/BI/ML/BI-ml-2024/.conda/lib/python3.11/site-packages/torch/autograd/__init__.py:266: UserWarning: CUDA initialization: Unexpected error from cudaGetDeviceCount(). Did you run some cuda functions before calling NumCudaDevices() that might have already set an error? Error 804: forward compatibility was attempted on non supported HW (Triggered internally at ../c10/cuda/CUDAFunctions.cpp:108.)\n",
            "  Variable._execution_engine.run_backward(  # Calls into the C++ engine to run the backward pass\n"
          ]
        },
        {
          "name": "stdout",
          "output_type": "stream",
          "text": [
            "Epoch=1 loss=1.8516\n",
            "Epoch=2 loss=1.6708\n",
            "Epoch=3 loss=1.6485\n",
            "Epoch=4 loss=1.6364\n",
            "Epoch=5 loss=1.6279\n",
            "Epoch=6 loss=1.6205\n",
            "Epoch=7 loss=1.6139\n",
            "Epoch=8 loss=1.6083\n",
            "Epoch=9 loss=1.6025\n",
            "Epoch=10 loss=1.5973\n",
            "CPU times: user 1min 48s, sys: 2.88 s, total: 1min 51s\n",
            "Wall time: 23 s\n"
          ]
        }
      ],
      "source": [
        "%%time\n",
        "n_epochs = 10\n",
        "loss_history = []\n",
        "\n",
        "## YOUR CODE HERE\n",
        "for epoch in range(n_epochs):\n",
        "    epoch_loss = 0\n",
        "    for images, labels in trainloader: \n",
        "        optimizer.zero_grad() \n",
        "        outputs = fc_net(images) \n",
        "        loss = loss_function(outputs, labels) \n",
        "        loss.backward() \n",
        "        optimizer.step()\n",
        "\n",
        "        epoch_loss += loss.item()\n",
        "\n",
        "    loss_history.append(epoch_loss/len(trainloader))\n",
        "\n",
        "    print(f\"Epoch={epoch+1} loss={loss_history[epoch]:.4f}\")"
      ]
    },
    {
      "cell_type": "code",
      "execution_count": 28,
      "metadata": {
        "id": "2cB5LRbrS3BN"
      },
      "outputs": [
        {
          "data": {
            "text/plain": [
              "0.71"
            ]
          },
          "execution_count": 28,
          "metadata": {},
          "output_type": "execute_result"
        }
      ],
      "source": [
        "get_accuracy(fc_net, testloader)"
      ]
    },
    {
      "cell_type": "markdown",
      "metadata": {
        "id": "4HTJzBM8Yk1R"
      },
      "source": [
        "### Задание 4. Изучение влияния нормализации\n",
        "\n",
        "**3** балла\n",
        "\n",
        "Вы могли заметить, что мы забыли провести нормализацию наших данных, а для нейронных сетей это может быть очень критично.\n",
        "\n",
        "Нормализуйте данные.\n",
        "\n",
        "* Подсчитайте среднее значение и стандартное отклонение интенсивности пикселей для всех тренировочных данных\n",
        "* Нормализуйте данные с использованием этих параметров (используйте трансформацию `Normalize`)\n",
        "\n",
        "\n",
        "Оцените влияние нормировки данных."
      ]
    },
    {
      "cell_type": "code",
      "execution_count": 31,
      "metadata": {
        "id": "FHlDaYWGR6YA"
      },
      "outputs": [
        {
          "name": "stdout",
          "output_type": "stream",
          "text": [
            "tensor([0.1918]) tensor([0.3385])\n"
          ]
        }
      ],
      "source": [
        "mean = torch.stack([image.mean(dim=(1, 2)) for image, _ in trainset]).mean(dim=0)\n",
        "std = torch.stack([image.std(dim=(1, 2)) for image, _ in trainset]).mean(dim=0)\n",
        "print(mean, std)\n",
        "\n",
        "transform_with_norm = torchvision.transforms.Compose([\n",
        "                torchvision.transforms.ToTensor(),\n",
        "                torchvision.transforms.Normalize(mean, std)\n",
        "            ])\n",
        "\n",
        "trainset.transform = transform_with_norm\n",
        "testset.transform = transform_with_norm"
      ]
    },
    {
      "cell_type": "code",
      "execution_count": 32,
      "metadata": {
        "id": "Qj93J3X_R6aa"
      },
      "outputs": [],
      "source": [
        "fc_net = FCNet()\n",
        "loss_function = nn.CrossEntropyLoss()\n",
        "lr = 0.001\n",
        "optimizer = torch.optim.Adam(fc_net.parameters(), lr=3e-4)"
      ]
    },
    {
      "cell_type": "code",
      "execution_count": 33,
      "metadata": {
        "id": "VWZtYBCvAoWQ"
      },
      "outputs": [
        {
          "name": "stdout",
          "output_type": "stream",
          "text": [
            "Epoch=1 loss=1.7669\n",
            "Epoch=2 loss=1.6345\n",
            "Epoch=3 loss=1.6074\n",
            "Epoch=4 loss=1.5835\n",
            "Epoch=5 loss=1.5692\n",
            "Epoch=6 loss=1.5580\n",
            "Epoch=7 loss=1.5507\n",
            "Epoch=8 loss=1.5449\n",
            "Epoch=9 loss=1.5397\n",
            "Epoch=10 loss=1.5358\n"
          ]
        }
      ],
      "source": [
        "n_epochs = 10\n",
        "loss_history = []\n",
        "\n",
        "## YOUR CODE HERE\n",
        "for epoch in range(n_epochs):\n",
        "    epoch_loss = 0\n",
        "    for images, labels in trainloader: \n",
        "        optimizer.zero_grad() \n",
        "        outputs = fc_net(images) \n",
        "        loss = loss_function(outputs, labels) \n",
        "        loss.backward() \n",
        "        optimizer.step()\n",
        "\n",
        "        epoch_loss += loss.item()\n",
        "\n",
        "    loss_history.append(epoch_loss/len(trainloader))\n",
        "\n",
        "    print(f\"Epoch={epoch+1} loss={loss_history[epoch]:.4f}\")"
      ]
    },
    {
      "cell_type": "code",
      "execution_count": 34,
      "metadata": {
        "id": "Gfbv9OIAAoYT"
      },
      "outputs": [
        {
          "data": {
            "text/plain": [
              "0.8025"
            ]
          },
          "execution_count": 34,
          "metadata": {},
          "output_type": "execute_result"
        }
      ],
      "source": [
        "get_accuracy(fc_net, testloader)"
      ]
    },
    {
      "cell_type": "markdown",
      "metadata": {
        "id": "RcIJvhWkcjlh"
      },
      "source": [
        "Как изменилась `accuracy` после нормализации?"
      ]
    },
    {
      "cell_type": "markdown",
      "metadata": {
        "id": "G1LHKF2PsZ4U"
      },
      "source": [
        "Accuracy увеличилось почти на 0.1.\n"
      ]
    },
    {
      "cell_type": "markdown",
      "metadata": {
        "id": "atcfzu4acxP2"
      },
      "source": [
        "### Задание 5. Изучение влияния функции активации\n",
        "\n",
        "**3** балла\n",
        "\n",
        "Исследуйте влияние функций активации на скорость обучения и точность предсказаний модели.\n",
        "\n",
        "Используйте три функции:\n",
        "\n",
        "* [Sigmoid](https://pytorch.org/docs/stable/nn.functional.html#sigmoid)\n",
        "* [GELU](https://pytorch.org/docs/stable/nn.functional.html#gelu)\n",
        "* [Tanh](https://pytorch.org/docs/stable/generated/torch.nn.Tanh.html#torch.nn.Tanh)"
      ]
    },
    {
      "cell_type": "code",
      "execution_count": 35,
      "metadata": {
        "id": "bAESPpjGa3M1"
      },
      "outputs": [],
      "source": [
        "class FCNetSigmoid(nn.Module):\n",
        "    def __init__(self):\n",
        "        super().__init__()\n",
        "        self.fc1 = nn.Linear(in_features=28*28, out_features=256)\n",
        "        self.activation1 = nn.Sigmoid()\n",
        "        self.fc2 = nn.Linear(in_features=256, out_features=128)\n",
        "        self.activation2 = nn.Sigmoid()\n",
        "        self.fc3 = nn.Linear(in_features=128, out_features=10)\n",
        "        self.output_activation = nn.Softmax(dim=1)\n",
        "\n",
        "    def forward(self, x):\n",
        "        x = x.view(-1, 28*28)\n",
        "        x = self.fc1(x)\n",
        "        x = self.activation1(x)\n",
        "        x = self.fc2(x)\n",
        "        x = self.activation2(x)\n",
        "        x = self.fc3(x)\n",
        "        x = self.output_activation(x)\n",
        "\n",
        "        return x"
      ]
    },
    {
      "cell_type": "code",
      "execution_count": 39,
      "metadata": {},
      "outputs": [],
      "source": [
        "class FCNetGelu(nn.Module):\n",
        "    def __init__(self):\n",
        "        super().__init__()\n",
        "        self.fc1 = nn.Linear(in_features=28*28, out_features=256)\n",
        "        self.activation1 = nn.GELU()\n",
        "        self.fc2 = nn.Linear(in_features=256, out_features=128)\n",
        "        self.activation2 = nn.GELU()\n",
        "        self.fc3 = nn.Linear(in_features=128, out_features=10)\n",
        "        self.output_activation = nn.Softmax(dim=1)\n",
        "\n",
        "    def forward(self, x):\n",
        "        x = x.view(-1, 28*28)\n",
        "        x = self.fc1(x)\n",
        "        x = self.activation1(x)\n",
        "        x = self.fc2(x)\n",
        "        x = self.activation2(x)\n",
        "        x = self.fc3(x)\n",
        "        x = self.output_activation(x)\n",
        "\n",
        "        return x"
      ]
    },
    {
      "cell_type": "code",
      "execution_count": 38,
      "metadata": {},
      "outputs": [],
      "source": [
        "class FCNetTanh(nn.Module):\n",
        "    def __init__(self):\n",
        "        super().__init__()\n",
        "        self.fc1 = nn.Linear(in_features=28*28, out_features=256)\n",
        "        self.activation1 = nn.Tanh()\n",
        "        self.fc2 = nn.Linear(in_features=256, out_features=128)\n",
        "        self.activation2 = nn.Tanh()\n",
        "        self.fc3 = nn.Linear(in_features=128, out_features=10)\n",
        "        self.output_activation = nn.Softmax(dim=1)\n",
        "\n",
        "    def forward(self, x):\n",
        "        x = x.view(-1, 28*28)\n",
        "        x = self.fc1(x)\n",
        "        x = self.activation1(x)\n",
        "        x = self.fc2(x)\n",
        "        x = self.activation2(x)\n",
        "        x = self.fc3(x)\n",
        "        x = self.output_activation(x)\n",
        "\n",
        "        return x"
      ]
    },
    {
      "cell_type": "code",
      "execution_count": 45,
      "metadata": {
        "id": "GdvHSFeKa2sW"
      },
      "outputs": [
        {
          "name": "stdout",
          "output_type": "stream",
          "text": [
            "Epoch=1 Sigmoid loss=2.1142 GELU loss=1.7535 Tanh loss=1.7981\n",
            "Epoch=2 Sigmoid loss=1.8558 GELU loss=1.6288 Tanh loss=1.6328\n",
            "Epoch=3 Sigmoid loss=1.7075 GELU loss=1.5954 Tanh loss=1.5993\n",
            "Epoch=4 Sigmoid loss=1.6603 GELU loss=1.5760 Tanh loss=1.5727\n",
            "Epoch=5 Sigmoid loss=1.6314 GELU loss=1.5620 Tanh loss=1.5451\n",
            "Epoch=6 Sigmoid loss=1.6159 GELU loss=1.5508 Tanh loss=1.5293\n",
            "Epoch=7 Sigmoid loss=1.6046 GELU loss=1.5394 Tanh loss=1.5185\n",
            "Epoch=8 Sigmoid loss=1.5952 GELU loss=1.5324 Tanh loss=1.5109\n",
            "Epoch=9 Sigmoid loss=1.5874 GELU loss=1.5273 Tanh loss=1.5048\n",
            "Epoch=10 Sigmoid loss=1.5801 GELU loss=1.5228 Tanh loss=1.4956\n"
          ]
        }
      ],
      "source": [
        "n_epochs = 10\n",
        "loss_history_sigmoid = []\n",
        "loss_history_gelu = []\n",
        "loss_history_tanh = []\n",
        "\n",
        "## YOUR CODE HERE\n",
        "\n",
        "model_sigmoid = FCNetSigmoid()\n",
        "model_gelu = FCNetGelu()\n",
        "model_tanh = FCNetTanh()\n",
        "\n",
        "optimizer_sigmoid = torch.optim.Adam(model_sigmoid.parameters(), lr=3e-4)\n",
        "optimizer_gelu = torch.optim.Adam(model_gelu.parameters(), lr=3e-4)\n",
        "optimizer_tanh = torch.optim.Adam(model_tanh.parameters(), lr=3e-4)\n",
        "\n",
        "for epoch in range(n_epochs):\n",
        "    epoch_loss_sigmoid = 0\n",
        "    epoch_loss_gelu = 0\n",
        "    epoch_loss_tanh = 0\n",
        "\n",
        "    for images, labels in trainloader:\n",
        "        optimizer_sigmoid.zero_grad()\n",
        "        optimizer_gelu.zero_grad()\n",
        "        optimizer_tanh.zero_grad()\n",
        "\n",
        "        outputs_sigmoid = model_sigmoid(images)\n",
        "        outputs_gelu = model_gelu(images)\n",
        "        outputs_tanh = model_tanh(images)\n",
        "\n",
        "        loss_sigmoid = loss_function(outputs_sigmoid, labels)\n",
        "        loss_gelu = loss_function(outputs_gelu, labels)\n",
        "        loss_tanh = loss_function(outputs_tanh, labels)\n",
        "\n",
        "        loss_sigmoid.backward()\n",
        "        loss_gelu.backward()\n",
        "        loss_tanh.backward()\n",
        "\n",
        "        optimizer_sigmoid.step()\n",
        "        optimizer_gelu.step()\n",
        "        optimizer_tanh.step()\n",
        "\n",
        "        epoch_loss_sigmoid += loss_sigmoid.item()\n",
        "        epoch_loss_gelu += loss_gelu.item()\n",
        "        epoch_loss_tanh += loss_tanh.item()\n",
        "\n",
        "    loss_history_sigmoid.append(epoch_loss_sigmoid / len(trainloader))\n",
        "    loss_history_gelu.append(epoch_loss_gelu / len(trainloader))\n",
        "    loss_history_tanh.append(epoch_loss_tanh / len(trainloader))\n",
        "\n",
        "    print(f\"Epoch={epoch+1} Sigmoid loss={loss_history_sigmoid[epoch]:.4f} GELU loss={loss_history_gelu[epoch]:.4f} Tanh loss={loss_history_tanh[epoch]:.4f}\")"
      ]
    },
    {
      "cell_type": "code",
      "execution_count": 50,
      "metadata": {
        "id": "zBok8pXNa2vA"
      },
      "outputs": [
        {
          "name": "stdout",
          "output_type": "stream",
          "text": [
            "Sigmoid accuracy: 0.7507\n",
            "GELU accuracy: 0.8191\n",
            "Tanh accuracy: 0.882\n"
          ]
        }
      ],
      "source": [
        "print('Sigmoid accuracy:', get_accuracy(model_sigmoid, testloader))\n",
        "print('GELU accuracy:', get_accuracy(model_gelu, testloader))\n",
        "print('Tanh accuracy:', get_accuracy(model_tanh, testloader))"
      ]
    },
    {
      "cell_type": "markdown",
      "metadata": {
        "id": "aG2Oyxy2egVV"
      },
      "source": [
        "С использованием какой функции активации удалось досчить наибольшей `accuracy`?"
      ]
    },
    {
      "cell_type": "markdown",
      "metadata": {
        "id": "5SaqWhlkjuO3"
      },
      "source": [
        "Наибольшее значение было достигнуто с использованием модели Tanh."
      ]
    },
    {
      "cell_type": "markdown",
      "metadata": {
        "id": "20Ls3Bfsifqd"
      },
      "source": [
        "### Задание 6. Другие оптимизаторы\n",
        "\n",
        "**4** балла\n",
        "\n",
        "Исследуйте влияние оптимизаторов на скорость обучения и точность предсказаний модели.\n",
        "\n",
        "Попробуйте следующие:\n",
        "\n",
        "* [Adam](https://pytorch.org/docs/stable/generated/torch.optim.Adam.html#torch.optim.Adam)\n",
        "* [RMSprop](https://pytorch.org/docs/stable/generated/torch.optim.RMSprop.html#torch.optim.RMSprop)\n",
        "* [Adagrad](https://pytorch.org/docs/stable/generated/torch.optim.Adagrad.html#torch.optim.Adagrad)\n",
        "\n",
        "Вам нужно снова обучить 3 модели и сравнить их перформанс (функцию активации используйте ту, которая показала себя лучше всего)."
      ]
    },
    {
      "cell_type": "code",
      "execution_count": 51,
      "metadata": {
        "id": "rzL2LdA-ifJh"
      },
      "outputs": [
        {
          "name": "stdout",
          "output_type": "stream",
          "text": [
            "Epoch=1 Adam loss=1.7840 RMSprop loss=1.6871 Adagrad loss=2.0655\n",
            "Epoch=2 Adam loss=1.6259 RMSprop loss=1.5952 Adagrad loss=1.9087\n",
            "Epoch=3 Adam loss=1.5827 RMSprop loss=1.5648 Adagrad loss=1.8480\n",
            "Epoch=4 Adam loss=1.5573 RMSprop loss=1.5452 Adagrad loss=1.8140\n",
            "Epoch=5 Adam loss=1.5356 RMSprop loss=1.5301 Adagrad loss=1.7918\n",
            "Epoch=6 Adam loss=1.5195 RMSprop loss=1.5145 Adagrad loss=1.7761\n",
            "Epoch=7 Adam loss=1.5083 RMSprop loss=1.5044 Adagrad loss=1.7642\n",
            "Epoch=8 Adam loss=1.5003 RMSprop loss=1.4971 Adagrad loss=1.7544\n",
            "Epoch=9 Adam loss=1.4943 RMSprop loss=1.4915 Adagrad loss=1.7463\n",
            "Epoch=10 Adam loss=1.4901 RMSprop loss=1.4875 Adagrad loss=1.7397\n"
          ]
        }
      ],
      "source": [
        "model_adam = FCNetTanh()\n",
        "model_rmsprop = FCNetTanh()\n",
        "model_adagrad = FCNetTanh()\n",
        "\n",
        "optimizer_adam = torch.optim.Adam(model_adam.parameters(), lr=3e-4)\n",
        "optimizer_rmsprop = torch.optim.RMSprop(model_rmsprop.parameters(), lr=3e-4)\n",
        "optimizer_adagrad = torch.optim.Adagrad(model_adagrad.parameters(), lr=3e-4)\n",
        "\n",
        "n_epochs = 10\n",
        "loss_history_adam = []\n",
        "loss_history_rmsprop = []\n",
        "loss_history_adagrad = []\n",
        "\n",
        "for epoch in range(n_epochs):\n",
        "    epoch_loss_adam = 0\n",
        "    epoch_loss_rmsprop = 0\n",
        "    epoch_loss_adagrad = 0\n",
        "\n",
        "    for images, labels in trainloader:\n",
        "        optimizer_adam.zero_grad()\n",
        "        optimizer_rmsprop.zero_grad()\n",
        "        optimizer_adagrad.zero_grad()\n",
        "\n",
        "        outputs_adam = model_adam(images)\n",
        "        outputs_rmsprop = model_rmsprop(images)\n",
        "        outputs_adagrad = model_adagrad(images)\n",
        "\n",
        "        loss_adam = loss_function(outputs_adam, labels)\n",
        "        loss_rmsprop = loss_function(outputs_rmsprop, labels)\n",
        "        loss_adagrad = loss_function(outputs_adagrad, labels)\n",
        "\n",
        "        loss_adam.backward()\n",
        "        loss_rmsprop.backward()\n",
        "        loss_adagrad.backward()\n",
        "\n",
        "        optimizer_adam.step()\n",
        "        optimizer_rmsprop.step()\n",
        "        optimizer_adagrad.step()\n",
        "\n",
        "        epoch_loss_adam += loss_adam.item()\n",
        "        epoch_loss_rmsprop += loss_rmsprop.item()\n",
        "        epoch_loss_adagrad += loss_adagrad.item()\n",
        "\n",
        "    loss_history_adam.append(epoch_loss_adam / len(trainloader))\n",
        "    loss_history_rmsprop.append(epoch_loss_rmsprop / len(trainloader))\n",
        "    loss_history_adagrad.append(epoch_loss_adagrad / len(trainloader))\n",
        "\n",
        "    print(f\"Epoch={epoch+1} Adam loss={loss_history_adam[epoch]:.4f} RMSprop loss={loss_history_rmsprop[epoch]:.4f} Adagrad loss={loss_history_adagrad[epoch]:.4f}\")"
      ]
    },
    {
      "cell_type": "code",
      "execution_count": 52,
      "metadata": {},
      "outputs": [
        {
          "name": "stdout",
          "output_type": "stream",
          "text": [
            "Adam accuracy: 0.8849\n",
            "RMSprop accuracy: 0.8843\n",
            "Adagrad accuracy: 0.6096\n"
          ]
        }
      ],
      "source": [
        "print('Adam accuracy:', get_accuracy(model_adam, testloader))\n",
        "print('RMSprop accuracy:', get_accuracy(model_rmsprop, testloader))\n",
        "print('Adagrad accuracy:', get_accuracy(model_adagrad, testloader))"
      ]
    },
    {
      "cell_type": "markdown",
      "metadata": {},
      "source": [
        "Оптимизатор Adam показал себя, как самый лучший."
      ]
    },
    {
      "cell_type": "markdown",
      "metadata": {
        "id": "eHA48PsperxS"
      },
      "source": [
        "### Задание 7. Реализация ReLU\n",
        "\n",
        "**4** балла\n",
        "\n",
        "Самостоятельно реализуйте функцию активации ReLU.\n",
        "Замените в уже обученной модели функцию активации на вашу. Убедитесь что ничего не изменилась."
      ]
    },
    {
      "cell_type": "code",
      "execution_count": 67,
      "metadata": {
        "id": "63uTkUp-a2xr"
      },
      "outputs": [],
      "source": [
        "def custom_relu(x):\n",
        "    return torch.where(x < 0, torch.tensor(0.0), x)\n",
        "\n",
        "class CustomReLU(nn.Module):\n",
        "    def __init__(self):\n",
        "        super().__init__()\n",
        "        self.fc1 = nn.Linear(in_features=28*28, out_features=256)\n",
        "        self.activation1 = custom_relu\n",
        "        self.fc2 = nn.Linear(in_features=256, out_features=128)\n",
        "        self.activation2 = custom_relu\n",
        "        self.fc3 = nn.Linear(in_features=128, out_features=10)\n",
        "        self.output_activation = nn.Softmax(dim=1)\n",
        "\n",
        "    def forward(self, x):\n",
        "        # YOUR CODE HERE\n",
        "        # если элемент x < 0, то 0, если >= 0, то x\n",
        "        x = x.view(-1, 28*28)\n",
        "        x = self.fc1(x)\n",
        "        x = self.activation1(x)\n",
        "        x = self.fc2(x)\n",
        "        x = self.activation2(x)\n",
        "        x = self.fc3(x)\n",
        "        x = self.output_activation(x)\n",
        "\n",
        "        return x"
      ]
    },
    {
      "cell_type": "markdown",
      "metadata": {
        "id": "xsKzxa33fhbN"
      },
      "source": [
        "Заново обучите модель и проверьте правильность реализации `CustomReLU`."
      ]
    },
    {
      "cell_type": "code",
      "execution_count": 68,
      "metadata": {
        "id": "ePP55RBeecYh"
      },
      "outputs": [
        {
          "name": "stdout",
          "output_type": "stream",
          "text": [
            "Epoch=1 loss=1.7816\n",
            "Epoch=2 loss=1.6257\n",
            "Epoch=3 loss=1.5936\n",
            "Epoch=4 loss=1.5744\n",
            "Epoch=5 loss=1.5603\n",
            "Epoch=6 loss=1.5502\n",
            "Epoch=7 loss=1.5422\n",
            "Epoch=8 loss=1.5366\n",
            "Epoch=9 loss=1.5316\n",
            "Epoch=10 loss=1.5276\n"
          ]
        }
      ],
      "source": [
        "model_custom_relu = CustomReLU()\n",
        "loss_function = nn.CrossEntropyLoss()\n",
        "lr = 0.001\n",
        "optimizer = torch.optim.Adam(model_custom_relu.parameters(), lr=3e-4)\n",
        "\n",
        "n_epochs = 10\n",
        "loss_history = []\n",
        "\n",
        "for epoch in range(n_epochs):\n",
        "    epoch_loss = 0\n",
        "    for images, labels in trainloader: \n",
        "        optimizer.zero_grad() \n",
        "        outputs = model_custom_relu(images) \n",
        "        loss = loss_function(outputs, labels) \n",
        "        loss.backward() \n",
        "        optimizer.step()\n",
        "\n",
        "        epoch_loss += loss.item()\n",
        "\n",
        "    loss_history.append(epoch_loss/len(trainloader))\n",
        "\n",
        "    print(f\"Epoch={epoch+1} loss={loss_history[epoch]:.4f}\")"
      ]
    },
    {
      "cell_type": "code",
      "execution_count": 69,
      "metadata": {},
      "outputs": [
        {
          "data": {
            "text/plain": [
              "0.8137"
            ]
          },
          "execution_count": 69,
          "metadata": {},
          "output_type": "execute_result"
        }
      ],
      "source": [
        "get_accuracy(model_custom_relu, testloader)"
      ]
    },
    {
      "cell_type": "markdown",
      "metadata": {
        "id": "vWBG1mMwgN17"
      },
      "source": [
        "### Задание 8. Генерация картинок\n",
        "\n",
        "**3** балла\n",
        "\n",
        "Придумайте 3 предложения и сгенерируйте при помощи них 3 картинки, используя телеграм бота [ruDALLE](https://t.me/sber_rudalle_xl_bot). Прикрепите сюда ваши картины."
      ]
    },
    {
      "cell_type": "code",
      "execution_count": null,
      "metadata": {
        "id": "hlqgll9qecdZ"
      },
      "outputs": [],
      "source": []
    }
  ],
  "metadata": {
    "colab": {
      "authorship_tag": "ABX9TyN3ji5dthhFgQhP1CJ7JjiU",
      "include_colab_link": true,
      "provenance": []
    },
    "kernelspec": {
      "display_name": "Python 3",
      "name": "python3"
    },
    "language_info": {
      "codemirror_mode": {
        "name": "ipython",
        "version": 3
      },
      "file_extension": ".py",
      "mimetype": "text/x-python",
      "name": "python",
      "nbconvert_exporter": "python",
      "pygments_lexer": "ipython3",
      "version": "3.11.8"
    }
  },
  "nbformat": 4,
  "nbformat_minor": 0
}
