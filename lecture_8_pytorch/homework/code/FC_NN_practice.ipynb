{
 "cells": [
  {
   "cell_type": "markdown",
   "metadata": {
    "id": "view-in-github"
   },
   "source": [
    "<a href=\"https://colab.research.google.com/github/danon6868/BI-ml-2024/blob/main/lecture_8_pytorch/homework/FC_NN_practice.ipynb\" target=\"_parent\"><img src=\"https://colab.research.google.com/assets/colab-badge.svg\" alt=\"Open In Colab\"/></a>"
   ]
  },
  {
   "cell_type": "markdown",
   "metadata": {
    "id": "-pSGPQS8Btmc"
   },
   "source": [
    "Всем привет! Сегодня вы впервые попробуете написать свою собственную нейронную сеть и попробовать ее обучить. Мы будем работать с картинками, но пока что не совсем тем способом, которым лучше всего это делать, но должно получиться неплохо.\n",
    "\n",
    "Будем работать с [датасетом](https://github.com/rois-codh/kmnist) `Kuzushiji-MNIST` (`KMNIST`). Это рукописные буквы, изображения имеют размер (28, 28, 1) и разделены на 10 классов, по ссылке можно прочитать подробнее."
   ]
  },
  {
   "cell_type": "code",
   "execution_count": 1,
   "metadata": {
    "id": "75HVAP_RFU7r"
   },
   "outputs": [],
   "source": [
    "import numpy as np\n",
    "import torch\n",
    "import matplotlib.pyplot as plt\n",
    "from IPython.display import clear_output"
   ]
  },
  {
   "cell_type": "markdown",
   "metadata": {
    "id": "46iQ8ixtEruP"
   },
   "source": [
    "## Загрузка данных"
   ]
  },
  {
   "cell_type": "markdown",
   "metadata": {
    "id": "R6h1jVreJlV-"
   },
   "source": [
    "Сейчас мы будем использовать встроенные данные, но в реальности приходится писать свой класс для датасета (Dataset), у которого реализовывать несколько обязательных методов (напр, `__getitem__`), но это обсудим уже потом."
   ]
  },
  {
   "cell_type": "code",
   "execution_count": 2,
   "metadata": {
    "id": "s9L9Z02o_1bK"
   },
   "outputs": [],
   "source": [
    "import torchvision\n",
    "from torchvision.datasets import KMNIST\n",
    "\n",
    "\n",
    "# Превращает картинки в тензоры\n",
    "transform = torchvision.transforms.Compose(\n",
    "    [torchvision.transforms.ToTensor()])\n",
    "\n",
    "# Загрузим данные (в переменных лежат объекты типа `Dataset`)\n",
    "# В аргумент `transform` мы передаем необходимые трансформации (ToTensor)\n",
    "trainset = KMNIST(root=\"./KMNIST\", train=True, download=True, transform=transform)\n",
    "testset = KMNIST(root=\"./KMNIST\", train=False, download=True, transform=transform)\n",
    "\n",
    "clear_output()\n"
   ]
  },
  {
   "cell_type": "code",
   "execution_count": 3,
   "metadata": {
    "colab": {
     "base_uri": "https://localhost:8080/"
    },
    "id": "6AU3qqxjJae1",
    "outputId": "95b4fb1c-e8ef-45f8-b0f1-a799d045719d"
   },
   "outputs": [
    {
     "data": {
      "text/plain": [
       "Dataset KMNIST\n",
       "    Number of datapoints: 60000\n",
       "    Root location: ./KMNIST\n",
       "    Split: Train\n",
       "    StandardTransform\n",
       "Transform: Compose(\n",
       "               ToTensor()\n",
       "           )"
      ]
     },
     "execution_count": 3,
     "metadata": {},
     "output_type": "execute_result"
    }
   ],
   "source": [
    "trainset"
   ]
  },
  {
   "cell_type": "markdown",
   "metadata": {
    "id": "V83E2vDrO9CC"
   },
   "source": [
    "Определим даталоадеры, они нужны, чтобы реализовывать стохастический градиентный спуск (то есть мы не хотим считывать в оперативную память все картинки сразу, а делать это батчами)."
   ]
  },
  {
   "cell_type": "code",
   "execution_count": 4,
   "metadata": {
    "id": "oqC8XO8pO8Px"
   },
   "outputs": [],
   "source": [
    "from torch.utils.data import DataLoader\n",
    "\n",
    "\n",
    "# Можно оставить таким\n",
    "batch_size = 256\n",
    "\n",
    "trainloader = DataLoader(trainset, batch_size=batch_size, shuffle=True, num_workers=2)\n",
    "testloader = DataLoader(testset, batch_size=batch_size, shuffle=False, num_workers=2)\n",
    "\n"
   ]
  },
  {
   "cell_type": "markdown",
   "metadata": {
    "id": "-Ntp5sLoPyGx"
   },
   "source": [
    "Подумайте, как может влиять на скорость обучения параметр `batch_size`, почему вы так считаете?\n",
    "\n",
    "**Ответ:**\n",
    "Учитывая, что данный параметр определяет количество объектов, которые будут обработаны за одну итерацию, то данный показатель будет влиять на процесс обучения модели, эффективность использования памяти и скорость вычислений. Маленькие значения способствуют более быстрой подборке коэффициентов с большим количеством обновлений градиента, но результат может быть шумным (уходить немного всторону от нужного направления), в то время как большие значения характеризуются меньшим шумом, но могут потребовать больше памяти и привести к более медленному поиску коэффициентов."
   ]
  },
  {
   "cell_type": "markdown",
   "metadata": {
    "id": "t2vmM4KaHvrs"
   },
   "source": [
    "Посмотрим на какую-нибудь картинку:"
   ]
  },
  {
   "cell_type": "code",
   "execution_count": 5,
   "metadata": {
    "colab": {
     "base_uri": "https://localhost:8080/",
     "height": 430
    },
    "id": "N-b-kFCYAoOP",
    "outputId": "54f6dd7f-bbb5-4be5-d76e-aea4de638356"
   },
   "outputs": [
    {
     "data": {
      "image/png": "[encoded data removed]",
      "text/plain": [
       "<Figure size 640x480 with 1 Axes>"
      ]
     },
     "metadata": {},
     "output_type": "display_data"
    }
   ],
   "source": [
    "plt.imshow(trainset[0][0].view(28, 28).numpy(), cmap=\"gray\")\n",
    "plt.axis(\"off\")\n",
    "plt.title(f\"Class is {trainset[0][1]}\", fontsize=16);"
   ]
  },
  {
   "cell_type": "markdown",
   "metadata": {
    "id": "8_MSY231Hzz9"
   },
   "source": [
    "### Задание 1. Смотрим на картинки\n",
    "\n",
    "**2** балла\n",
    "\n",
    "Нарисуйте на одном графике изображения всех 10 классов:"
   ]
  },
  {
   "cell_type": "markdown",
   "metadata": {
    "id": "j0tNdHM5JS6l"
   },
   "source": [
    "⣿⣿⣿⣿⣿⣿⠿⢋⣥⣴⣶⣶⣶⣬⣙⠻⠟⣋⣭⣭⣭⣭⡙⠻⣿⣿⣿⣿⣿\n",
    "⣿⣿⣿⣿⡿⢋⣴⣿⣿⠿⢟⣛⣛⣛⠿⢷⡹⣿⣿⣿⣿⣿⣿⣆⠹⣿⣿⣿⣿\n",
    "⣿⣿⣿⡿⢁⣾⣿⣿⣴⣿⣿⣿⣿⠿⠿⠷⠥⠱⣶⣶⣶⣶⡶⠮⠤⣌⡙⢿⣿\n",
    "⣿⡿⢛⡁⣾⣿⣿⣿⡿⢟⡫⢕⣪⡭⠥⢭⣭⣉⡂⣉⡒⣤⡭⡉⠩⣥⣰⠂⠹\n",
    "⡟⢠⣿⣱⣿⣿⣿⣏⣛⢲⣾⣿⠃⠄⠐⠈⣿⣿⣿⣿⣿⣿⠄⠁⠃⢸⣿⣿⡧\n",
    "⢠⣿⣿⣿⣿⣿⣿⣿⣿⣇⣊⠙⠳⠤⠤⠾⣟⠛⠍⣹⣛⣛⣢⣀⣠⣛⡯⢉⣰\n",
    "⣿⣿⣿⣿⣿⣿⣿⣿⣿⣿⣿⣿⣷⡶⠶⢒⣠⣼⣿⣿⣛⠻⠛⢛⣛⠉⣴⣿⣿\n",
    "⣿⣿⣿⣿⣿⣿⣿⡿⢛⡛⢿⣿⣿⣶⣿⣿⣿⣿⣿⣿⣿⣿⣿⣿⣿⣷⡈⢿⣿\n",
    "⣿⣿⣿⣿⣿⣿⣿⠸⣿⡻⢷⣍⣛⠻⠿⠿⣿⣿⣿⣿⣿⣿⣿⣿⣿⠿⢇⡘⣿\n",
    "⣿⣿⣿⣿⣿⣿⣿⣷⣝⠻⠶⣬⣍⣛⣛⠓⠶⠶⠶⠤⠬⠭⠤⠶⠶⠞⠛⣡⣿\n",
    "⢿⣿⣿⣿⣿⣿⣿⣿⣿⣿⣷⣶⣬⣭⣍⣙⣛⣛⣛⠛⠛⠛⠿⠿⠿⠛⣠⣿⣿\n",
    "⣦⣈⠉⢛⠻⠿⠿⢿⣿⣿⣿⣿⣿⣿⣿⣿⣿⣿⣿⡿⠿⠛⣁⣴⣾⣿⣿⣿⣿\n",
    "⣿⣿⣿⣶⣮⣭⣁⣒⣒⣒⠂⠠⠬⠭⠭⠭⢀⣀⣠⣄⡘⠿⣿⣿⣿⣿⣿⣿⣿\n",
    "⣿⣿⣿⣿⣿⣿⣿⣿⣿⣿⣿⣿⣿⣿⣿⣿⣿⣿⣿⣿⣿⣦⡈⢿⣿⣿⣿⣿⣿\n",
    "\n",
    "\n",
    "\n"
   ]
  },
  {
   "cell_type": "code",
   "execution_count": 6,
   "metadata": {
    "colab": {
     "base_uri": "https://localhost:8080/",
     "height": 157
    },
    "id": "x3j6Bsu9AoT6",
    "outputId": "ccc86435-86a5-4a8a-9fbd-b5150515c924"
   },
   "outputs": [
    {
     "data": {
      "image/png": "[encoded data removed]",
      "text/plain": [
       "<Figure size 1500x150 with 10 Axes>"
      ]
     },
     "metadata": {},
     "output_type": "display_data"
    }
   ],
   "source": [
    "plt.figure(figsize=(15, 1.5))\n",
    "found_classes = set()\n",
    "\n",
    "for image, label in trainset:\n",
    "    if label not in found_classes:\n",
    "\n",
    "        # Add label\n",
    "        found_classes.add(label)\n",
    "\n",
    "        # Plot image\n",
    "        plt.subplot(1, 10, label+1)  # +1 because subplot indices start at 1\n",
    "        plt.imshow(image.squeeze().numpy(), cmap='gray')\n",
    "        plt.title(f\"Class: {label}\")\n",
    "        plt.axis('off')\n",
    "\n",
    "        if len(found_classes) == 10:\n",
    "            break\n",
    "\n",
    "plt.show()\n"
   ]
  },
  {
   "cell_type": "markdown",
   "metadata": {
    "id": "dLCfnFW-JtGx"
   },
   "source": [
    "### Задание 2. Строим свой первый MLP\n",
    "\n",
    "**4** балла\n",
    "\n",
    "MLP (multilayer perceptron) или нейронная сеть из полносвязных (линейных) слоев, это мы уже знаем.\n",
    "\n",
    "Опишите структуру сети: 3 полносвязных слоя + функции активации на ваш выбор. **Подумайте** про активацию после последнего слоя!\n",
    "\n",
    "Сеть на выходе 1 слоя должна иметь 256 признаков, на выходе из 2 128 признаков, на выходе из последнего столько, сколько у вас классов.\n",
    "\n",
    "https://pytorch.org/docs/stable/nn.html?highlight=activation#non-linear-activations-weighted-sum-nonlinearity"
   ]
  },
  {
   "cell_type": "code",
   "execution_count": 7,
   "metadata": {
    "id": "dhYBvQIXJdSz"
   },
   "outputs": [],
   "source": [
    "import torch.nn as nn\n",
    "import torch\n",
    "import torch.nn.functional as F\n",
    "\n",
    "class FCNet(nn.Module):\n",
    "    def __init__(self):\n",
    "        super().__init__() #  это надо помнить!\n",
    "\n",
    "        self.fc1 = nn.Linear(in_features=28*28, out_features=256)\n",
    "        self.fc2 = nn.Linear(in_features=256, out_features=128)\n",
    "        self.fc3 = nn.Linear(in_features=128, out_features=10)\n",
    "\n",
    "\n",
    "\n",
    "    def forward(self, x):  # Forward вызывается внутри метода __call__ родительского класса\n",
    "        ## x -> тензор размерности (BATCH_SIZE, N_CHANNELS, WIDTH, HEIGHT)\n",
    "        ## надо подумать над тем, что у нас полносвязные слои принимают векторы\n",
    "\n",
    "        x = x.view(-1, 28*28) # переведем картинку в вектор\n",
    "        x = self.fc1(x)\n",
    "        x = F.relu(x)\n",
    "        x = self.fc2(x)\n",
    "        x = F.relu(x)\n",
    "        x = self.fc3(x)\n",
    "\n",
    "        return x\n"
   ]
  },
  {
   "cell_type": "markdown",
   "metadata": {
    "id": "uI0R77EQNKef"
   },
   "source": [
    "Сколько обучаемых параметров у вашей модели (весов и смещений)?\n",
    "\n",
    "**Ответ:** 235 146,\n",
    "1 слой 28х28х256+256 (weights + biases);\n",
    "2 слой 256х128+128;\n",
    "3 слой 128х10+10;"
   ]
  },
  {
   "cell_type": "markdown",
   "metadata": {
    "id": "IYwYcBiuzfPw"
   },
   "source": []
  },
  {
   "cell_type": "markdown",
   "metadata": {
    "id": "iwGllji2M4lp"
   },
   "source": [
    "### Задание 3. Напишите код для обучения модели\n",
    "\n",
    "**5** баллов\n",
    "\n",
    "Можно (и нужно) подглядывать в код семинара по пайторчу. Вам нужно создать модель, определить функцию потерь и оптимизатор (начнем с `SGD`). Дальше нужно обучать модель, при помощи тренировочного `Dataloader'a` и считать лосс на тренировочном и тестовом `Dataloader'ах`."
   ]
  },
  {
   "cell_type": "markdown",
   "metadata": {
    "id": "Grv9xcybRfCX"
   },
   "source": [
    "Напишем функцию для рассчета `accuracy`:"
   ]
  },
  {
   "cell_type": "code",
   "execution_count": 8,
   "metadata": {
    "id": "9D2QPFe5JdVc"
   },
   "outputs": [],
   "source": [
    "def get_accuracy(model, dataloader):\n",
    "    \"\"\"\n",
    "    model - обученная нейронная сеть\n",
    "    dataloader - даталоадер, на котором вы хотите посчитать accuracy\n",
    "    \"\"\"\n",
    "    correct = 0\n",
    "    total = 0\n",
    "    with torch.no_grad(): # Тензоры внутри этого блока будут иметь requires_grad=False\n",
    "        for images, labels in dataloader:\n",
    "            outputs = model(images)\n",
    "            _, predicted = torch.max(outputs.data, 1)\n",
    "            total += labels.size(0)\n",
    "            correct += (predicted == labels).sum().item()\n",
    "    accuracy = correct / total\n",
    "\n",
    "    return accuracy"
   ]
  },
  {
   "cell_type": "markdown",
   "metadata": {
    "id": "D3EmoWJyTBkE"
   },
   "source": [
    "#### Основной цикл обучения\n",
    "\n",
    "Этот код можно (и зачастую нужно) выносить в отдельную функцию, но пока что можете это не делать, все по желанию)"
   ]
  },
  {
   "cell_type": "code",
   "execution_count": 9,
   "metadata": {
    "id": "uIZKSOdgUi3e"
   },
   "outputs": [],
   "source": [
    "import torch.nn as nn\n",
    "# Создадим объект модели\n",
    "fc_net = FCNet()\n",
    "# Определим функцию потерь\n",
    "loss_function = nn.CrossEntropyLoss()\n",
    "# Создадим оптимизатор для нашей сети\n",
    "optimizer = torch.optim.SGD(fc_net.parameters(), lr=3e-4)\n"
   ]
  },
  {
   "cell_type": "code",
   "execution_count": 10,
   "metadata": {
    "colab": {
     "base_uri": "https://localhost:8080/"
    },
    "id": "IOxTcwJXEoHo",
    "outputId": "54b3fa74-c3cc-4634-e448-e28c5027d5a2"
   },
   "outputs": [
    {
     "name": "stdout",
     "output_type": "stream",
     "text": [
      "torch.Size([256, 784])\n",
      "torch.Size([256])\n",
      "torch.Size([128, 256])\n",
      "torch.Size([128])\n",
      "torch.Size([10, 128])\n",
      "torch.Size([10])\n"
     ]
    }
   ],
   "source": [
    "for param in fc_net.parameters():\n",
    "    print(param.shape)"
   ]
  },
  {
   "cell_type": "markdown",
   "metadata": {
    "id": "uKYzXFqoX_fd"
   },
   "source": [
    "Напишите цикл обучения. Для начала хватит 10 эпох. Какое значение `accuracy` на тестовой выборке удалось получить?"
   ]
  },
  {
   "cell_type": "code",
   "execution_count": 11,
   "metadata": {
    "colab": {
     "base_uri": "https://localhost:8080/"
    },
    "id": "Ma2bshC6MxI6",
    "outputId": "7b873ac1-a0f5-404e-ab51-ffcecdc548ff"
   },
   "outputs": [
    {
     "name": "stderr",
     "output_type": "stream",
     "text": [
      "/usr/lib/python3.10/multiprocessing/popen_fork.py:66: RuntimeWarning: os.fork() was called. os.fork() is incompatible with multithreaded code, and JAX is multithreaded, so this will likely lead to a deadlock.\n",
      "  self.pid = os.fork()\n"
     ]
    },
    {
     "name": "stdout",
     "output_type": "stream",
     "text": [
      "Epoch=1 loss=2.3030\n",
      "Epoch=2 loss=2.3014\n",
      "Epoch=3 loss=2.2997\n",
      "Epoch=4 loss=2.2980\n",
      "Epoch=5 loss=2.2964\n",
      "Epoch=6 loss=2.2947\n",
      "Epoch=7 loss=2.2929\n",
      "Epoch=8 loss=2.2912\n",
      "Epoch=9 loss=2.2894\n",
      "Epoch=10 loss=2.2876\n"
     ]
    }
   ],
   "source": [
    "n_epochs = 10\n",
    "loss_history = []\n",
    "\n",
    "for epoch in range(n_epochs):\n",
    "    epoch_loss = 0\n",
    "    for images, labels in trainloader: # Получаем батч тренировочных картинок\n",
    "        optimizer.zero_grad() #  обнуляем градиенты\n",
    "        outputs = fc_net(images) # делаем предсказания\n",
    "        loss = loss_function(outputs, labels) # считаем лосс\n",
    "        loss.backward() # считаем градиенты\n",
    "        optimizer.step() # делаем шаг градиентного спуска\n",
    "\n",
    "        epoch_loss += loss.item()\n",
    "\n",
    "    loss_history.append(epoch_loss/len(trainloader))\n",
    "\n",
    "    print(f\"Epoch={epoch+1} loss={loss_history[epoch]:.4f}\")\n"
   ]
  },
  {
   "cell_type": "code",
   "execution_count": 12,
   "metadata": {
    "colab": {
     "base_uri": "https://localhost:8080/"
    },
    "id": "2cB5LRbrS3BN",
    "outputId": "3156584d-c974-4cd8-a28f-c7809cea9b5c"
   },
   "outputs": [
    {
     "data": {
      "text/plain": [
       "0.1707"
      ]
     },
     "execution_count": 12,
     "metadata": {},
     "output_type": "execute_result"
    }
   ],
   "source": [
    "get_accuracy(fc_net, testloader)\n",
    "#0.1707"
   ]
  },
  {
   "cell_type": "markdown",
   "metadata": {
    "id": "4HTJzBM8Yk1R"
   },
   "source": [
    "### Задание 4. Изучение влияния нормализации\n",
    "\n",
    "**3** балла\n",
    "\n",
    "Вы могли заметить, что мы забыли провести нормализацию наших данных, а для нейронных сетей это может быть очень критично.\n",
    "\n",
    "Нормализуйте данные.\n",
    "\n",
    "* Подсчитайте среднее значение и стандартное отклонение интенсивности пикселей для всех тренировочных данных\n",
    "* Нормализуйте данные с использованием этих параметров (используйте трансформацию `Normalize`)\n",
    "\n",
    "\n",
    "Оцените влияние нормировки данных."
   ]
  },
  {
   "cell_type": "code",
   "execution_count": 13,
   "metadata": {
    "id": "trUqUfg-OFJU"
   },
   "outputs": [],
   "source": [
    "from torchvision.transforms import ToTensor\n"
   ]
  },
  {
   "cell_type": "code",
   "execution_count": 19,
   "metadata": {
    "colab": {
     "base_uri": "https://localhost:8080/"
    },
    "id": "BTdJGcsHIn5f",
    "outputId": "0c4970fb-bb6d-4edb-ab14-f294764681f8"
   },
   "outputs": [
    {
     "name": "stderr",
     "output_type": "stream",
     "text": [
      "/usr/lib/python3.10/multiprocessing/popen_fork.py:66: RuntimeWarning: os.fork() was called. os.fork() is incompatible with multithreaded code, and JAX is multithreaded, so this will likely lead to a deadlock.\n",
      "  self.pid = os.fork()\n"
     ]
    },
    {
     "name": "stdout",
     "output_type": "stream",
     "text": [
      "Mean: tensor([0.1917])\n",
      "Std: tensor([0.3483])\n"
     ]
    }
   ],
   "source": [
    "#считаем среднее\n",
    "# загрузим данные\n",
    "transform1 = ToTensor()\n",
    "trainset1 = KMNIST(root=\"./KMNIST\", train=True, download=True, transform=transform1)\n",
    "trainloader1 = DataLoader(trainset1, batch_size=256, shuffle=False, num_workers=2)\n",
    "\n",
    "# функция для рассчета среднего и стандартного отклонения\n",
    "def calculate_mean_std(loader):\n",
    "    channels_sum, channels_squared_sum, num_batches = 0, 0, 0\n",
    "\n",
    "    for data, _ in loader:\n",
    "        channels_sum += torch.mean(data, dim=[0, 2, 3])\n",
    "        channels_squared_sum += torch.mean(data**2, dim=[0, 2, 3])\n",
    "        num_batches += 1\n",
    "\n",
    "    mean = channels_sum / num_batches\n",
    "    std = (channels_squared_sum / num_batches - mean**2)**0.5\n",
    "\n",
    "    return mean, std\n",
    "\n",
    "mean, std = calculate_mean_std(trainloader1)\n",
    "print(f\"Mean: {mean}\")\n",
    "print(f\"Std: {std}\")"
   ]
  },
  {
   "cell_type": "code",
   "execution_count": 20,
   "metadata": {
    "colab": {
     "base_uri": "https://localhost:8080/"
    },
    "id": "FHlDaYWGR6YA",
    "outputId": "0d73f466-7a04-4275-9850-214f2bd35fe2"
   },
   "outputs": [
    {
     "name": "stdout",
     "output_type": "stream",
     "text": [
      "0.1917 0.3483\n"
     ]
    }
   ],
   "source": [
    "mean = 0.1917\n",
    "std = 0.3483\n",
    "print(mean, std)\n",
    "\n",
    "transform_with_norm = torchvision.transforms.Compose([\n",
    "                torchvision.transforms.ToTensor(),\n",
    "                torchvision.transforms.Normalize(mean, std)\n",
    "            ])\n",
    "\n",
    "trainset.transform = transform_with_norm\n",
    "testset.transform = transform_with_norm"
   ]
  },
  {
   "cell_type": "code",
   "execution_count": 21,
   "metadata": {
    "id": "tKnvtxAtjty3"
   },
   "outputs": [],
   "source": [
    "trainset = KMNIST(root=\"./KMNIST\", train=True, download=True, transform=transform_with_norm)\n",
    "testset = KMNIST(root=\"./KMNIST\", train=False, download=True, transform=transform_with_norm)\n",
    "\n",
    "clear_output()"
   ]
  },
  {
   "cell_type": "code",
   "execution_count": 22,
   "metadata": {
    "id": "CaulnQPDZO2y"
   },
   "outputs": [],
   "source": [
    "trainloader = DataLoader(trainset, batch_size=batch_size, shuffle=True, num_workers=2)\n",
    "testloader = DataLoader(testset, batch_size=batch_size, shuffle=False, num_workers=2)\n",
    "\n"
   ]
  },
  {
   "cell_type": "code",
   "execution_count": 23,
   "metadata": {
    "id": "Qj93J3X_R6aa"
   },
   "outputs": [],
   "source": [
    "fc_net = FCNet()\n",
    "loss_function = nn.CrossEntropyLoss()\n",
    "optimizer = torch.optim.SGD(fc_net.parameters(), lr=3e-4)"
   ]
  },
  {
   "cell_type": "code",
   "execution_count": 24,
   "metadata": {
    "colab": {
     "base_uri": "https://localhost:8080/"
    },
    "id": "VWZtYBCvAoWQ",
    "outputId": "fbe63cc5-e18a-4939-ee32-7953ef1d3e65"
   },
   "outputs": [
    {
     "name": "stdout",
     "output_type": "stream",
     "text": [
      "Epoch=1 loss=2.2950\n",
      "Epoch=2 loss=2.2832\n",
      "Epoch=3 loss=2.2713\n",
      "Epoch=4 loss=2.2594\n",
      "Epoch=5 loss=2.2472\n",
      "Epoch=6 loss=2.2345\n",
      "Epoch=7 loss=2.2214\n",
      "Epoch=8 loss=2.2076\n",
      "Epoch=9 loss=2.1932\n",
      "Epoch=10 loss=2.1779\n"
     ]
    }
   ],
   "source": [
    "n_epochs = 10\n",
    "loss_history = []\n",
    "\n",
    "for epoch in range(n_epochs):\n",
    "    epoch_loss = 0\n",
    "    for images, labels in trainloader: # Получаем батч тренировочных картинок\n",
    "        optimizer.zero_grad() #  обнуляем градиенты\n",
    "        outputs = fc_net(images) # делаем предсказания\n",
    "        loss = loss_function(outputs, labels) # считаем лосс\n",
    "        loss.backward() # считаем градиенты\n",
    "        optimizer.step() # делаем шаг градиентного спуска\n",
    "\n",
    "        epoch_loss += loss.item()\n",
    "\n",
    "    loss_history.append(epoch_loss/len(trainloader))\n",
    "\n",
    "    print(f\"Epoch={epoch+1} loss={loss_history[epoch]:.4f}\")\n",
    "\n"
   ]
  },
  {
   "cell_type": "code",
   "execution_count": 25,
   "metadata": {
    "colab": {
     "base_uri": "https://localhost:8080/"
    },
    "id": "Gfbv9OIAAoYT",
    "outputId": "ea51404d-febb-4376-8346-a19621b558b7"
   },
   "outputs": [
    {
     "data": {
      "text/plain": [
       "0.3375"
      ]
     },
     "execution_count": 25,
     "metadata": {},
     "output_type": "execute_result"
    }
   ],
   "source": [
    "get_accuracy(fc_net, testloader)"
   ]
  },
  {
   "cell_type": "markdown",
   "metadata": {
    "id": "RcIJvhWkcjlh"
   },
   "source": [
    "Как изменилась `accuracy` после нормализации?"
   ]
  },
  {
   "cell_type": "code",
   "execution_count": null,
   "metadata": {
    "id": "G1LHKF2PsZ4U"
   },
   "outputs": [],
   "source": [
    "#увеличилось значение accuracy до 0.3375"
   ]
  },
  {
   "cell_type": "markdown",
   "metadata": {
    "id": "atcfzu4acxP2"
   },
   "source": [
    "### Задание 5. Изучение влияния функции активации\n",
    "\n",
    "**3** балла\n",
    "\n",
    "Исследуйте влияние функций активации на скорость обучения и точность предсказаний модели.\n",
    "\n",
    "Используйте три функции:\n",
    "\n",
    "* [Sigmoid](https://pytorch.org/docs/stable/nn.functional.html#sigmoid)\n",
    "* [GELU](https://pytorch.org/docs/stable/nn.functional.html#gelu)\n",
    "* [Tanh](https://pytorch.org/docs/stable/generated/torch.nn.Tanh.html#torch.nn.Tanh)"
   ]
  },
  {
   "cell_type": "code",
   "execution_count": 26,
   "metadata": {
    "id": "bAESPpjGa3M1"
   },
   "outputs": [],
   "source": [
    "#Sigmoid\n",
    "class FCNet(nn.Module):\n",
    "    def __init__(self):\n",
    "        super().__init__()\n",
    "        self.fc1 = nn.Linear(in_features=28*28, out_features=256)\n",
    "        self.fc2 = nn.Linear(in_features=256, out_features=128)\n",
    "        self.fc3 = nn.Linear(in_features=128, out_features=10)\n",
    "\n",
    "    def forward(self, x):\n",
    "        x = x.view(-1, 28*28)\n",
    "        x = self.fc1(x)\n",
    "        x = torch.sigmoid(x)\n",
    "        x = self.fc2(x)\n",
    "        x = torch.sigmoid(x)\n",
    "        x = self.fc3(x)\n",
    "        return x\n",
    "\n"
   ]
  },
  {
   "cell_type": "code",
   "execution_count": 27,
   "metadata": {
    "colab": {
     "base_uri": "https://localhost:8080/"
    },
    "id": "GdvHSFeKa2sW",
    "outputId": "37f4e908-ea94-43b1-804e-25649e88010b"
   },
   "outputs": [
    {
     "name": "stdout",
     "output_type": "stream",
     "text": [
      "Epoch=1 loss=2.1615\n",
      "Epoch=2 loss=2.1441\n",
      "Epoch=3 loss=2.1256\n",
      "Epoch=4 loss=2.1056\n",
      "Epoch=5 loss=2.0841\n",
      "Epoch=6 loss=2.0613\n",
      "Epoch=7 loss=2.0368\n",
      "Epoch=8 loss=2.0108\n",
      "Epoch=9 loss=1.9829\n",
      "Epoch=10 loss=1.9536\n"
     ]
    }
   ],
   "source": [
    "n_epochs = 10\n",
    "loss_history = []\n",
    "\n",
    "for epoch in range(n_epochs):\n",
    "    epoch_loss = 0\n",
    "    for images, labels in trainloader: # Получаем батч тренировочных картинок\n",
    "        optimizer.zero_grad() #  обнуляем градиенты\n",
    "        outputs = fc_net(images) # делаем предсказания\n",
    "        loss = loss_function(outputs, labels) # считаем лосс\n",
    "        loss.backward() # считаем градиенты\n",
    "        optimizer.step() # делаем шаг градиентного спуска\n",
    "\n",
    "        epoch_loss += loss.item()\n",
    "\n",
    "    loss_history.append(epoch_loss/len(trainloader))\n",
    "\n",
    "    print(f\"Epoch={epoch+1} loss={loss_history[epoch]:.4f}\")\n"
   ]
  },
  {
   "cell_type": "code",
   "execution_count": 28,
   "metadata": {
    "colab": {
     "base_uri": "https://localhost:8080/"
    },
    "id": "zBok8pXNa2vA",
    "outputId": "ca8537c1-e778-4fcf-a393-a33441d3c181"
   },
   "outputs": [
    {
     "data": {
      "text/plain": [
       "0.4121"
      ]
     },
     "execution_count": 28,
     "metadata": {},
     "output_type": "execute_result"
    }
   ],
   "source": [
    "get_accuracy(fc_net, testloader) #0.4121"
   ]
  },
  {
   "cell_type": "code",
   "execution_count": 29,
   "metadata": {
    "id": "KeS76rngnJHe"
   },
   "outputs": [],
   "source": [
    "#GELU\n",
    "class FCNet(nn.Module):\n",
    "    def __init__(self):\n",
    "        super().__init__()\n",
    "        self.fc1 = nn.Linear(in_features=28*28, out_features=256)\n",
    "        self.fc2 = nn.Linear(in_features=256, out_features=128)\n",
    "        self.fc3 = nn.Linear(in_features=128, out_features=10)\n",
    "\n",
    "    def forward(self, x):\n",
    "        x = x.view(-1, 28*28)\n",
    "        x = self.fc1(x)\n",
    "        x = F.gelu(x)\n",
    "        x = self.fc2(x)\n",
    "        x = F.gelu(x)\n",
    "        x = self.fc3(x)\n",
    "        return x"
   ]
  },
  {
   "cell_type": "code",
   "execution_count": 30,
   "metadata": {
    "colab": {
     "base_uri": "https://localhost:8080/"
    },
    "id": "uNWgDn_xnJTV",
    "outputId": "472c393c-321a-4c1d-a17d-7d3f81cf834e"
   },
   "outputs": [
    {
     "name": "stdout",
     "output_type": "stream",
     "text": [
      "Epoch=1 loss=1.9227\n",
      "Epoch=2 loss=1.8899\n",
      "Epoch=3 loss=1.8563\n",
      "Epoch=4 loss=1.8215\n",
      "Epoch=5 loss=1.7856\n",
      "Epoch=6 loss=1.7492\n",
      "Epoch=7 loss=1.7124\n",
      "Epoch=8 loss=1.6754\n",
      "Epoch=9 loss=1.6382\n",
      "Epoch=10 loss=1.6013\n"
     ]
    }
   ],
   "source": [
    "n_epochs = 10\n",
    "loss_history = []\n",
    "\n",
    "for epoch in range(n_epochs):\n",
    "    epoch_loss = 0\n",
    "    for images, labels in trainloader: # Получаем батч тренировочных картинок\n",
    "        optimizer.zero_grad() #  обнуляем градиенты\n",
    "        outputs = fc_net(images) # делаем предсказания\n",
    "        loss = loss_function(outputs, labels) # считаем лосс\n",
    "        loss.backward() # считаем градиенты\n",
    "        optimizer.step() # делаем шаг градиентного спуска\n",
    "\n",
    "        epoch_loss += loss.item()\n",
    "\n",
    "    loss_history.append(epoch_loss/len(trainloader))\n",
    "\n",
    "    print(f\"Epoch={epoch+1} loss={loss_history[epoch]:.4f}\")\n"
   ]
  },
  {
   "cell_type": "code",
   "execution_count": 31,
   "metadata": {
    "colab": {
     "base_uri": "https://localhost:8080/"
    },
    "id": "5SaqWhlkjuO3",
    "outputId": "3a6713fe-39b6-4584-dfe8-e47f87211634"
   },
   "outputs": [
    {
     "data": {
      "text/plain": [
       "0.4742"
      ]
     },
     "execution_count": 31,
     "metadata": {},
     "output_type": "execute_result"
    }
   ],
   "source": [
    "get_accuracy(fc_net, testloader) #0.4742"
   ]
  },
  {
   "cell_type": "code",
   "execution_count": 32,
   "metadata": {
    "id": "i4qC3DYsofoA"
   },
   "outputs": [],
   "source": [
    "#Tanh\n",
    "class FCNet(nn.Module):\n",
    "    def __init__(self):\n",
    "        super().__init__()\n",
    "        self.fc1 = nn.Linear(in_features=28*28, out_features=256)\n",
    "        self.fc2 = nn.Linear(in_features=256, out_features=128)\n",
    "        self.fc3 = nn.Linear(in_features=128, out_features=10)\n",
    "\n",
    "    def forward(self, x):\n",
    "        x = x.view(-1, 28*28)\n",
    "        x = self.fc1(x)\n",
    "        x = torch.tanh(x)\n",
    "        x = self.fc2(x)\n",
    "        x = torch.tanh(x)\n",
    "        x = self.fc3(x)\n",
    "        return x"
   ]
  },
  {
   "cell_type": "code",
   "execution_count": 33,
   "metadata": {
    "colab": {
     "base_uri": "https://localhost:8080/"
    },
    "id": "Ye29mdmfof2f",
    "outputId": "ee8b7dc3-372d-4a6c-9335-b1a7d699d21f"
   },
   "outputs": [
    {
     "name": "stdout",
     "output_type": "stream",
     "text": [
      "Epoch=1 loss=1.5649\n",
      "Epoch=2 loss=1.5288\n",
      "Epoch=3 loss=1.4940\n",
      "Epoch=4 loss=1.4598\n",
      "Epoch=5 loss=1.4263\n",
      "Epoch=6 loss=1.3940\n",
      "Epoch=7 loss=1.3629\n",
      "Epoch=8 loss=1.3331\n",
      "Epoch=9 loss=1.3039\n",
      "Epoch=10 loss=1.2768\n"
     ]
    }
   ],
   "source": [
    "n_epochs = 10\n",
    "loss_history = []\n",
    "\n",
    "for epoch in range(n_epochs):\n",
    "    epoch_loss = 0\n",
    "    for images, labels in trainloader: # Получаем батч тренировочных картинок\n",
    "        optimizer.zero_grad() #  обнуляем градиенты\n",
    "        outputs = fc_net(images) # делаем предсказания\n",
    "        loss = loss_function(outputs, labels) # считаем лосс\n",
    "        loss.backward() # считаем градиенты\n",
    "        optimizer.step() # делаем шаг градиентного спуска\n",
    "\n",
    "        epoch_loss += loss.item()\n",
    "\n",
    "    loss_history.append(epoch_loss/len(trainloader))\n",
    "\n",
    "    print(f\"Epoch={epoch+1} loss={loss_history[epoch]:.4f}\")\n"
   ]
  },
  {
   "cell_type": "code",
   "execution_count": 34,
   "metadata": {
    "colab": {
     "base_uri": "https://localhost:8080/"
    },
    "id": "IxUcVNurpD32",
    "outputId": "1071c445-b013-4b7b-a619-a3d54468cc4a"
   },
   "outputs": [
    {
     "data": {
      "text/plain": [
       "0.5314"
      ]
     },
     "execution_count": 34,
     "metadata": {},
     "output_type": "execute_result"
    }
   ],
   "source": [
    "get_accuracy(fc_net, testloader) #0.5314 максимальное значение для #Tanh"
   ]
  },
  {
   "cell_type": "markdown",
   "metadata": {
    "id": "aG2Oyxy2egVV"
   },
   "source": [
    "С использованием какой функции активации удалось досчить наибольшей `accuracy`?\n",
    "для #Tanh"
   ]
  },
  {
   "cell_type": "markdown",
   "metadata": {
    "id": "20Ls3Bfsifqd"
   },
   "source": [
    "### Задание 6. Другие оптимизаторы\n",
    "\n",
    "**4** балла\n",
    "\n",
    "Исследуйте влияние оптимизаторов на скорость обучения и точность предсказаний модели.\n",
    "\n",
    "Попробуйте следующие:\n",
    "\n",
    "* [Adam](https://pytorch.org/docs/stable/generated/torch.optim.Adam.html#torch.optim.Adam)\n",
    "* [RMSprop](https://pytorch.org/docs/stable/generated/torch.optim.RMSprop.html#torch.optim.RMSprop)\n",
    "* [Adagrad](https://pytorch.org/docs/stable/generated/torch.optim.Adagrad.html#torch.optim.Adagrad)\n",
    "\n",
    "Вам нужно снова обучить 3 модели и сравнить их перформанс (функцию активации используйте ту, которая показала себя лучше всего)."
   ]
  },
  {
   "cell_type": "code",
   "execution_count": 35,
   "metadata": {
    "id": "4TLaGw4-3Q8H"
   },
   "outputs": [],
   "source": [
    "#Adam\n",
    "import torch.optim as optim\n",
    "optimizer = torch.optim.Adam(fc_net.parameters(), lr=3e-4)"
   ]
  },
  {
   "cell_type": "code",
   "execution_count": 36,
   "metadata": {
    "id": "CDWFlFML3RT-"
   },
   "outputs": [],
   "source": [
    "class FCNet(nn.Module):\n",
    "    def __init__(self):\n",
    "        super().__init__()\n",
    "        self.fc1 = nn.Linear(in_features=28*28, out_features=256)\n",
    "        self.fc2 = nn.Linear(in_features=256, out_features=128)\n",
    "        self.fc3 = nn.Linear(in_features=128, out_features=10)\n",
    "\n",
    "    def forward(self, x):\n",
    "        x = x.view(-1, 28*28)\n",
    "        x = self.fc1(x)\n",
    "        x = torch.tanh(x)\n",
    "        x = self.fc2(x)\n",
    "        x = torch.tanh(x)\n",
    "        x = self.fc3(x)\n",
    "        return x"
   ]
  },
  {
   "cell_type": "code",
   "execution_count": 37,
   "metadata": {
    "colab": {
     "base_uri": "https://localhost:8080/"
    },
    "id": "Rel38TMP3Rf8",
    "outputId": "adac4c84-17c7-4c77-b9a0-e4ea59301762"
   },
   "outputs": [
    {
     "name": "stdout",
     "output_type": "stream",
     "text": [
      "Epoch=1 loss=0.5147\n",
      "Epoch=2 loss=0.2795\n",
      "Epoch=3 loss=0.2045\n",
      "Epoch=4 loss=0.1573\n",
      "Epoch=5 loss=0.1253\n",
      "Epoch=6 loss=0.1003\n",
      "Epoch=7 loss=0.0813\n",
      "Epoch=8 loss=0.0649\n",
      "Epoch=9 loss=0.0526\n",
      "Epoch=10 loss=0.0421\n"
     ]
    }
   ],
   "source": [
    "n_epochs = 10\n",
    "loss_history = []\n",
    "\n",
    "for epoch in range(n_epochs):\n",
    "    epoch_loss = 0\n",
    "    for images, labels in trainloader: # Получаем батч тренировочных картинок\n",
    "        optimizer.zero_grad() #  обнуляем градиенты\n",
    "        outputs = fc_net(images) # делаем предсказания\n",
    "        loss = loss_function(outputs, labels) # считаем лосс\n",
    "        loss.backward() # считаем градиенты\n",
    "        optimizer.step() # делаем шаг градиентного спуска\n",
    "\n",
    "        epoch_loss += loss.item()\n",
    "\n",
    "    loss_history.append(epoch_loss/len(trainloader))\n",
    "\n",
    "    print(f\"Epoch={epoch+1} loss={loss_history[epoch]:.4f}\")"
   ]
  },
  {
   "cell_type": "code",
   "execution_count": 38,
   "metadata": {
    "colab": {
     "base_uri": "https://localhost:8080/"
    },
    "id": "ukbq8znz361K",
    "outputId": "77a628c7-28a1-43c8-e180-60560ef3d8c9"
   },
   "outputs": [
    {
     "data": {
      "text/plain": [
       "0.8984"
      ]
     },
     "execution_count": 38,
     "metadata": {},
     "output_type": "execute_result"
    }
   ],
   "source": [
    "get_accuracy(fc_net, testloader) #0.8984"
   ]
  },
  {
   "cell_type": "code",
   "execution_count": 39,
   "metadata": {
    "id": "rzL2LdA-ifJh"
   },
   "outputs": [],
   "source": [
    "#RMSprop\n",
    "import torch.optim as optim\n",
    "optimizer = optim.RMSprop(fc_net.parameters(), lr=3e-4)"
   ]
  },
  {
   "cell_type": "code",
   "execution_count": 40,
   "metadata": {
    "id": "BXRNzlJhb9W1"
   },
   "outputs": [],
   "source": [
    "class FCNet(nn.Module):\n",
    "    def __init__(self):\n",
    "        super().__init__()\n",
    "        self.fc1 = nn.Linear(in_features=28*28, out_features=256)\n",
    "        self.fc2 = nn.Linear(in_features=256, out_features=128)\n",
    "        self.fc3 = nn.Linear(in_features=128, out_features=10)\n",
    "\n",
    "    def forward(self, x):\n",
    "        x = x.view(-1, 28*28)\n",
    "        x = self.fc1(x)\n",
    "        x = torch.tanh(x)\n",
    "        x = self.fc2(x)\n",
    "        x = torch.tanh(x)\n",
    "        x = self.fc3(x)\n",
    "        return x"
   ]
  },
  {
   "cell_type": "code",
   "execution_count": 41,
   "metadata": {
    "colab": {
     "base_uri": "https://localhost:8080/"
    },
    "id": "xc1q4E7DbXEa",
    "outputId": "e27d9343-02be-408e-e02b-b8fa90ee606e"
   },
   "outputs": [
    {
     "name": "stdout",
     "output_type": "stream",
     "text": [
      "Epoch=1 loss=0.0509\n",
      "Epoch=2 loss=0.0309\n",
      "Epoch=3 loss=0.0245\n",
      "Epoch=4 loss=0.0194\n",
      "Epoch=5 loss=0.0160\n",
      "Epoch=6 loss=0.0127\n",
      "Epoch=7 loss=0.0098\n",
      "Epoch=8 loss=0.0119\n",
      "Epoch=9 loss=0.0054\n",
      "Epoch=10 loss=0.0081\n"
     ]
    }
   ],
   "source": [
    "n_epochs = 10\n",
    "loss_history = []\n",
    "\n",
    "for epoch in range(n_epochs):\n",
    "    epoch_loss = 0\n",
    "    for images, labels in trainloader: # Получаем батч тренировочных картинок\n",
    "        optimizer.zero_grad() #  обнуляем градиенты\n",
    "        outputs = fc_net(images) # делаем предсказания\n",
    "        loss = loss_function(outputs, labels) # считаем лосс\n",
    "        loss.backward() # считаем градиенты\n",
    "        optimizer.step() # делаем шаг градиентного спуска\n",
    "\n",
    "        epoch_loss += loss.item()\n",
    "\n",
    "    loss_history.append(epoch_loss/len(trainloader))\n",
    "\n",
    "    print(f\"Epoch={epoch+1} loss={loss_history[epoch]:.4f}\")"
   ]
  },
  {
   "cell_type": "code",
   "execution_count": 42,
   "metadata": {
    "colab": {
     "base_uri": "https://localhost:8080/"
    },
    "id": "lReOEF80gX-X",
    "outputId": "c6919412-f6a3-40c7-fdce-99f6c4ace450"
   },
   "outputs": [
    {
     "data": {
      "text/plain": [
       "0.9061"
      ]
     },
     "execution_count": 42,
     "metadata": {},
     "output_type": "execute_result"
    }
   ],
   "source": [
    "get_accuracy(fc_net, testloader) #0.9061"
   ]
  },
  {
   "cell_type": "code",
   "execution_count": 43,
   "metadata": {
    "id": "GMzEpgyaF1pt"
   },
   "outputs": [],
   "source": [
    "#Adagrad\n",
    "optimizer = optim.Adagrad(fc_net.parameters(), lr=3e-4)\n"
   ]
  },
  {
   "cell_type": "code",
   "execution_count": 44,
   "metadata": {
    "id": "269e7xBN4lO0"
   },
   "outputs": [],
   "source": [
    "class FCNet(nn.Module):\n",
    "    def __init__(self):\n",
    "        super().__init__()\n",
    "        self.fc1 = nn.Linear(in_features=28*28, out_features=256)\n",
    "        self.fc2 = nn.Linear(in_features=256, out_features=128)\n",
    "        self.fc3 = nn.Linear(in_features=128, out_features=10)\n",
    "\n",
    "    def forward(self, x):\n",
    "        x = x.view(-1, 28*28)\n",
    "        x = self.fc1(x)\n",
    "        x = torch.tanh(x)\n",
    "        x = self.fc2(x)\n",
    "        x = torch.tanh(x)\n",
    "        x = self.fc3(x)\n",
    "        return x"
   ]
  },
  {
   "cell_type": "code",
   "execution_count": 45,
   "metadata": {
    "colab": {
     "base_uri": "https://localhost:8080/"
    },
    "id": "lpmFns_hWAVC",
    "outputId": "a8225e5a-124d-42fc-e79e-66dd0b7e87ff"
   },
   "outputs": [
    {
     "name": "stdout",
     "output_type": "stream",
     "text": [
      "Epoch=1 loss=0.0019\n",
      "Epoch=2 loss=0.0014\n",
      "Epoch=3 loss=0.0013\n",
      "Epoch=4 loss=0.0012\n",
      "Epoch=5 loss=0.0011\n",
      "Epoch=6 loss=0.0011\n",
      "Epoch=7 loss=0.0010\n",
      "Epoch=8 loss=0.0010\n",
      "Epoch=9 loss=0.0010\n",
      "Epoch=10 loss=0.0010\n"
     ]
    }
   ],
   "source": [
    "n_epochs = 10\n",
    "loss_history = []\n",
    "\n",
    "for epoch in range(n_epochs):\n",
    "    epoch_loss = 0\n",
    "    for images, labels in trainloader: # Получаем батч тренировочных картинок\n",
    "        optimizer.zero_grad() #  обнуляем градиенты\n",
    "        outputs = fc_net(images) # делаем предсказания\n",
    "        loss = loss_function(outputs, labels) # считаем лосс\n",
    "        loss.backward() # считаем градиенты\n",
    "        optimizer.step() # делаем шаг градиентного спуска\n",
    "\n",
    "        epoch_loss += loss.item()\n",
    "\n",
    "    loss_history.append(epoch_loss/len(trainloader))\n",
    "\n",
    "    print(f\"Epoch={epoch+1} loss={loss_history[epoch]:.4f}\")"
   ]
  },
  {
   "cell_type": "code",
   "execution_count": 46,
   "metadata": {
    "colab": {
     "base_uri": "https://localhost:8080/"
    },
    "id": "x5TT_QeEgmPQ",
    "outputId": "ae6ad1a4-dae7-4db7-e515-a8b8e7fdb77b"
   },
   "outputs": [
    {
     "data": {
      "text/plain": [
       "0.908"
      ]
     },
     "execution_count": 46,
     "metadata": {},
     "output_type": "execute_result"
    }
   ],
   "source": [
    "get_accuracy(fc_net, testloader) #0.908 лучший результат для Adagrad"
   ]
  },
  {
   "cell_type": "markdown",
   "metadata": {
    "id": "eHA48PsperxS"
   },
   "source": [
    "### Задание 7. Реализация ReLU\n",
    "\n",
    "**4** балла\n",
    "\n",
    "Самостоятельно реализуйте функцию активации ReLU.\n",
    "Замените в уже обученной модели функцию активации на вашу. Убедитесь что ничего не изменилась."
   ]
  },
  {
   "cell_type": "code",
   "execution_count": 47,
   "metadata": {
    "id": "63uTkUp-a2xr"
   },
   "outputs": [],
   "source": [
    "class CustomReLU(nn.Module):\n",
    "    def __init__(self):\n",
    "        super().__init__()\n",
    "\n",
    "    def forward(self, x):\n",
    "        return torch.max(torch.tensor(0.0), x)\n"
   ]
  },
  {
   "cell_type": "markdown",
   "metadata": {
    "id": "xsKzxa33fhbN"
   },
   "source": [
    "Заново обучите модель и проверьте правильность реализации `CustomReLU`."
   ]
  },
  {
   "cell_type": "code",
   "execution_count": 48,
   "metadata": {
    "id": "ePP55RBeecYh"
   },
   "outputs": [],
   "source": [
    "class FCNet(nn.Module):\n",
    "    def __init__(self):\n",
    "        super().__init__() #  это надо помнить!\n",
    "\n",
    "        self.fc1 = nn.Linear(in_features=28*28, out_features=256)\n",
    "        self.fc2 = nn.Linear(in_features=256, out_features=128)\n",
    "        self.fc3 = nn.Linear(in_features=128, out_features=10)\n",
    "        self.relu = CustomReLU()\n",
    "\n",
    "\n",
    "\n",
    "    def forward(self, x):  # Forward вызывается внутри метода __call__ родительского класса\n",
    "        ## x -> тензор размерности (BATCH_SIZE, N_CHANNELS, WIDTH, HEIGHT)\n",
    "        ## надо подумать над тем, что у нас полносвязные слои принимают векторы\n",
    "\n",
    "        x = x.view(-1, 28*28) # переведем картинку в вектор\n",
    "        x = self.fc1(x)\n",
    "        x = self.relu(x)\n",
    "        x = self.fc2(x)\n",
    "        x = self.relu(x)\n",
    "        x = self.fc3(x)\n",
    "\n",
    "        return x"
   ]
  },
  {
   "cell_type": "code",
   "execution_count": 49,
   "metadata": {
    "id": "KDe9sB-FCyy5"
   },
   "outputs": [],
   "source": [
    "fc_net = FCNet()\n",
    "# Определим функцию потерь\n",
    "loss_function = nn.CrossEntropyLoss()\n",
    "# Создадим оптимизатор для нашей сети\n",
    "optimizer = torch.optim.SGD(fc_net.parameters(), lr=3e-4)"
   ]
  },
  {
   "cell_type": "code",
   "execution_count": 50,
   "metadata": {
    "colab": {
     "base_uri": "https://localhost:8080/"
    },
    "id": "aVJiJd8RCzWH",
    "outputId": "aff5d4c4-92af-47db-d689-c1721b59a5b5"
   },
   "outputs": [
    {
     "name": "stdout",
     "output_type": "stream",
     "text": [
      "Epoch=1 loss=2.3042\n",
      "Epoch=2 loss=2.2939\n",
      "Epoch=3 loss=2.2837\n",
      "Epoch=4 loss=2.2733\n",
      "Epoch=5 loss=2.2626\n",
      "Epoch=6 loss=2.2516\n",
      "Epoch=7 loss=2.2400\n",
      "Epoch=8 loss=2.2279\n",
      "Epoch=9 loss=2.2150\n",
      "Epoch=10 loss=2.2013\n"
     ]
    }
   ],
   "source": [
    "n_epochs = 10\n",
    "loss_history = []\n",
    "\n",
    "for epoch in range(n_epochs):\n",
    "    epoch_loss = 0\n",
    "    for images, labels in trainloader: # Получаем батч тренировочных картинок\n",
    "        optimizer.zero_grad() #  обнуляем градиенты\n",
    "        outputs = fc_net(images) # делаем предсказания\n",
    "        loss = loss_function(outputs, labels) # считаем лосс\n",
    "        loss.backward() # считаем градиенты\n",
    "        optimizer.step() # делаем шаг градиентного спуска\n",
    "\n",
    "        epoch_loss += loss.item()\n",
    "\n",
    "    loss_history.append(epoch_loss/len(trainloader))\n",
    "\n",
    "    print(f\"Epoch={epoch+1} loss={loss_history[epoch]:.4f}\")"
   ]
  },
  {
   "cell_type": "code",
   "execution_count": 53,
   "metadata": {
    "colab": {
     "base_uri": "https://localhost:8080/"
    },
    "id": "sSUDwIeQDcV_",
    "outputId": "e954642d-c3dc-44bf-d916-57493dfcd9d5"
   },
   "outputs": [
    {
     "data": {
      "text/plain": [
       "0.2753"
      ]
     },
     "execution_count": 53,
     "metadata": {},
     "output_type": "execute_result"
    }
   ],
   "source": [
    "get_accuracy(fc_net, testloader) #результат сравнимый #0.2753 при использовании  optimizer = torch.optim.SGD(fc_net.parameters(), lr=3e-4)"
   ]
  },
  {
   "cell_type": "markdown",
   "metadata": {
    "id": "vWBG1mMwgN17"
   },
   "source": [
    "### Задание 8. Генерация картинок\n",
    "\n",
    "**3** балла\n",
    "\n",
    "Придумайте 3 предложения и сгенерируйте при помощи них 3 картинки, используя телеграм бота [ruDALLE](https://t.me/sber_rudalle_xl_bot). Прикрепите сюда ваши картины."
   ]
  },
  {
   "cell_type": "code",
   "execution_count": 1,
   "metadata": {
    "colab": {
     "base_uri": "https://localhost:8080/",
     "height": 532
    },
    "id": "QMuwgvZLrdLi",
    "outputId": "dffdc7c8-3147-4fbb-8a54-11b061324c7c"
   },
   "outputs": [
    {
     "data": {
      "text/html": [
       "<img src=\"https://github.com/zhurkr/BI-ml-2024/blob/main/lecture_8_pytorch/homework/A.jpg?raw=true\"/>"
      ],
      "text/plain": [
       "<IPython.core.display.Image object>"
      ]
     },
     "execution_count": 1,
     "metadata": {},
     "output_type": "execute_result"
    }
   ],
   "source": [
    "from IPython.display import Image\n",
    "\n",
    "#Русские ученые выделяют ДНК из древних костей\n",
    "Image(url='https://github.com/zhurkr/BI-ml-2024/blob/main/lecture_8_pytorch/homework/A.jpg?raw=true')\n"
   ]
  },
  {
   "cell_type": "code",
   "execution_count": 2,
   "metadata": {
    "colab": {
     "base_uri": "https://localhost:8080/",
     "height": 532
    },
    "id": "TbBlDZ7Epiv8",
    "outputId": "03955dc1-c4c7-45da-f897-7b5b32e82115"
   },
   "outputs": [
    {
     "data": {
      "text/html": [
       "<img src=\"https://github.com/zhurkr/BI-ml-2024/blob/main/lecture_8_pytorch/homework/NEV.jpg?raw=true\"/>"
      ],
      "text/plain": [
       "<IPython.core.display.Image object>"
      ]
     },
     "execution_count": 2,
     "metadata": {},
     "output_type": "execute_result"
    }
   ],
   "source": [
    "\n",
    "#Сын Александра Невского едет из монголии со своим  сыном, рожденным от дочери монгольского хана\n",
    "Image(url='https://github.com/zhurkr/BI-ml-2024/blob/main/lecture_8_pytorch/homework/NEV.jpg?raw=true')"
   ]
  },
  {
   "cell_type": "code",
   "execution_count": 3,
   "metadata": {
    "colab": {
     "base_uri": "https://localhost:8080/",
     "height": 532
    },
    "id": "ZBjQ0jbKpjkh",
    "outputId": "a817dd79-449a-46d4-b0d7-ca1bed82d475"
   },
   "outputs": [
    {
     "data": {
      "text/html": [
       "<img src=\"https://github.com/zhurkr/BI-ml-2024/blob/main/lecture_8_pytorch/homework/NGS.jpg?raw=true\"/>"
      ],
      "text/plain": [
       "<IPython.core.display.Image object>"
      ]
     },
     "execution_count": 3,
     "metadata": {},
     "output_type": "execute_result"
    }
   ],
   "source": [
    "#В россии изобрели отечественный секвенатор\n",
    "Image(url='https://github.com/zhurkr/BI-ml-2024/blob/main/lecture_8_pytorch/homework/NGS.jpg?raw=true')\n"
   ]
  },
  {
   "cell_type": "markdown",
   "metadata": {
    "id": "7xzJ7KvsptDj"
   },
   "source": []
  }
 ],
 "metadata": {
  "colab": {
   "provenance": []
  },
  "kernelspec": {
   "display_name": "Python 3",
   "language": "python",
   "name": "python3"
  },
  "language_info": {
   "codemirror_mode": {
    "name": "ipython",
    "version": 3
   },
   "file_extension": ".py",
   "mimetype": "text/x-python",
   "name": "python",
   "nbconvert_exporter": "python",
   "pygments_lexer": "ipython3",
   "version": "3.6.9"
  }
 },
 "nbformat": 4,
 "nbformat_minor": 1
}
